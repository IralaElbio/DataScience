{
  "cells": [
    {
      "cell_type": "markdown",
      "metadata": {
        "id": "view-in-github",
        "colab_type": "text"
      },
      "source": [
        "<a href=\"https://colab.research.google.com/github/IralaElbio/DataScience/blob/main/XGBoost.ipynb\" target=\"_parent\"><img src=\"https://colab.research.google.com/assets/colab-badge.svg\" alt=\"Open In Colab\"/></a>"
      ]
    },
    {
      "cell_type": "code",
      "execution_count": null,
      "metadata": {
        "colab": {
          "base_uri": "https://localhost:8080/"
        },
        "id": "ZvtsaJLTnANe",
        "outputId": "493aa1d4-584c-46fe-f988-467986c04450"
      },
      "outputs": [
        {
          "output_type": "stream",
          "name": "stdout",
          "text": [
            "Collecting category_encoders\n",
            "  Downloading category_encoders-2.6.3-py2.py3-none-any.whl (81 kB)\n",
            "\u001b[2K     \u001b[90m━━━━━━━━━━━━━━━━━━━━━━━━━━━━━━━━━━━━━━━━\u001b[0m \u001b[32m81.9/81.9 kB\u001b[0m \u001b[31m681.5 kB/s\u001b[0m eta \u001b[36m0:00:00\u001b[0m\n",
            "\u001b[?25hRequirement already satisfied: numpy>=1.14.0 in /usr/local/lib/python3.10/dist-packages (from category_encoders) (1.23.5)\n",
            "Requirement already satisfied: scikit-learn>=0.20.0 in /usr/local/lib/python3.10/dist-packages (from category_encoders) (1.2.2)\n",
            "Requirement already satisfied: scipy>=1.0.0 in /usr/local/lib/python3.10/dist-packages (from category_encoders) (1.11.4)\n",
            "Requirement already satisfied: statsmodels>=0.9.0 in /usr/local/lib/python3.10/dist-packages (from category_encoders) (0.14.1)\n",
            "Requirement already satisfied: pandas>=1.0.5 in /usr/local/lib/python3.10/dist-packages (from category_encoders) (1.5.3)\n",
            "Requirement already satisfied: patsy>=0.5.1 in /usr/local/lib/python3.10/dist-packages (from category_encoders) (0.5.4)\n",
            "Requirement already satisfied: python-dateutil>=2.8.1 in /usr/local/lib/python3.10/dist-packages (from pandas>=1.0.5->category_encoders) (2.8.2)\n",
            "Requirement already satisfied: pytz>=2020.1 in /usr/local/lib/python3.10/dist-packages (from pandas>=1.0.5->category_encoders) (2023.3.post1)\n",
            "Requirement already satisfied: six in /usr/local/lib/python3.10/dist-packages (from patsy>=0.5.1->category_encoders) (1.16.0)\n",
            "Requirement already satisfied: joblib>=1.1.1 in /usr/local/lib/python3.10/dist-packages (from scikit-learn>=0.20.0->category_encoders) (1.3.2)\n",
            "Requirement already satisfied: threadpoolctl>=2.0.0 in /usr/local/lib/python3.10/dist-packages (from scikit-learn>=0.20.0->category_encoders) (3.2.0)\n",
            "Requirement already satisfied: packaging>=21.3 in /usr/local/lib/python3.10/dist-packages (from statsmodels>=0.9.0->category_encoders) (23.2)\n",
            "Installing collected packages: category_encoders\n",
            "Successfully installed category_encoders-2.6.3\n"
          ]
        }
      ],
      "source": [
        "pip install category_encoders"
      ]
    },
    {
      "cell_type": "code",
      "execution_count": null,
      "metadata": {
        "id": "CsqehXVLlMGw",
        "colab": {
          "base_uri": "https://localhost:8080/"
        },
        "outputId": "d44cec68-dac8-4874-fd33-6571adf783f9"
      },
      "outputs": [
        {
          "output_type": "stream",
          "name": "stdout",
          "text": [
            "Mounted at /content/drive\n"
          ]
        }
      ],
      "source": [
        "from google.colab import drive\n",
        "drive.mount('/content/drive')"
      ]
    },
    {
      "cell_type": "code",
      "execution_count": null,
      "metadata": {
        "id": "ePR1MbQV5O42"
      },
      "outputs": [],
      "source": [
        "import pandas as pd\n",
        "from sklearn.utils import shuffle\n",
        "from sklearn.preprocessing import OneHotEncoder\n",
        "from sklearn.model_selection import GroupShuffleSplit\n",
        "import ast\n",
        "from sklearn.utils import resample\n",
        "import category_encoders as ce\n",
        "from sklearn.metrics import f1_score\n",
        "from sklearn.metrics import classification_report\n",
        "from sklearn.model_selection import RandomizedSearchCV\n",
        "from sklearn.model_selection import GridSearchCV\n",
        "import xgboost as xgb"
      ]
    },
    {
      "cell_type": "code",
      "execution_count": null,
      "metadata": {
        "id": "_RkzCbk5lP-h"
      },
      "outputs": [],
      "source": [
        "data = pd.read_parquet(\"/content/drive/MyDrive/dataset_v2/train.parq\")\n",
        "Shodan = pd.read_csv(\"/content/drive/MyDrive/dataset_v2/shodan_df_hashed.csv\")"
      ]
    },
    {
      "cell_type": "code",
      "source": [
        "data.drop_duplicates(subset =[\"watcher_as_num\",\"attacker_ip_enum\",\"attack_type\"], inplace = True)\n",
        "\n",
        "data.drop([\"watcher_as_num\", \"watcher_uuid_enum\",\"attacker_as_num\",\"attack_time\"],axis = 1,inplace = True)"
      ],
      "metadata": {
        "id": "XMHMdttD8mfZ"
      },
      "execution_count": null,
      "outputs": []
    },
    {
      "cell_type": "markdown",
      "source": [
        "lower the names because maybe there are names that differ with only a capital letter"
      ],
      "metadata": {
        "id": "YIf75_VcTc4f"
      }
    },
    {
      "cell_type": "code",
      "execution_count": null,
      "metadata": {
        "id": "nrhqFldvtj0M"
      },
      "outputs": [],
      "source": [
        "RANDOM_STATE = 14\n",
        "data[\"attacker_as_name\"] = data[\"attacker_as_name\"].map(lambda x: x.lower())\n",
        "data[\"watcher_as_name\"] = data[\"watcher_as_name\"].map(lambda x: x.lower())"
      ]
    },
    {
      "cell_type": "markdown",
      "metadata": {
        "id": "uQkcqVD_a4P8"
      },
      "source": [
        "# info df"
      ]
    },
    {
      "cell_type": "markdown",
      "metadata": {
        "id": "yu8xyL7HaV1d"
      },
      "source": [
        "null analisis"
      ]
    },
    {
      "cell_type": "code",
      "execution_count": null,
      "metadata": {
        "colab": {
          "base_uri": "https://localhost:8080/"
        },
        "id": "Wdwtgv0VZDiz",
        "outputId": "d37ba24c-01c0-497d-8141-4e4c17dfb9d2"
      },
      "outputs": [
        {
          "output_type": "execute_result",
          "data": {
            "text/plain": [
              "watcher_country     0.658598\n",
              "watcher_as_name     0.658311\n",
              "attacker_country    0.020323\n",
              "attacker_as_name    0.073945\n",
              "attack_type         0.000000\n",
              "attacker_ip_enum    0.000000\n",
              "label               0.000000\n",
              "dtype: float64"
            ]
          },
          "metadata": {},
          "execution_count": 7
        }
      ],
      "source": [
        "data.isna().sum()/data.shape[0] * 100"
      ]
    },
    {
      "cell_type": "markdown",
      "metadata": {
        "id": "Tas7rT0Sa67x"
      },
      "source": [
        "add unknown category to the null data"
      ]
    },
    {
      "cell_type": "code",
      "execution_count": null,
      "metadata": {
        "id": "fVGXz4TvaWZO"
      },
      "outputs": [],
      "source": [
        "data[\"attacker_as_name\"].fillna(\"unknown\", inplace = True)\n",
        "data[\"watcher_as_name\"].fillna(\"unknown\", inplace = True)\n",
        "\n",
        "data[\"attacker_country\"] = data[\"attacker_country\"].cat.add_categories(\"unknown\")\n",
        "data[\"attacker_country\"].fillna(\"unknown\", inplace = True)"
      ]
    },
    {
      "cell_type": "markdown",
      "metadata": {
        "id": "uGxyF7Z1a8pt"
      },
      "source": [
        "no hay nulos"
      ]
    },
    {
      "cell_type": "code",
      "execution_count": null,
      "metadata": {
        "colab": {
          "base_uri": "https://localhost:8080/"
        },
        "id": "H6TEYFamamU-",
        "outputId": "185be9de-77f7-4adf-913b-343217280cce"
      },
      "outputs": [
        {
          "output_type": "execute_result",
          "data": {
            "text/plain": [
              "watcher_country     0.658598\n",
              "watcher_as_name     0.000000\n",
              "attacker_country    0.000000\n",
              "attacker_as_name    0.000000\n",
              "attack_type         0.000000\n",
              "attacker_ip_enum    0.000000\n",
              "label               0.000000\n",
              "dtype: float64"
            ]
          },
          "metadata": {},
          "execution_count": 9
        }
      ],
      "source": [
        "data.isna().sum()/data.shape[0] * 100"
      ]
    },
    {
      "cell_type": "markdown",
      "metadata": {
        "id": "TE9q0-vJsuVB"
      },
      "source": [
        "# feature engineering"
      ]
    },
    {
      "cell_type": "markdown",
      "source": [
        "## concatenate the names of the countries"
      ],
      "metadata": {
        "id": "jtRMGO1V5YfH"
      }
    },
    {
      "cell_type": "code",
      "source": [
        "data[\"Countries\"] = data[\"watcher_country\"].astype(str) + \"-\" + data[\"attacker_country\"].astype(str)"
      ],
      "metadata": {
        "id": "yY5dCNKr5ayx"
      },
      "execution_count": null,
      "outputs": []
    },
    {
      "cell_type": "code",
      "source": [
        "data.drop([\"watcher_country\",\"attacker_country\"], axis = 1, inplace = True)"
      ],
      "metadata": {
        "id": "hSM23wKg6UbJ"
      },
      "execution_count": null,
      "outputs": []
    },
    {
      "cell_type": "markdown",
      "metadata": {
        "id": "F5vIorFvSXYQ"
      },
      "source": [
        "## Shodan Ports\n"
      ]
    },
    {
      "cell_type": "markdown",
      "source": [
        "Functions to separate ports and protocols"
      ],
      "metadata": {
        "id": "ym9uU-i0pTUX"
      }
    },
    {
      "cell_type": "code",
      "execution_count": null,
      "metadata": {
        "id": "njp_4R7bSXYR"
      },
      "outputs": [],
      "source": [
        "def Port(keys):\n",
        "  res = set()\n",
        "  if len(keys) == 0:\n",
        "    res.add(\"unknown\")\n",
        "    return res\n",
        "  for key in keys:\n",
        "    puerto = key.split(\"/\")[0]\n",
        "    res.add(puerto)\n",
        "  return res\n",
        "\n",
        "\n",
        "def Protocol(keys):\n",
        "  res = set()\n",
        "  if len(keys) == 0:\n",
        "    res.add(\"unknown\")\n",
        "    return res\n",
        "  for key in keys:\n",
        "    puerto = key.split(\"/\")[1]\n",
        "    res.add(puerto)\n",
        "  return res"
      ]
    },
    {
      "cell_type": "code",
      "execution_count": null,
      "metadata": {
        "id": "8hNbs12BSXYR"
      },
      "outputs": [],
      "source": [
        "Shodan[\"port\"] = Shodan[\"shodan_info\"].map(lambda x: Port(ast.literal_eval(x).keys()))\n",
        "Shodan[\"protocol\"] = Shodan[\"shodan_info\"].map(lambda x: Protocol(ast.literal_eval(x).keys()))"
      ]
    },
    {
      "cell_type": "code",
      "source": [
        "Shodan.head(5)"
      ],
      "metadata": {
        "colab": {
          "base_uri": "https://localhost:8080/"
        },
        "id": "lU4ZqK1hfm66",
        "outputId": "a4b9b59d-44c5-42de-d565-e6e2f2575cde"
      },
      "execution_count": null,
      "outputs": [
        {
          "output_type": "execute_result",
          "data": {
            "text/plain": [
              "                                         shodan_info  attacker_ip_enum  \\\n",
              "0                                                 {}              5915   \n",
              "1  {'22/tcp': {'headers_hash': None, 'jarm': None...              3325   \n",
              "2                                                 {}              8416   \n",
              "3                                                 {}              1213   \n",
              "4                                                 {}              9185   \n",
              "\n",
              "        port   protocol  \n",
              "0  {unknown}  {unknown}  \n",
              "1       {22}      {tcp}  \n",
              "2  {unknown}  {unknown}  \n",
              "3  {unknown}  {unknown}  \n",
              "4  {unknown}  {unknown}  "
            ],
            "text/html": [
              "\n",
              "  <div id=\"df-d6a8132b-df5e-4cb5-86ae-db1f645fd425\" class=\"colab-df-container\">\n",
              "    <div>\n",
              "<style scoped>\n",
              "    .dataframe tbody tr th:only-of-type {\n",
              "        vertical-align: middle;\n",
              "    }\n",
              "\n",
              "    .dataframe tbody tr th {\n",
              "        vertical-align: top;\n",
              "    }\n",
              "\n",
              "    .dataframe thead th {\n",
              "        text-align: right;\n",
              "    }\n",
              "</style>\n",
              "<table border=\"1\" class=\"dataframe\">\n",
              "  <thead>\n",
              "    <tr style=\"text-align: right;\">\n",
              "      <th></th>\n",
              "      <th>shodan_info</th>\n",
              "      <th>attacker_ip_enum</th>\n",
              "      <th>port</th>\n",
              "      <th>protocol</th>\n",
              "    </tr>\n",
              "  </thead>\n",
              "  <tbody>\n",
              "    <tr>\n",
              "      <th>0</th>\n",
              "      <td>{}</td>\n",
              "      <td>5915</td>\n",
              "      <td>{unknown}</td>\n",
              "      <td>{unknown}</td>\n",
              "    </tr>\n",
              "    <tr>\n",
              "      <th>1</th>\n",
              "      <td>{'22/tcp': {'headers_hash': None, 'jarm': None...</td>\n",
              "      <td>3325</td>\n",
              "      <td>{22}</td>\n",
              "      <td>{tcp}</td>\n",
              "    </tr>\n",
              "    <tr>\n",
              "      <th>2</th>\n",
              "      <td>{}</td>\n",
              "      <td>8416</td>\n",
              "      <td>{unknown}</td>\n",
              "      <td>{unknown}</td>\n",
              "    </tr>\n",
              "    <tr>\n",
              "      <th>3</th>\n",
              "      <td>{}</td>\n",
              "      <td>1213</td>\n",
              "      <td>{unknown}</td>\n",
              "      <td>{unknown}</td>\n",
              "    </tr>\n",
              "    <tr>\n",
              "      <th>4</th>\n",
              "      <td>{}</td>\n",
              "      <td>9185</td>\n",
              "      <td>{unknown}</td>\n",
              "      <td>{unknown}</td>\n",
              "    </tr>\n",
              "  </tbody>\n",
              "</table>\n",
              "</div>\n",
              "    <div class=\"colab-df-buttons\">\n",
              "\n",
              "  <div class=\"colab-df-container\">\n",
              "    <button class=\"colab-df-convert\" onclick=\"convertToInteractive('df-d6a8132b-df5e-4cb5-86ae-db1f645fd425')\"\n",
              "            title=\"Convert this dataframe to an interactive table.\"\n",
              "            style=\"display:none;\">\n",
              "\n",
              "  <svg xmlns=\"http://www.w3.org/2000/svg\" height=\"24px\" viewBox=\"0 -960 960 960\">\n",
              "    <path d=\"M120-120v-720h720v720H120Zm60-500h600v-160H180v160Zm220 220h160v-160H400v160Zm0 220h160v-160H400v160ZM180-400h160v-160H180v160Zm440 0h160v-160H620v160ZM180-180h160v-160H180v160Zm440 0h160v-160H620v160Z\"/>\n",
              "  </svg>\n",
              "    </button>\n",
              "\n",
              "  <style>\n",
              "    .colab-df-container {\n",
              "      display:flex;\n",
              "      gap: 12px;\n",
              "    }\n",
              "\n",
              "    .colab-df-convert {\n",
              "      background-color: #E8F0FE;\n",
              "      border: none;\n",
              "      border-radius: 50%;\n",
              "      cursor: pointer;\n",
              "      display: none;\n",
              "      fill: #1967D2;\n",
              "      height: 32px;\n",
              "      padding: 0 0 0 0;\n",
              "      width: 32px;\n",
              "    }\n",
              "\n",
              "    .colab-df-convert:hover {\n",
              "      background-color: #E2EBFA;\n",
              "      box-shadow: 0px 1px 2px rgba(60, 64, 67, 0.3), 0px 1px 3px 1px rgba(60, 64, 67, 0.15);\n",
              "      fill: #174EA6;\n",
              "    }\n",
              "\n",
              "    .colab-df-buttons div {\n",
              "      margin-bottom: 4px;\n",
              "    }\n",
              "\n",
              "    [theme=dark] .colab-df-convert {\n",
              "      background-color: #3B4455;\n",
              "      fill: #D2E3FC;\n",
              "    }\n",
              "\n",
              "    [theme=dark] .colab-df-convert:hover {\n",
              "      background-color: #434B5C;\n",
              "      box-shadow: 0px 1px 3px 1px rgba(0, 0, 0, 0.15);\n",
              "      filter: drop-shadow(0px 1px 2px rgba(0, 0, 0, 0.3));\n",
              "      fill: #FFFFFF;\n",
              "    }\n",
              "  </style>\n",
              "\n",
              "    <script>\n",
              "      const buttonEl =\n",
              "        document.querySelector('#df-d6a8132b-df5e-4cb5-86ae-db1f645fd425 button.colab-df-convert');\n",
              "      buttonEl.style.display =\n",
              "        google.colab.kernel.accessAllowed ? 'block' : 'none';\n",
              "\n",
              "      async function convertToInteractive(key) {\n",
              "        const element = document.querySelector('#df-d6a8132b-df5e-4cb5-86ae-db1f645fd425');\n",
              "        const dataTable =\n",
              "          await google.colab.kernel.invokeFunction('convertToInteractive',\n",
              "                                                    [key], {});\n",
              "        if (!dataTable) return;\n",
              "\n",
              "        const docLinkHtml = 'Like what you see? Visit the ' +\n",
              "          '<a target=\"_blank\" href=https://colab.research.google.com/notebooks/data_table.ipynb>data table notebook</a>'\n",
              "          + ' to learn more about interactive tables.';\n",
              "        element.innerHTML = '';\n",
              "        dataTable['output_type'] = 'display_data';\n",
              "        await google.colab.output.renderOutput(dataTable, element);\n",
              "        const docLink = document.createElement('div');\n",
              "        docLink.innerHTML = docLinkHtml;\n",
              "        element.appendChild(docLink);\n",
              "      }\n",
              "    </script>\n",
              "  </div>\n",
              "\n",
              "\n",
              "<div id=\"df-82f3b9bf-af48-418f-96b9-f78180aa73a5\">\n",
              "  <button class=\"colab-df-quickchart\" onclick=\"quickchart('df-82f3b9bf-af48-418f-96b9-f78180aa73a5')\"\n",
              "            title=\"Suggest charts\"\n",
              "            style=\"display:none;\">\n",
              "\n",
              "<svg xmlns=\"http://www.w3.org/2000/svg\" height=\"24px\"viewBox=\"0 0 24 24\"\n",
              "     width=\"24px\">\n",
              "    <g>\n",
              "        <path d=\"M19 3H5c-1.1 0-2 .9-2 2v14c0 1.1.9 2 2 2h14c1.1 0 2-.9 2-2V5c0-1.1-.9-2-2-2zM9 17H7v-7h2v7zm4 0h-2V7h2v10zm4 0h-2v-4h2v4z\"/>\n",
              "    </g>\n",
              "</svg>\n",
              "  </button>\n",
              "\n",
              "<style>\n",
              "  .colab-df-quickchart {\n",
              "      --bg-color: #E8F0FE;\n",
              "      --fill-color: #1967D2;\n",
              "      --hover-bg-color: #E2EBFA;\n",
              "      --hover-fill-color: #174EA6;\n",
              "      --disabled-fill-color: #AAA;\n",
              "      --disabled-bg-color: #DDD;\n",
              "  }\n",
              "\n",
              "  [theme=dark] .colab-df-quickchart {\n",
              "      --bg-color: #3B4455;\n",
              "      --fill-color: #D2E3FC;\n",
              "      --hover-bg-color: #434B5C;\n",
              "      --hover-fill-color: #FFFFFF;\n",
              "      --disabled-bg-color: #3B4455;\n",
              "      --disabled-fill-color: #666;\n",
              "  }\n",
              "\n",
              "  .colab-df-quickchart {\n",
              "    background-color: var(--bg-color);\n",
              "    border: none;\n",
              "    border-radius: 50%;\n",
              "    cursor: pointer;\n",
              "    display: none;\n",
              "    fill: var(--fill-color);\n",
              "    height: 32px;\n",
              "    padding: 0;\n",
              "    width: 32px;\n",
              "  }\n",
              "\n",
              "  .colab-df-quickchart:hover {\n",
              "    background-color: var(--hover-bg-color);\n",
              "    box-shadow: 0 1px 2px rgba(60, 64, 67, 0.3), 0 1px 3px 1px rgba(60, 64, 67, 0.15);\n",
              "    fill: var(--button-hover-fill-color);\n",
              "  }\n",
              "\n",
              "  .colab-df-quickchart-complete:disabled,\n",
              "  .colab-df-quickchart-complete:disabled:hover {\n",
              "    background-color: var(--disabled-bg-color);\n",
              "    fill: var(--disabled-fill-color);\n",
              "    box-shadow: none;\n",
              "  }\n",
              "\n",
              "  .colab-df-spinner {\n",
              "    border: 2px solid var(--fill-color);\n",
              "    border-color: transparent;\n",
              "    border-bottom-color: var(--fill-color);\n",
              "    animation:\n",
              "      spin 1s steps(1) infinite;\n",
              "  }\n",
              "\n",
              "  @keyframes spin {\n",
              "    0% {\n",
              "      border-color: transparent;\n",
              "      border-bottom-color: var(--fill-color);\n",
              "      border-left-color: var(--fill-color);\n",
              "    }\n",
              "    20% {\n",
              "      border-color: transparent;\n",
              "      border-left-color: var(--fill-color);\n",
              "      border-top-color: var(--fill-color);\n",
              "    }\n",
              "    30% {\n",
              "      border-color: transparent;\n",
              "      border-left-color: var(--fill-color);\n",
              "      border-top-color: var(--fill-color);\n",
              "      border-right-color: var(--fill-color);\n",
              "    }\n",
              "    40% {\n",
              "      border-color: transparent;\n",
              "      border-right-color: var(--fill-color);\n",
              "      border-top-color: var(--fill-color);\n",
              "    }\n",
              "    60% {\n",
              "      border-color: transparent;\n",
              "      border-right-color: var(--fill-color);\n",
              "    }\n",
              "    80% {\n",
              "      border-color: transparent;\n",
              "      border-right-color: var(--fill-color);\n",
              "      border-bottom-color: var(--fill-color);\n",
              "    }\n",
              "    90% {\n",
              "      border-color: transparent;\n",
              "      border-bottom-color: var(--fill-color);\n",
              "    }\n",
              "  }\n",
              "</style>\n",
              "\n",
              "  <script>\n",
              "    async function quickchart(key) {\n",
              "      const quickchartButtonEl =\n",
              "        document.querySelector('#' + key + ' button');\n",
              "      quickchartButtonEl.disabled = true;  // To prevent multiple clicks.\n",
              "      quickchartButtonEl.classList.add('colab-df-spinner');\n",
              "      try {\n",
              "        const charts = await google.colab.kernel.invokeFunction(\n",
              "            'suggestCharts', [key], {});\n",
              "      } catch (error) {\n",
              "        console.error('Error during call to suggestCharts:', error);\n",
              "      }\n",
              "      quickchartButtonEl.classList.remove('colab-df-spinner');\n",
              "      quickchartButtonEl.classList.add('colab-df-quickchart-complete');\n",
              "    }\n",
              "    (() => {\n",
              "      let quickchartButtonEl =\n",
              "        document.querySelector('#df-82f3b9bf-af48-418f-96b9-f78180aa73a5 button');\n",
              "      quickchartButtonEl.style.display =\n",
              "        google.colab.kernel.accessAllowed ? 'block' : 'none';\n",
              "    })();\n",
              "  </script>\n",
              "</div>\n",
              "    </div>\n",
              "  </div>\n"
            ]
          },
          "metadata": {},
          "execution_count": 14
        }
      ]
    },
    {
      "cell_type": "markdown",
      "source": [
        "Merge data and Shodan ports"
      ],
      "metadata": {
        "id": "C4BZ5eDWpguN"
      }
    },
    {
      "cell_type": "code",
      "execution_count": null,
      "metadata": {
        "id": "opVzA8BASXYR"
      },
      "outputs": [],
      "source": [
        "data = data.merge(Shodan[[\"attacker_ip_enum\",\"port\"]], on = \"attacker_ip_enum\", how = \"left\")"
      ]
    },
    {
      "cell_type": "markdown",
      "metadata": {
        "id": "IVyU8kWWSXYV"
      },
      "source": [
        "### Protocol"
      ]
    },
    {
      "cell_type": "code",
      "execution_count": null,
      "metadata": {
        "id": "ouw-lREbSXYV"
      },
      "outputs": [],
      "source": [
        "protocol = Shodan[[\"attacker_ip_enum\",\"protocol\",\"port\"]].explode(\"protocol\")"
      ]
    },
    {
      "cell_type": "code",
      "execution_count": null,
      "metadata": {
        "id": "dPLRnya_SXYV"
      },
      "outputs": [],
      "source": [
        "protocol = protocol.groupby([\"attacker_ip_enum\",\"protocol\"]).count().unstack().fillna(0).reset_index()"
      ]
    },
    {
      "cell_type": "code",
      "execution_count": null,
      "metadata": {
        "id": "5y5uu9PgSXYW"
      },
      "outputs": [],
      "source": [
        "protocol.columns = [\"attacker_ip_enum\",\"unknown\",\"tcp\",\"udp\"]"
      ]
    },
    {
      "cell_type": "code",
      "execution_count": null,
      "metadata": {
        "id": "fI2yI9RISXYW"
      },
      "outputs": [],
      "source": [
        "data = data.merge(protocol, on = \"attacker_ip_enum\", how = \"left\")"
      ]
    },
    {
      "cell_type": "markdown",
      "metadata": {
        "id": "uK_iNogazfeI"
      },
      "source": [
        "## Take the service in attack_type"
      ]
    },
    {
      "cell_type": "code",
      "execution_count": null,
      "metadata": {
        "id": "-IRc4Ghvzixe"
      },
      "outputs": [],
      "source": [
        "data[\"service\"] = data[\"attack_type\"].map(lambda x: x.split(\":\")[0])\n",
        "data.drop(\"attack_type\",axis = 1, inplace = True)"
      ]
    },
    {
      "cell_type": "markdown",
      "metadata": {
        "id": "f9NeCer-tOeE"
      },
      "source": [
        "# Data management"
      ]
    },
    {
      "cell_type": "markdown",
      "metadata": {
        "id": "fiZ8LY0J4PxX"
      },
      "source": [
        "## Create validation and training set"
      ]
    },
    {
      "cell_type": "markdown",
      "metadata": {
        "id": "IOIHWrcK40hC"
      },
      "source": [
        "### Validation and test mantaining data dispersion"
      ]
    },
    {
      "cell_type": "markdown",
      "source": [
        "GroupShuffleSplit to separate the data with label 0 and label 1 in a 80-20 to mantain data dispersion"
      ],
      "metadata": {
        "id": "4R-7vtb_qfmq"
      }
    },
    {
      "cell_type": "code",
      "execution_count": null,
      "metadata": {
        "id": "82D3Z4Hs4MH4"
      },
      "outputs": [],
      "source": [
        "data1 = data[data[\"label\"] == 1]\n",
        "data0 = data[data[\"label\"] == 0]"
      ]
    },
    {
      "cell_type": "code",
      "execution_count": null,
      "metadata": {
        "id": "qhiCzNNovRmX"
      },
      "outputs": [],
      "source": [
        "splitter = GroupShuffleSplit(test_size=.20, n_splits=2, random_state = RANDOM_STATE)\n",
        "split0 = splitter.split(data0, groups= data0[\"attacker_ip_enum\"])\n",
        "train_inds0, test_inds0 = next(split0)\n",
        "\n",
        "splitter = GroupShuffleSplit(test_size=.20, n_splits=2, random_state = RANDOM_STATE)\n",
        "split1 = splitter.split(data1, groups= data1[\"attacker_ip_enum\"])\n",
        "train_inds1, test_inds1 = next(split1)\n",
        "\n",
        "train0 = data0.iloc[train_inds0]\n",
        "valid0 = data0.iloc[test_inds0]\n",
        "\n",
        "train1 = data1.iloc[train_inds1]\n",
        "valid1 = data1.iloc[test_inds1]"
      ]
    },
    {
      "cell_type": "markdown",
      "source": [
        "Concat the data with 0 and 1"
      ],
      "metadata": {
        "id": "QFcsEOsiq0VK"
      }
    },
    {
      "cell_type": "code",
      "execution_count": null,
      "metadata": {
        "id": "MesDvFQ557qx"
      },
      "outputs": [],
      "source": [
        "train = shuffle(pd.concat([train1,train0]), random_state= RANDOM_STATE)\n",
        "valid = shuffle(pd.concat([valid1,valid0]), random_state= RANDOM_STATE)"
      ]
    },
    {
      "cell_type": "markdown",
      "source": [
        "clear memory"
      ],
      "metadata": {
        "id": "2j00zH-4bzH4"
      }
    },
    {
      "cell_type": "code",
      "source": [
        "datos1 = \"\"\n",
        "datos0 = \"\"\n",
        "datos = \"\"\n",
        "train1 = \"\"\n",
        "train0 = \"\"\n",
        "valid0 = \"\"\n",
        "valid1 = \"\""
      ],
      "metadata": {
        "id": "MeX9fAfiOPyp"
      },
      "execution_count": null,
      "outputs": []
    },
    {
      "cell_type": "markdown",
      "metadata": {
        "id": "m23dJUempZKO"
      },
      "source": [
        "# Means"
      ]
    },
    {
      "cell_type": "markdown",
      "metadata": {
        "id": "kimweTvwf5iG"
      },
      "source": [
        "## Attacker_as_name vs ports"
      ]
    },
    {
      "cell_type": "markdown",
      "source": [
        "Same feature that I use in Random Forest. Get the max mean between as_name and port."
      ],
      "metadata": {
        "id": "OhDSaAePg_Xn"
      }
    },
    {
      "cell_type": "markdown",
      "source": [
        "### train"
      ],
      "metadata": {
        "id": "duCQWFmJV23T"
      }
    },
    {
      "cell_type": "code",
      "source": [
        "att_as_name_vs_p = train[[\"attacker_as_name\", \"label\", \"port\"]].explode(\"port\")"
      ],
      "metadata": {
        "id": "KjFv16GnEAfr"
      },
      "execution_count": null,
      "outputs": []
    },
    {
      "cell_type": "code",
      "source": [
        "att_as_name_vs_p = att_as_name_vs_p.groupby([\"attacker_as_name\",\"port\"]).mean()"
      ],
      "metadata": {
        "id": "RGjSXTcvEv-I"
      },
      "execution_count": null,
      "outputs": []
    },
    {
      "cell_type": "code",
      "source": [
        "att_as_name_vs_p.columns = [\"mean\"]"
      ],
      "metadata": {
        "id": "XyVCOYBiFYeB"
      },
      "execution_count": null,
      "outputs": []
    },
    {
      "cell_type": "code",
      "source": [
        "att_as_name_vs_p_map = att_as_name_vs_p[\"mean\"].to_dict()\n",
        "att_as_name_vs_p = \"\""
      ],
      "metadata": {
        "id": "WbJxrKGCFkbz"
      },
      "execution_count": null,
      "outputs": []
    },
    {
      "cell_type": "code",
      "source": [
        "train[\"att_as_name_vs_ports\"] = train[\"attacker_as_name\"].apply(lambda x: [str(x)]) + train[\"port\"].apply(list)"
      ],
      "metadata": {
        "id": "V9NfpN5hLGBI"
      },
      "execution_count": null,
      "outputs": []
    },
    {
      "cell_type": "code",
      "source": [
        "def max_mean_att_port(list_p):\n",
        "  as_name = list_p[0]\n",
        "  res = []\n",
        "  for port in list_p[1:]:\n",
        "    res.append(att_as_name_vs_p_map.get((as_name, port), 0))\n",
        "  return max(res)\n"
      ],
      "metadata": {
        "id": "m-2qrJKYWYxm"
      },
      "execution_count": null,
      "outputs": []
    },
    {
      "cell_type": "code",
      "source": [
        "train[\"att_as_name_vs_ports\"] = train[\"att_as_name_vs_ports\"].map(lambda x: max_mean_att_port(x))"
      ],
      "metadata": {
        "id": "q7T8vRwPO4O0"
      },
      "execution_count": null,
      "outputs": []
    },
    {
      "cell_type": "code",
      "source": [
        "train.drop([\"attacker_as_name\"], axis = 1, inplace = True)"
      ],
      "metadata": {
        "id": "u81TJX4UXMbR"
      },
      "execution_count": null,
      "outputs": []
    },
    {
      "cell_type": "markdown",
      "source": [
        "### valid"
      ],
      "metadata": {
        "id": "eSJiHJbhV6pd"
      }
    },
    {
      "cell_type": "code",
      "source": [
        "valid[\"att_as_name_vs_ports\"] = valid[\"attacker_as_name\"].apply(lambda x: [str(x)]) + valid[\"port\"].apply(list)"
      ],
      "metadata": {
        "id": "nAedC0I0V8dx"
      },
      "execution_count": null,
      "outputs": []
    },
    {
      "cell_type": "code",
      "source": [
        "valid[\"att_as_name_vs_ports\"] = valid[\"att_as_name_vs_ports\"].map(lambda x: max_mean_att_port(x))"
      ],
      "metadata": {
        "id": "vB9lAVNwWSjY"
      },
      "execution_count": null,
      "outputs": []
    },
    {
      "cell_type": "code",
      "source": [
        "valid.drop([\"attacker_as_name\"], axis = 1, inplace = True)"
      ],
      "metadata": {
        "id": "yKa9vMt7XVFw"
      },
      "execution_count": null,
      "outputs": []
    },
    {
      "cell_type": "markdown",
      "source": [
        "## Ports Mean"
      ],
      "metadata": {
        "id": "tzy1HQxeBBO7"
      }
    },
    {
      "cell_type": "markdown",
      "source": [
        "### train"
      ],
      "metadata": {
        "id": "n8IoNmRrXBnE"
      }
    },
    {
      "cell_type": "markdown",
      "source": [
        "Same case of Random Fortest, I get the max mean of each port then I devide for the length to either \"normalize\" or \"pelalize\" rows with numerous open ports"
      ],
      "metadata": {
        "id": "3-KzJeDzizP8"
      }
    },
    {
      "cell_type": "code",
      "source": [
        "ports = train[[\"label\",\"port\"]]"
      ],
      "metadata": {
        "id": "NEuUc-3M6zsH"
      },
      "execution_count": null,
      "outputs": []
    },
    {
      "cell_type": "code",
      "source": [
        "portdata = ports.explode(\"port\").groupby(\"port\").agg({\"label\": [\"count\",\"mean\",\"sum\"]})"
      ],
      "metadata": {
        "id": "0NgpSOZ07Mr-"
      },
      "execution_count": null,
      "outputs": []
    },
    {
      "cell_type": "code",
      "source": [
        "portdata.columns = [\"total\", \"mean\", \"sum\"]"
      ],
      "metadata": {
        "id": "sBF02IKW8KQN"
      },
      "execution_count": null,
      "outputs": []
    },
    {
      "cell_type": "code",
      "source": [
        "portdata_dict = portdata[\"mean\"].to_dict()\n",
        "portdata = \"\""
      ],
      "metadata": {
        "id": "er0KgBmT8cl4"
      },
      "execution_count": null,
      "outputs": []
    },
    {
      "cell_type": "code",
      "source": [
        "def mean_port(ports):\n",
        "  mean = []\n",
        "  for port in ports:\n",
        "    mean.append(portdata_dict.get(port,0))\n",
        "  return max(mean) / len(ports)\n"
      ],
      "metadata": {
        "id": "7FjK9axI-Y9E"
      },
      "execution_count": null,
      "outputs": []
    },
    {
      "cell_type": "code",
      "source": [
        "train[\"port\"] = train[\"port\"].map(lambda x: mean_port(x))"
      ],
      "metadata": {
        "id": "irPHZ5cv-JY4"
      },
      "execution_count": null,
      "outputs": []
    },
    {
      "cell_type": "markdown",
      "source": [
        "### valid"
      ],
      "metadata": {
        "id": "u7OCizGhXDyL"
      }
    },
    {
      "cell_type": "code",
      "source": [
        "valid[\"port\"] = valid[\"port\"].map(lambda x: mean_port(x))"
      ],
      "metadata": {
        "id": "rzSSLebhW6qv"
      },
      "execution_count": null,
      "outputs": []
    },
    {
      "cell_type": "markdown",
      "source": [
        "# Encoding"
      ],
      "metadata": {
        "id": "3DBy6j_6YJsX"
      }
    },
    {
      "cell_type": "markdown",
      "source": [
        "## divide train and validation"
      ],
      "metadata": {
        "id": "RMhyESQRZBRq"
      }
    },
    {
      "cell_type": "code",
      "source": [
        "train.drop_duplicates(inplace = True)\n",
        "valid.drop_duplicates(inplace = True)"
      ],
      "metadata": {
        "id": "IzzTifKCYybs"
      },
      "execution_count": null,
      "outputs": []
    },
    {
      "cell_type": "code",
      "source": [
        "train.drop(\"attacker_ip_enum\", inplace = True, axis = 1)\n",
        "valid.drop(\"attacker_ip_enum\", inplace = True, axis = 1)"
      ],
      "metadata": {
        "id": "9i0qt9jfZoQj"
      },
      "execution_count": null,
      "outputs": []
    },
    {
      "cell_type": "code",
      "source": [
        "y_train = train[\"label\"]\n",
        "x_train = train.drop(\"label\", axis=1)\n",
        "\n",
        "y_valid = valid[\"label\"]\n",
        "x_valid = valid.drop(\"label\", axis=1)"
      ],
      "metadata": {
        "id": "ihcmVzx9ZnFh"
      },
      "execution_count": null,
      "outputs": []
    },
    {
      "cell_type": "markdown",
      "source": [
        "clear memory"
      ],
      "metadata": {
        "id": "ESBzAHJWemjv"
      }
    },
    {
      "cell_type": "code",
      "source": [
        "train = \"\"\n",
        "valid = \"\""
      ],
      "metadata": {
        "id": "EnKdNn2pO1jp"
      },
      "execution_count": null,
      "outputs": []
    },
    {
      "cell_type": "markdown",
      "metadata": {
        "id": "WmA7AuOgXXbZ"
      },
      "source": [
        "## Binary colums"
      ]
    },
    {
      "cell_type": "code",
      "execution_count": null,
      "metadata": {
        "id": "ofWFY9U6XUpm"
      },
      "outputs": [],
      "source": [
        "binary_col = [\"Countries\",\"watcher_as_name\"]\n",
        "\n",
        "encoder = ce.BinaryEncoder(cols= binary_col)\n",
        "\n",
        "x_train = encoder.fit_transform(x_train)\n",
        "\n",
        "x_valid = encoder.transform(x_valid)"
      ]
    },
    {
      "cell_type": "markdown",
      "source": [
        "binary columns to int8 for memory optimization"
      ],
      "metadata": {
        "id": "0vo_-YpgebG4"
      }
    },
    {
      "cell_type": "code",
      "source": [
        "binary_col = [col for col in x_train.columns if \"Countries\" in col or \"watcher\" in col]"
      ],
      "metadata": {
        "id": "ayZx4fiAi3XB"
      },
      "execution_count": null,
      "outputs": []
    },
    {
      "cell_type": "code",
      "source": [
        "x_train[binary_col] = x_train[binary_col].astype('int8')"
      ],
      "metadata": {
        "id": "wsFlEpgajDzY"
      },
      "execution_count": null,
      "outputs": []
    },
    {
      "cell_type": "markdown",
      "metadata": {
        "id": "rMQdATG9RUsu"
      },
      "source": [
        "## Service OHE"
      ]
    },
    {
      "cell_type": "code",
      "execution_count": null,
      "metadata": {
        "id": "wTt-AT9rRUSb"
      },
      "outputs": [],
      "source": [
        "ohe_service = OneHotEncoder(drop = \"first\")\n",
        "service_encoded = ohe_service.fit_transform(x_train[[\"service\"]]).toarray()\n",
        "\n",
        "x_train.drop(\"service\", inplace = True, axis = 1)\n",
        "x_train[ohe_service.categories_[0][1:]] = service_encoded"
      ]
    },
    {
      "cell_type": "code",
      "execution_count": null,
      "metadata": {
        "id": "YujvYIyjRmjd"
      },
      "outputs": [],
      "source": [
        "service_encoded = ohe_service.transform(x_valid[[\"service\"]]).toarray()\n",
        "\n",
        "x_valid.drop(\"service\", inplace = True, axis = 1)\n",
        "x_valid[ohe_service.categories_[0][1:]] = service_encoded"
      ]
    },
    {
      "cell_type": "markdown",
      "metadata": {
        "id": "L5eoRxmNYS7L"
      },
      "source": [
        "# XGBoost Default"
      ]
    },
    {
      "cell_type": "code",
      "execution_count": null,
      "metadata": {
        "colab": {
          "base_uri": "https://localhost:8080/",
          "height": 248
        },
        "id": "0PQpCxktYW1F",
        "outputId": "d5e10675-1ea1-41ed-ceab-b2aa9c886975"
      },
      "outputs": [
        {
          "output_type": "execute_result",
          "data": {
            "text/plain": [
              "XGBClassifier(base_score=None, booster=None, callbacks=None,\n",
              "              colsample_bylevel=None, colsample_bynode=None,\n",
              "              colsample_bytree=None, device=None, early_stopping_rounds=None,\n",
              "              enable_categorical=False, eval_metric=None, feature_types=None,\n",
              "              gamma=None, grow_policy=None, importance_type=None,\n",
              "              interaction_constraints=None, learning_rate=None, max_bin=None,\n",
              "              max_cat_threshold=None, max_cat_to_onehot=None,\n",
              "              max_delta_step=None, max_depth=None, max_leaves=None,\n",
              "              min_child_weight=None, missing=nan, monotone_constraints=None,\n",
              "              multi_strategy=None, n_estimators=None, n_jobs=None,\n",
              "              num_parallel_tree=None, random_state=14, ...)"
            ],
            "text/html": [
              "<style>#sk-container-id-3 {color: black;background-color: white;}#sk-container-id-3 pre{padding: 0;}#sk-container-id-3 div.sk-toggleable {background-color: white;}#sk-container-id-3 label.sk-toggleable__label {cursor: pointer;display: block;width: 100%;margin-bottom: 0;padding: 0.3em;box-sizing: border-box;text-align: center;}#sk-container-id-3 label.sk-toggleable__label-arrow:before {content: \"▸\";float: left;margin-right: 0.25em;color: #696969;}#sk-container-id-3 label.sk-toggleable__label-arrow:hover:before {color: black;}#sk-container-id-3 div.sk-estimator:hover label.sk-toggleable__label-arrow:before {color: black;}#sk-container-id-3 div.sk-toggleable__content {max-height: 0;max-width: 0;overflow: hidden;text-align: left;background-color: #f0f8ff;}#sk-container-id-3 div.sk-toggleable__content pre {margin: 0.2em;color: black;border-radius: 0.25em;background-color: #f0f8ff;}#sk-container-id-3 input.sk-toggleable__control:checked~div.sk-toggleable__content {max-height: 200px;max-width: 100%;overflow: auto;}#sk-container-id-3 input.sk-toggleable__control:checked~label.sk-toggleable__label-arrow:before {content: \"▾\";}#sk-container-id-3 div.sk-estimator input.sk-toggleable__control:checked~label.sk-toggleable__label {background-color: #d4ebff;}#sk-container-id-3 div.sk-label input.sk-toggleable__control:checked~label.sk-toggleable__label {background-color: #d4ebff;}#sk-container-id-3 input.sk-hidden--visually {border: 0;clip: rect(1px 1px 1px 1px);clip: rect(1px, 1px, 1px, 1px);height: 1px;margin: -1px;overflow: hidden;padding: 0;position: absolute;width: 1px;}#sk-container-id-3 div.sk-estimator {font-family: monospace;background-color: #f0f8ff;border: 1px dotted black;border-radius: 0.25em;box-sizing: border-box;margin-bottom: 0.5em;}#sk-container-id-3 div.sk-estimator:hover {background-color: #d4ebff;}#sk-container-id-3 div.sk-parallel-item::after {content: \"\";width: 100%;border-bottom: 1px solid gray;flex-grow: 1;}#sk-container-id-3 div.sk-label:hover label.sk-toggleable__label {background-color: #d4ebff;}#sk-container-id-3 div.sk-serial::before {content: \"\";position: absolute;border-left: 1px solid gray;box-sizing: border-box;top: 0;bottom: 0;left: 50%;z-index: 0;}#sk-container-id-3 div.sk-serial {display: flex;flex-direction: column;align-items: center;background-color: white;padding-right: 0.2em;padding-left: 0.2em;position: relative;}#sk-container-id-3 div.sk-item {position: relative;z-index: 1;}#sk-container-id-3 div.sk-parallel {display: flex;align-items: stretch;justify-content: center;background-color: white;position: relative;}#sk-container-id-3 div.sk-item::before, #sk-container-id-3 div.sk-parallel-item::before {content: \"\";position: absolute;border-left: 1px solid gray;box-sizing: border-box;top: 0;bottom: 0;left: 50%;z-index: -1;}#sk-container-id-3 div.sk-parallel-item {display: flex;flex-direction: column;z-index: 1;position: relative;background-color: white;}#sk-container-id-3 div.sk-parallel-item:first-child::after {align-self: flex-end;width: 50%;}#sk-container-id-3 div.sk-parallel-item:last-child::after {align-self: flex-start;width: 50%;}#sk-container-id-3 div.sk-parallel-item:only-child::after {width: 0;}#sk-container-id-3 div.sk-dashed-wrapped {border: 1px dashed gray;margin: 0 0.4em 0.5em 0.4em;box-sizing: border-box;padding-bottom: 0.4em;background-color: white;}#sk-container-id-3 div.sk-label label {font-family: monospace;font-weight: bold;display: inline-block;line-height: 1.2em;}#sk-container-id-3 div.sk-label-container {text-align: center;}#sk-container-id-3 div.sk-container {/* jupyter's `normalize.less` sets `[hidden] { display: none; }` but bootstrap.min.css set `[hidden] { display: none !important; }` so we also need the `!important` here to be able to override the default hidden behavior on the sphinx rendered scikit-learn.org. See: https://github.com/scikit-learn/scikit-learn/issues/21755 */display: inline-block !important;position: relative;}#sk-container-id-3 div.sk-text-repr-fallback {display: none;}</style><div id=\"sk-container-id-3\" class=\"sk-top-container\"><div class=\"sk-text-repr-fallback\"><pre>XGBClassifier(base_score=None, booster=None, callbacks=None,\n",
              "              colsample_bylevel=None, colsample_bynode=None,\n",
              "              colsample_bytree=None, device=None, early_stopping_rounds=None,\n",
              "              enable_categorical=False, eval_metric=None, feature_types=None,\n",
              "              gamma=None, grow_policy=None, importance_type=None,\n",
              "              interaction_constraints=None, learning_rate=None, max_bin=None,\n",
              "              max_cat_threshold=None, max_cat_to_onehot=None,\n",
              "              max_delta_step=None, max_depth=None, max_leaves=None,\n",
              "              min_child_weight=None, missing=nan, monotone_constraints=None,\n",
              "              multi_strategy=None, n_estimators=None, n_jobs=None,\n",
              "              num_parallel_tree=None, random_state=14, ...)</pre><b>In a Jupyter environment, please rerun this cell to show the HTML representation or trust the notebook. <br />On GitHub, the HTML representation is unable to render, please try loading this page with nbviewer.org.</b></div><div class=\"sk-container\" hidden><div class=\"sk-item\"><div class=\"sk-estimator sk-toggleable\"><input class=\"sk-toggleable__control sk-hidden--visually\" id=\"sk-estimator-id-5\" type=\"checkbox\" checked><label for=\"sk-estimator-id-5\" class=\"sk-toggleable__label sk-toggleable__label-arrow\">XGBClassifier</label><div class=\"sk-toggleable__content\"><pre>XGBClassifier(base_score=None, booster=None, callbacks=None,\n",
              "              colsample_bylevel=None, colsample_bynode=None,\n",
              "              colsample_bytree=None, device=None, early_stopping_rounds=None,\n",
              "              enable_categorical=False, eval_metric=None, feature_types=None,\n",
              "              gamma=None, grow_policy=None, importance_type=None,\n",
              "              interaction_constraints=None, learning_rate=None, max_bin=None,\n",
              "              max_cat_threshold=None, max_cat_to_onehot=None,\n",
              "              max_delta_step=None, max_depth=None, max_leaves=None,\n",
              "              min_child_weight=None, missing=nan, monotone_constraints=None,\n",
              "              multi_strategy=None, n_estimators=None, n_jobs=None,\n",
              "              num_parallel_tree=None, random_state=14, ...)</pre></div></div></div></div></div>"
            ]
          },
          "metadata": {},
          "execution_count": 68
        }
      ],
      "source": [
        "xgb_1 = xgb.XGBClassifier(random_state = RANDOM_STATE)\n",
        "\n",
        "xgb_1.fit(x_train, y_train)"
      ]
    },
    {
      "cell_type": "code",
      "execution_count": null,
      "metadata": {
        "id": "U3HJU5JqYtlk"
      },
      "outputs": [],
      "source": [
        "y_pred = xgb_1.predict(x_valid)"
      ]
    },
    {
      "cell_type": "code",
      "execution_count": null,
      "metadata": {
        "colab": {
          "base_uri": "https://localhost:8080/"
        },
        "id": "1wR8y7AFY_tL",
        "outputId": "234ace2e-ef75-4992-875b-118b911a5d3f"
      },
      "outputs": [
        {
          "output_type": "execute_result",
          "data": {
            "text/plain": [
              "0.7158398960785907"
            ]
          },
          "metadata": {},
          "execution_count": 70
        }
      ],
      "source": [
        "f1_score(y_valid, y_pred)"
      ]
    },
    {
      "cell_type": "code",
      "execution_count": null,
      "metadata": {
        "colab": {
          "base_uri": "https://localhost:8080/"
        },
        "id": "5iwHTEjLdwzI",
        "outputId": "3b91eb0a-2d0e-4de5-e836-e754c60ad89c"
      },
      "outputs": [
        {
          "output_type": "stream",
          "name": "stdout",
          "text": [
            "              precision    recall  f1-score   support\n",
            "\n",
            "           0       0.99      0.99      0.99    430914\n",
            "           1       0.76      0.68      0.72     12974\n",
            "\n",
            "    accuracy                           0.98    443888\n",
            "   macro avg       0.87      0.84      0.85    443888\n",
            "weighted avg       0.98      0.98      0.98    443888\n",
            "\n"
          ]
        }
      ],
      "source": [
        "print(classification_report(y_valid, y_pred))"
      ]
    },
    {
      "cell_type": "code",
      "source": [
        "xgb.plot_importance(xgb_1)"
      ],
      "metadata": {
        "colab": {
          "base_uri": "https://localhost:8080/",
          "height": 490
        },
        "id": "CIJj7UzjZfPo",
        "outputId": "4599f32d-d5f3-49a3-a2f7-4a268e1e4fb0"
      },
      "execution_count": null,
      "outputs": [
        {
          "output_type": "execute_result",
          "data": {
            "text/plain": [
              "<Axes: title={'center': 'Feature importance'}, xlabel='F score', ylabel='Features'>"
            ]
          },
          "metadata": {},
          "execution_count": 72
        },
        {
          "output_type": "display_data",
          "data": {
            "text/plain": [
              "<Figure size 640x480 with 1 Axes>"
            ],
            "image/png": "[encoded data removed]"
          },
          "metadata": {}
        }
      ]
    },
    {
      "cell_type": "markdown",
      "metadata": {
        "id": "EhZiyOeGhopP"
      },
      "source": [
        "# XGBoost Random Seach"
      ]
    },
    {
      "cell_type": "code",
      "execution_count": null,
      "metadata": {
        "id": "3m8Psyr3neqk"
      },
      "outputs": [],
      "source": [
        "param_dist = {\n",
        "    'max_depth': range(3, 10, 2),\n",
        "    'learning_rate': [0.1, 0.01, 0.001],\n",
        "    'n_estimators': range(50, 201, 10),\n",
        "    'min_child_weight': range(1, 6, 2),\n",
        "    'subsample': [0.6, 0.7, 0.8, 0.9],\n",
        "    'gamma': [0.0, 0.1, 0.2, 0.3, 0.4],\n",
        "    'reg_alpha': [0, 0.001, 0.005, 0.01, 0.05, 0.1, 1],\n",
        "    'reg_lambda': [0.1, 0.5, 1.0, 2.0, 5.0, 10.0],\n",
        "    'scale_pos_weight': [1, 2, 5],\n",
        "    'colsample_bylevel': [0.6, 0.8, 1.0],\n",
        "    'colsample_bytree': [0.6, 0.8, 1.0]\n",
        "}"
      ]
    },
    {
      "cell_type": "code",
      "execution_count": null,
      "metadata": {
        "id": "_-D1nU3ovTwt"
      },
      "outputs": [],
      "source": [
        "xgb_2 = xgb.XGBClassifier(random_state = RANDOM_STATE)"
      ]
    },
    {
      "cell_type": "code",
      "execution_count": null,
      "metadata": {
        "id": "o2THS4Mmntka",
        "colab": {
          "base_uri": "https://localhost:8080/",
          "height": 118
        },
        "outputId": "bb203a57-f062-43f0-b970-8d124d65de49"
      },
      "outputs": [
        {
          "output_type": "execute_result",
          "data": {
            "text/plain": [
              "RandomizedSearchCV(cv=5,\n",
              "                   estimator=XGBClassifier(base_score=None, booster=None,\n",
              "                                           callbacks=None,\n",
              "                                           colsample_bylevel=None,\n",
              "                                           colsample_bynode=None,\n",
              "                                           colsample_bytree=None, device=None,\n",
              "                                           early_stopping_rounds=None,\n",
              "                                           enable_categorical=True,\n",
              "                                           eval_metric=None, feature_types=None,\n",
              "                                           gamma=None, grow_policy=None,\n",
              "                                           importance_type=None,\n",
              "                                           interaction_constraints=None,\n",
              "                                           learning_rate=...\n",
              "                                        'colsample_bytree': [0.6, 0.8, 1.0],\n",
              "                                        'gamma': [0.0, 0.1, 0.2, 0.3, 0.4],\n",
              "                                        'learning_rate': [0.1, 0.01, 0.001],\n",
              "                                        'max_depth': range(3, 10, 2),\n",
              "                                        'min_child_weight': range(1, 6, 2),\n",
              "                                        'n_estimators': range(50, 201, 10),\n",
              "                                        'reg_alpha': [0, 0.001, 0.005, 0.01,\n",
              "                                                      0.05, 0.1, 1],\n",
              "                                        'reg_lambda': [0.1, 0.5, 1.0, 2.0, 5.0,\n",
              "                                                       10.0],\n",
              "                                        'scale_pos_weight': [1, 2, 5],\n",
              "                                        'subsample': [0.6, 0.7, 0.8, 0.9]},\n",
              "                   random_state=14, scoring='f1')"
            ],
            "text/html": [
              "<style>#sk-container-id-2 {color: black;background-color: white;}#sk-container-id-2 pre{padding: 0;}#sk-container-id-2 div.sk-toggleable {background-color: white;}#sk-container-id-2 label.sk-toggleable__label {cursor: pointer;display: block;width: 100%;margin-bottom: 0;padding: 0.3em;box-sizing: border-box;text-align: center;}#sk-container-id-2 label.sk-toggleable__label-arrow:before {content: \"▸\";float: left;margin-right: 0.25em;color: #696969;}#sk-container-id-2 label.sk-toggleable__label-arrow:hover:before {color: black;}#sk-container-id-2 div.sk-estimator:hover label.sk-toggleable__label-arrow:before {color: black;}#sk-container-id-2 div.sk-toggleable__content {max-height: 0;max-width: 0;overflow: hidden;text-align: left;background-color: #f0f8ff;}#sk-container-id-2 div.sk-toggleable__content pre {margin: 0.2em;color: black;border-radius: 0.25em;background-color: #f0f8ff;}#sk-container-id-2 input.sk-toggleable__control:checked~div.sk-toggleable__content {max-height: 200px;max-width: 100%;overflow: auto;}#sk-container-id-2 input.sk-toggleable__control:checked~label.sk-toggleable__label-arrow:before {content: \"▾\";}#sk-container-id-2 div.sk-estimator input.sk-toggleable__control:checked~label.sk-toggleable__label {background-color: #d4ebff;}#sk-container-id-2 div.sk-label input.sk-toggleable__control:checked~label.sk-toggleable__label {background-color: #d4ebff;}#sk-container-id-2 input.sk-hidden--visually {border: 0;clip: rect(1px 1px 1px 1px);clip: rect(1px, 1px, 1px, 1px);height: 1px;margin: -1px;overflow: hidden;padding: 0;position: absolute;width: 1px;}#sk-container-id-2 div.sk-estimator {font-family: monospace;background-color: #f0f8ff;border: 1px dotted black;border-radius: 0.25em;box-sizing: border-box;margin-bottom: 0.5em;}#sk-container-id-2 div.sk-estimator:hover {background-color: #d4ebff;}#sk-container-id-2 div.sk-parallel-item::after {content: \"\";width: 100%;border-bottom: 1px solid gray;flex-grow: 1;}#sk-container-id-2 div.sk-label:hover label.sk-toggleable__label {background-color: #d4ebff;}#sk-container-id-2 div.sk-serial::before {content: \"\";position: absolute;border-left: 1px solid gray;box-sizing: border-box;top: 0;bottom: 0;left: 50%;z-index: 0;}#sk-container-id-2 div.sk-serial {display: flex;flex-direction: column;align-items: center;background-color: white;padding-right: 0.2em;padding-left: 0.2em;position: relative;}#sk-container-id-2 div.sk-item {position: relative;z-index: 1;}#sk-container-id-2 div.sk-parallel {display: flex;align-items: stretch;justify-content: center;background-color: white;position: relative;}#sk-container-id-2 div.sk-item::before, #sk-container-id-2 div.sk-parallel-item::before {content: \"\";position: absolute;border-left: 1px solid gray;box-sizing: border-box;top: 0;bottom: 0;left: 50%;z-index: -1;}#sk-container-id-2 div.sk-parallel-item {display: flex;flex-direction: column;z-index: 1;position: relative;background-color: white;}#sk-container-id-2 div.sk-parallel-item:first-child::after {align-self: flex-end;width: 50%;}#sk-container-id-2 div.sk-parallel-item:last-child::after {align-self: flex-start;width: 50%;}#sk-container-id-2 div.sk-parallel-item:only-child::after {width: 0;}#sk-container-id-2 div.sk-dashed-wrapped {border: 1px dashed gray;margin: 0 0.4em 0.5em 0.4em;box-sizing: border-box;padding-bottom: 0.4em;background-color: white;}#sk-container-id-2 div.sk-label label {font-family: monospace;font-weight: bold;display: inline-block;line-height: 1.2em;}#sk-container-id-2 div.sk-label-container {text-align: center;}#sk-container-id-2 div.sk-container {/* jupyter's `normalize.less` sets `[hidden] { display: none; }` but bootstrap.min.css set `[hidden] { display: none !important; }` so we also need the `!important` here to be able to override the default hidden behavior on the sphinx rendered scikit-learn.org. See: https://github.com/scikit-learn/scikit-learn/issues/21755 */display: inline-block !important;position: relative;}#sk-container-id-2 div.sk-text-repr-fallback {display: none;}</style><div id=\"sk-container-id-2\" class=\"sk-top-container\"><div class=\"sk-text-repr-fallback\"><pre>RandomizedSearchCV(cv=5,\n",
              "                   estimator=XGBClassifier(base_score=None, booster=None,\n",
              "                                           callbacks=None,\n",
              "                                           colsample_bylevel=None,\n",
              "                                           colsample_bynode=None,\n",
              "                                           colsample_bytree=None, device=None,\n",
              "                                           early_stopping_rounds=None,\n",
              "                                           enable_categorical=True,\n",
              "                                           eval_metric=None, feature_types=None,\n",
              "                                           gamma=None, grow_policy=None,\n",
              "                                           importance_type=None,\n",
              "                                           interaction_constraints=None,\n",
              "                                           learning_rate=...\n",
              "                                        &#x27;colsample_bytree&#x27;: [0.6, 0.8, 1.0],\n",
              "                                        &#x27;gamma&#x27;: [0.0, 0.1, 0.2, 0.3, 0.4],\n",
              "                                        &#x27;learning_rate&#x27;: [0.1, 0.01, 0.001],\n",
              "                                        &#x27;max_depth&#x27;: range(3, 10, 2),\n",
              "                                        &#x27;min_child_weight&#x27;: range(1, 6, 2),\n",
              "                                        &#x27;n_estimators&#x27;: range(50, 201, 10),\n",
              "                                        &#x27;reg_alpha&#x27;: [0, 0.001, 0.005, 0.01,\n",
              "                                                      0.05, 0.1, 1],\n",
              "                                        &#x27;reg_lambda&#x27;: [0.1, 0.5, 1.0, 2.0, 5.0,\n",
              "                                                       10.0],\n",
              "                                        &#x27;scale_pos_weight&#x27;: [1, 2, 5],\n",
              "                                        &#x27;subsample&#x27;: [0.6, 0.7, 0.8, 0.9]},\n",
              "                   random_state=14, scoring=&#x27;f1&#x27;)</pre><b>In a Jupyter environment, please rerun this cell to show the HTML representation or trust the notebook. <br />On GitHub, the HTML representation is unable to render, please try loading this page with nbviewer.org.</b></div><div class=\"sk-container\" hidden><div class=\"sk-item sk-dashed-wrapped\"><div class=\"sk-label-container\"><div class=\"sk-label sk-toggleable\"><input class=\"sk-toggleable__control sk-hidden--visually\" id=\"sk-estimator-id-2\" type=\"checkbox\" ><label for=\"sk-estimator-id-2\" class=\"sk-toggleable__label sk-toggleable__label-arrow\">RandomizedSearchCV</label><div class=\"sk-toggleable__content\"><pre>RandomizedSearchCV(cv=5,\n",
              "                   estimator=XGBClassifier(base_score=None, booster=None,\n",
              "                                           callbacks=None,\n",
              "                                           colsample_bylevel=None,\n",
              "                                           colsample_bynode=None,\n",
              "                                           colsample_bytree=None, device=None,\n",
              "                                           early_stopping_rounds=None,\n",
              "                                           enable_categorical=True,\n",
              "                                           eval_metric=None, feature_types=None,\n",
              "                                           gamma=None, grow_policy=None,\n",
              "                                           importance_type=None,\n",
              "                                           interaction_constraints=None,\n",
              "                                           learning_rate=...\n",
              "                                        &#x27;colsample_bytree&#x27;: [0.6, 0.8, 1.0],\n",
              "                                        &#x27;gamma&#x27;: [0.0, 0.1, 0.2, 0.3, 0.4],\n",
              "                                        &#x27;learning_rate&#x27;: [0.1, 0.01, 0.001],\n",
              "                                        &#x27;max_depth&#x27;: range(3, 10, 2),\n",
              "                                        &#x27;min_child_weight&#x27;: range(1, 6, 2),\n",
              "                                        &#x27;n_estimators&#x27;: range(50, 201, 10),\n",
              "                                        &#x27;reg_alpha&#x27;: [0, 0.001, 0.005, 0.01,\n",
              "                                                      0.05, 0.1, 1],\n",
              "                                        &#x27;reg_lambda&#x27;: [0.1, 0.5, 1.0, 2.0, 5.0,\n",
              "                                                       10.0],\n",
              "                                        &#x27;scale_pos_weight&#x27;: [1, 2, 5],\n",
              "                                        &#x27;subsample&#x27;: [0.6, 0.7, 0.8, 0.9]},\n",
              "                   random_state=14, scoring=&#x27;f1&#x27;)</pre></div></div></div><div class=\"sk-parallel\"><div class=\"sk-parallel-item\"><div class=\"sk-item\"><div class=\"sk-label-container\"><div class=\"sk-label sk-toggleable\"><input class=\"sk-toggleable__control sk-hidden--visually\" id=\"sk-estimator-id-3\" type=\"checkbox\" ><label for=\"sk-estimator-id-3\" class=\"sk-toggleable__label sk-toggleable__label-arrow\">estimator: XGBClassifier</label><div class=\"sk-toggleable__content\"><pre>XGBClassifier(base_score=None, booster=None, callbacks=None,\n",
              "              colsample_bylevel=None, colsample_bynode=None,\n",
              "              colsample_bytree=None, device=None, early_stopping_rounds=None,\n",
              "              enable_categorical=True, eval_metric=None, feature_types=None,\n",
              "              gamma=None, grow_policy=None, importance_type=None,\n",
              "              interaction_constraints=None, learning_rate=None, max_bin=None,\n",
              "              max_cat_threshold=None, max_cat_to_onehot=None,\n",
              "              max_delta_step=None, max_depth=None, max_leaves=None,\n",
              "              min_child_weight=None, missing=nan, monotone_constraints=None,\n",
              "              multi_strategy=None, n_estimators=None, n_jobs=None,\n",
              "              num_parallel_tree=None, random_state=14, ...)</pre></div></div></div><div class=\"sk-serial\"><div class=\"sk-item\"><div class=\"sk-estimator sk-toggleable\"><input class=\"sk-toggleable__control sk-hidden--visually\" id=\"sk-estimator-id-4\" type=\"checkbox\" ><label for=\"sk-estimator-id-4\" class=\"sk-toggleable__label sk-toggleable__label-arrow\">XGBClassifier</label><div class=\"sk-toggleable__content\"><pre>XGBClassifier(base_score=None, booster=None, callbacks=None,\n",
              "              colsample_bylevel=None, colsample_bynode=None,\n",
              "              colsample_bytree=None, device=None, early_stopping_rounds=None,\n",
              "              enable_categorical=True, eval_metric=None, feature_types=None,\n",
              "              gamma=None, grow_policy=None, importance_type=None,\n",
              "              interaction_constraints=None, learning_rate=None, max_bin=None,\n",
              "              max_cat_threshold=None, max_cat_to_onehot=None,\n",
              "              max_delta_step=None, max_depth=None, max_leaves=None,\n",
              "              min_child_weight=None, missing=nan, monotone_constraints=None,\n",
              "              multi_strategy=None, n_estimators=None, n_jobs=None,\n",
              "              num_parallel_tree=None, random_state=14, ...)</pre></div></div></div></div></div></div></div></div></div></div>"
            ]
          },
          "metadata": {},
          "execution_count": 58
        }
      ],
      "source": [
        "xgb_randomF = RandomizedSearchCV(xgb_2, param_distributions=param_dist, n_iter= 20, cv=5, scoring='f1', random_state=RANDOM_STATE)\n",
        "\n",
        "xgb_randomF.fit(x_train, y_train)"
      ]
    },
    {
      "cell_type": "code",
      "execution_count": null,
      "metadata": {
        "id": "t0k9j1QlK9Go",
        "colab": {
          "base_uri": "https://localhost:8080/"
        },
        "outputId": "d2c21772-5afe-4ed6-c3a3-5aa0cd9a123e"
      },
      "outputs": [
        {
          "output_type": "execute_result",
          "data": {
            "text/plain": [
              "0.8913495697285047"
            ]
          },
          "metadata": {},
          "execution_count": 59
        }
      ],
      "source": [
        "xgb_randomF.best_score_"
      ]
    },
    {
      "cell_type": "code",
      "execution_count": null,
      "metadata": {
        "id": "4h9KAsG5Bc03",
        "colab": {
          "base_uri": "https://localhost:8080/"
        },
        "outputId": "229a174c-160e-4786-9f93-427f5725231e"
      },
      "outputs": [
        {
          "output_type": "execute_result",
          "data": {
            "text/plain": [
              "{'subsample': 0.6,\n",
              " 'scale_pos_weight': 2,\n",
              " 'reg_lambda': 10.0,\n",
              " 'reg_alpha': 0,\n",
              " 'n_estimators': 180,\n",
              " 'min_child_weight': 1,\n",
              " 'max_depth': 9,\n",
              " 'learning_rate': 0.1,\n",
              " 'gamma': 0.0,\n",
              " 'colsample_bytree': 0.6,\n",
              " 'colsample_bylevel': 0.6}"
            ]
          },
          "metadata": {},
          "execution_count": 60
        }
      ],
      "source": [
        "xgb_randomF.best_params_"
      ]
    },
    {
      "cell_type": "code",
      "execution_count": null,
      "metadata": {
        "id": "lgzvsJzBWq9R"
      },
      "outputs": [],
      "source": [
        "xgb_randoms = xgb_randomF.best_estimator_"
      ]
    },
    {
      "cell_type": "code",
      "execution_count": null,
      "metadata": {
        "id": "-VSGHBIbh6qC"
      },
      "outputs": [],
      "source": [
        "pred = xgb_randoms.predict(x_valid)"
      ]
    },
    {
      "cell_type": "code",
      "execution_count": null,
      "metadata": {
        "colab": {
          "base_uri": "https://localhost:8080/"
        },
        "id": "3Wto2yZBfnve",
        "outputId": "d3b4f28d-8cf4-4c08-df3c-10d9dc1df243"
      },
      "outputs": [
        {
          "output_type": "execute_result",
          "data": {
            "text/plain": [
              "0.7169598647397448"
            ]
          },
          "metadata": {},
          "execution_count": 63
        }
      ],
      "source": [
        "f1_score(y_valid, pred)"
      ]
    },
    {
      "cell_type": "code",
      "source": [
        "print(classification_report(y_valid, pred))"
      ],
      "metadata": {
        "colab": {
          "base_uri": "https://localhost:8080/"
        },
        "id": "L0igF-QgarYS",
        "outputId": "afa8c6d7-c0e7-4ae4-a69e-4a24c282a89a"
      },
      "execution_count": null,
      "outputs": [
        {
          "output_type": "stream",
          "name": "stdout",
          "text": [
            "              precision    recall  f1-score   support\n",
            "\n",
            "           0       0.99      0.99      0.99    430914\n",
            "           1       0.75      0.69      0.72     12974\n",
            "\n",
            "    accuracy                           0.98    443888\n",
            "   macro avg       0.87      0.84      0.85    443888\n",
            "weighted avg       0.98      0.98      0.98    443888\n",
            "\n"
          ]
        }
      ]
    },
    {
      "cell_type": "markdown",
      "metadata": {
        "id": "hfDeFjGS1k6K"
      },
      "source": [
        "# Test Kaggle"
      ]
    },
    {
      "cell_type": "code",
      "execution_count": null,
      "metadata": {
        "id": "WgikEWrP2C2Q"
      },
      "outputs": [],
      "source": [
        "test = pd.read_parquet(\"/content/drive/MyDrive/dataset_v2/test.parq\")"
      ]
    },
    {
      "cell_type": "code",
      "execution_count": null,
      "metadata": {
        "id": "oip5xRG92YSj"
      },
      "outputs": [],
      "source": [
        "test.drop([\"watcher_as_num\", \"watcher_uuid_enum\",\"attacker_as_num\",\"attack_time\"],axis = 1,inplace = True)"
      ]
    },
    {
      "cell_type": "code",
      "source": [
        "test[\"attacker_as_name\"] = test[\"attacker_as_name\"].map(lambda x: x.lower())\n",
        "test[\"watcher_as_name\"] = test[\"watcher_as_name\"].map(lambda x: x.lower())"
      ],
      "metadata": {
        "id": "TJF72fI_1NMW"
      },
      "execution_count": null,
      "outputs": []
    },
    {
      "cell_type": "markdown",
      "metadata": {
        "id": "5UNC8ZD27kee"
      },
      "source": [
        "## INFO Test"
      ]
    },
    {
      "cell_type": "code",
      "execution_count": null,
      "metadata": {
        "colab": {
          "base_uri": "https://localhost:8080/"
        },
        "id": "mEKYvE-m2fZ9",
        "outputId": "0606ab99-8371-4026-e605-3f146b8c386e"
      },
      "outputs": [
        {
          "output_type": "execute_result",
          "data": {
            "text/plain": [
              "watcher_country     0.670373\n",
              "watcher_as_name     0.670340\n",
              "attacker_country    0.015587\n",
              "attacker_as_name    0.237476\n",
              "attack_type         0.000000\n",
              "attacker_ip_enum    0.000000\n",
              "dtype: float64"
            ]
          },
          "metadata": {},
          "execution_count": 89
        }
      ],
      "source": [
        "test.isna().sum()/test.shape[0] * 100"
      ]
    },
    {
      "cell_type": "code",
      "execution_count": null,
      "metadata": {
        "id": "B-rMGPR1SI2E"
      },
      "outputs": [],
      "source": [
        "test[\"attacker_as_name\"].fillna(\"unknown\", inplace = True)\n",
        "\n",
        "test[\"watcher_country\"] = test[\"watcher_country\"].cat.add_categories(\"unknown\")\n",
        "test[\"watcher_country\"].fillna(\"unknown\", inplace = True)\n",
        "\n",
        "test[\"attacker_country\"] = test[\"attacker_country\"].cat.add_categories(\"unknown\")\n",
        "test[\"attacker_country\"].fillna(\"unknown\", inplace = True)"
      ]
    },
    {
      "cell_type": "code",
      "execution_count": null,
      "metadata": {
        "colab": {
          "base_uri": "https://localhost:8080/"
        },
        "id": "ro6BYQ-9SQci",
        "outputId": "c8198c52-e44b-414a-9d40-50887ca1046e"
      },
      "outputs": [
        {
          "output_type": "execute_result",
          "data": {
            "text/plain": [
              "watcher_country     0.00000\n",
              "watcher_as_name     0.67034\n",
              "attacker_country    0.00000\n",
              "attacker_as_name    0.00000\n",
              "attack_type         0.00000\n",
              "attacker_ip_enum    0.00000\n",
              "dtype: float64"
            ]
          },
          "metadata": {},
          "execution_count": 91
        }
      ],
      "source": [
        "test.isna().sum()/test.shape[0] * 100"
      ]
    },
    {
      "cell_type": "markdown",
      "metadata": {
        "id": "bI5e_TjR7msI"
      },
      "source": [
        "## Prepare Test for prediction"
      ]
    },
    {
      "cell_type": "code",
      "source": [
        "test.drop_duplicates(\"attacker_ip_enum\", inplace = True)"
      ],
      "metadata": {
        "id": "m7q6IP1dg58i"
      },
      "execution_count": null,
      "outputs": []
    },
    {
      "cell_type": "code",
      "source": [
        "test[\"Countries\"] = test[\"watcher_country\"].astype(str) + \"-\" + test[\"attacker_country\"].astype(str)"
      ],
      "metadata": {
        "id": "g0b6mq6FiDP4"
      },
      "execution_count": null,
      "outputs": []
    },
    {
      "cell_type": "code",
      "source": [
        "test.drop([\"watcher_country\",\"attacker_country\"], axis = 1, inplace = True)"
      ],
      "metadata": {
        "id": "3rgRK0eOi6xb"
      },
      "execution_count": null,
      "outputs": []
    },
    {
      "cell_type": "markdown",
      "source": [
        "add ports and protocols"
      ],
      "metadata": {
        "id": "D0Db6LtchWvJ"
      }
    },
    {
      "cell_type": "code",
      "execution_count": null,
      "metadata": {
        "id": "pyqGHcLr2vsC"
      },
      "outputs": [],
      "source": [
        "test = test.merge(Shodan[[\"attacker_ip_enum\",\"port\"]], on = \"attacker_ip_enum\", how = \"left\")\n",
        "test = test.merge(protocol, on = \"attacker_ip_enum\", how = \"left\")"
      ]
    },
    {
      "cell_type": "markdown",
      "metadata": {
        "id": "M8M50zCX2vsD"
      },
      "source": [
        "Separate attack_type"
      ]
    },
    {
      "cell_type": "code",
      "execution_count": null,
      "metadata": {
        "id": "X4rTc1Bf2vsD"
      },
      "outputs": [],
      "source": [
        "test[\"service\"] = test[\"attack_type\"].map(lambda x: x.split(\":\")[0])\n",
        "test.drop(\"attack_type\",axis = 1, inplace = True)"
      ]
    },
    {
      "cell_type": "markdown",
      "source": [
        "mean attack as name vs ports"
      ],
      "metadata": {
        "id": "ewxW5nsgeGnT"
      }
    },
    {
      "cell_type": "code",
      "source": [
        "test[\"att_as_name_vs_ports\"] = test[\"attacker_as_name\"].apply(lambda x: [str(x)]) + test[\"port\"].apply(list)"
      ],
      "metadata": {
        "id": "pb8hDehHeGnU"
      },
      "execution_count": null,
      "outputs": []
    },
    {
      "cell_type": "code",
      "source": [
        "test[\"att_as_name_vs_ports\"] = test[\"att_as_name_vs_ports\"].map(lambda x: max_mean_att_port(x))"
      ],
      "metadata": {
        "id": "B9Chgwa6eGnU"
      },
      "execution_count": null,
      "outputs": []
    },
    {
      "cell_type": "code",
      "source": [
        "test.drop([\"attacker_as_name\"], axis = 1, inplace = True)"
      ],
      "metadata": {
        "id": "u3CDnLHTeGnU"
      },
      "execution_count": null,
      "outputs": []
    },
    {
      "cell_type": "markdown",
      "source": [
        "Agrego el mean puertos"
      ],
      "metadata": {
        "id": "wahLerlyepf9"
      }
    },
    {
      "cell_type": "code",
      "source": [
        "test[\"port\"] = test[\"port\"].map(lambda x: mean_port(x))"
      ],
      "metadata": {
        "id": "uVbRWLBierHB"
      },
      "execution_count": null,
      "outputs": []
    },
    {
      "cell_type": "markdown",
      "source": [
        "Saco la IP y me la guardo para luego poder identificar las predicciones"
      ],
      "metadata": {
        "id": "rspl9AY_hje8"
      }
    },
    {
      "cell_type": "code",
      "source": [
        "testIP = test['attacker_ip_enum']\n",
        "\n",
        "test.drop(\"attacker_ip_enum\", axis = 1, inplace = True)"
      ],
      "metadata": {
        "id": "XUR-LUmBhfvW"
      },
      "execution_count": null,
      "outputs": []
    },
    {
      "cell_type": "markdown",
      "metadata": {
        "id": "DJzKWB6G54pw"
      },
      "source": [
        "## OHE"
      ]
    },
    {
      "cell_type": "code",
      "execution_count": null,
      "metadata": {
        "id": "e5krjYSJ5reW"
      },
      "outputs": [],
      "source": [
        "test = encoder.transform(test)"
      ]
    },
    {
      "cell_type": "code",
      "source": [
        "service_encoded = ohe_service.transform(test[[\"service\"]]).toarray()\n",
        "\n",
        "test.drop(\"service\", inplace = True, axis = 1)\n",
        "test[ohe_service.categories_[0][1:]] = service_encoded"
      ],
      "metadata": {
        "id": "LniAEXrw8YwI"
      },
      "execution_count": null,
      "outputs": []
    },
    {
      "cell_type": "markdown",
      "metadata": {
        "id": "HGE0ezZXTF0j"
      },
      "source": [
        "# predecir"
      ]
    },
    {
      "cell_type": "code",
      "execution_count": null,
      "metadata": {
        "id": "IfDiT-5-745v"
      },
      "outputs": [],
      "source": [
        "pred = pd.Series(xgb_randoms.predict(test), index = testIP.to_frame().set_index(\"attacker_ip_enum\").index).rename(\"prediction\")"
      ]
    },
    {
      "cell_type": "code",
      "execution_count": null,
      "metadata": {
        "id": "P0xSmWSPARZg"
      },
      "outputs": [],
      "source": [
        "pred.to_csv(\"XGBoostFinal.csv\")"
      ]
    },
    {
      "cell_type": "markdown",
      "source": [
        "![image.png](data:image/png;base64,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)"
      ],
      "metadata": {
        "id": "5vkLXXIr9AAj"
      }
    }
  ],
  "metadata": {
    "colab": {
      "collapsed_sections": [
        "uQkcqVD_a4P8",
        "TE9q0-vJsuVB",
        "f9NeCer-tOeE",
        "m23dJUempZKO",
        "tzy1HQxeBBO7",
        "RMhyESQRZBRq",
        "rMQdATG9RUsu",
        "5UNC8ZD27kee"
      ],
      "provenance": [],
      "mount_file_id": "1ywFvCQNbvp0gCgzgjww-ZDWQZTCivajO",
      "authorship_tag": "ABX9TyMyaUrVzviPYlu9mho2mtjw",
      "include_colab_link": true
    },
    "kernelspec": {
      "display_name": "Python 3",
      "name": "python3"
    },
    "language_info": {
      "name": "python"
    }
  },
  "nbformat": 4,
  "nbformat_minor": 0
}