{
  "cells": [
    {
      "cell_type": "markdown",
      "metadata": {
        "id": "view-in-github",
        "colab_type": "text"
      },
      "source": [
        "<a href=\"https://colab.research.google.com/github/IralaElbio/DataScience/blob/main/RandomForest.ipynb\" target=\"_parent\"><img src=\"https://colab.research.google.com/assets/colab-badge.svg\" alt=\"Open In Colab\"/></a>"
      ]
    },
    {
      "cell_type": "code",
      "execution_count": null,
      "metadata": {
        "colab": {
          "base_uri": "https://localhost:8080/"
        },
        "id": "ZvtsaJLTnANe",
        "outputId": "9e4a84be-f5d4-4ac1-ca5c-7c04e565a058"
      },
      "outputs": [
        {
          "output_type": "stream",
          "name": "stdout",
          "text": [
            "Collecting category_encoders\n",
            "  Downloading category_encoders-2.6.3-py2.py3-none-any.whl (81 kB)\n",
            "\u001b[?25l     \u001b[90m━━━━━━━━━━━━━━━━━━━━━━━━━━━━━━━━━━━━━━━━\u001b[0m \u001b[32m0.0/81.9 kB\u001b[0m \u001b[31m?\u001b[0m eta \u001b[36m-:--:--\u001b[0m\r\u001b[2K     \u001b[91m━━━━━━━━━━━━━━━━━━━━\u001b[0m\u001b[90m╺\u001b[0m\u001b[90m━━━━━━━━━━━━━━━━━━━\u001b[0m \u001b[32m41.0/81.9 kB\u001b[0m \u001b[31m1.2 MB/s\u001b[0m eta \u001b[36m0:00:01\u001b[0m\r\u001b[2K     \u001b[90m━━━━━━━━━━━━━━━━━━━━━━━━━━━━━━━━━━━━━━━━\u001b[0m \u001b[32m81.9/81.9 kB\u001b[0m \u001b[31m1.7 MB/s\u001b[0m eta \u001b[36m0:00:00\u001b[0m\n",
            "\u001b[?25hRequirement already satisfied: numpy>=1.14.0 in /usr/local/lib/python3.10/dist-packages (from category_encoders) (1.23.5)\n",
            "Requirement already satisfied: scikit-learn>=0.20.0 in /usr/local/lib/python3.10/dist-packages (from category_encoders) (1.2.2)\n",
            "Requirement already satisfied: scipy>=1.0.0 in /usr/local/lib/python3.10/dist-packages (from category_encoders) (1.11.4)\n",
            "Requirement already satisfied: statsmodels>=0.9.0 in /usr/local/lib/python3.10/dist-packages (from category_encoders) (0.14.1)\n",
            "Requirement already satisfied: pandas>=1.0.5 in /usr/local/lib/python3.10/dist-packages (from category_encoders) (1.5.3)\n",
            "Requirement already satisfied: patsy>=0.5.1 in /usr/local/lib/python3.10/dist-packages (from category_encoders) (0.5.4)\n",
            "Requirement already satisfied: python-dateutil>=2.8.1 in /usr/local/lib/python3.10/dist-packages (from pandas>=1.0.5->category_encoders) (2.8.2)\n",
            "Requirement already satisfied: pytz>=2020.1 in /usr/local/lib/python3.10/dist-packages (from pandas>=1.0.5->category_encoders) (2023.3.post1)\n",
            "Requirement already satisfied: six in /usr/local/lib/python3.10/dist-packages (from patsy>=0.5.1->category_encoders) (1.16.0)\n",
            "Requirement already satisfied: joblib>=1.1.1 in /usr/local/lib/python3.10/dist-packages (from scikit-learn>=0.20.0->category_encoders) (1.3.2)\n",
            "Requirement already satisfied: threadpoolctl>=2.0.0 in /usr/local/lib/python3.10/dist-packages (from scikit-learn>=0.20.0->category_encoders) (3.2.0)\n",
            "Requirement already satisfied: packaging>=21.3 in /usr/local/lib/python3.10/dist-packages (from statsmodels>=0.9.0->category_encoders) (23.2)\n",
            "Installing collected packages: category_encoders\n",
            "Successfully installed category_encoders-2.6.3\n"
          ]
        }
      ],
      "source": [
        "pip install category_encoders"
      ]
    },
    {
      "cell_type": "code",
      "execution_count": null,
      "metadata": {
        "colab": {
          "base_uri": "https://localhost:8080/"
        },
        "id": "CsqehXVLlMGw",
        "outputId": "ed7dafe7-2b44-42a5-fd70-0fa38422d9a6"
      },
      "outputs": [
        {
          "output_type": "stream",
          "name": "stdout",
          "text": [
            "Mounted at /content/drive\n"
          ]
        }
      ],
      "source": [
        "from google.colab import drive\n",
        "drive.mount('/content/drive')"
      ]
    },
    {
      "cell_type": "code",
      "execution_count": null,
      "metadata": {
        "id": "ePR1MbQV5O42"
      },
      "outputs": [],
      "source": [
        "import pandas as pd\n",
        "from sklearn.utils import shuffle\n",
        "from sklearn.preprocessing import OneHotEncoder\n",
        "from sklearn.model_selection import GroupShuffleSplit\n",
        "import ast\n",
        "from sklearn.utils import resample\n",
        "import category_encoders as ce\n",
        "from sklearn.metrics import f1_score\n",
        "from sklearn.metrics import classification_report\n",
        "from sklearn.model_selection import RandomizedSearchCV\n",
        "from sklearn.model_selection import GridSearchCV\n",
        "from sklearn import tree\n",
        "from sklearn.ensemble import RandomForestClassifier"
      ]
    },
    {
      "cell_type": "code",
      "execution_count": null,
      "metadata": {
        "id": "_RkzCbk5lP-h"
      },
      "outputs": [],
      "source": [
        "data = pd.read_parquet(\"/content/drive/MyDrive/dataset_v2/train.parq\")\n",
        "Shodan = pd.read_csv(\"/content/drive/MyDrive/dataset_v2/shodan_df_hashed.csv\")"
      ]
    },
    {
      "cell_type": "code",
      "source": [
        "data.drop_duplicates(subset = [\"watcher_as_num\",\"attacker_ip_enum\",\"attack_type\"], inplace = True)\n",
        "data.drop([\"watcher_as_num\", \"watcher_uuid_enum\", \"attacker_as_num\", \"watcher_as_name\", \"attack_time\"],axis = 1,inplace = True)"
      ],
      "metadata": {
        "id": "tnusQOLCnh0C"
      },
      "execution_count": null,
      "outputs": []
    },
    {
      "cell_type": "code",
      "execution_count": null,
      "metadata": {
        "id": "nrhqFldvtj0M"
      },
      "outputs": [],
      "source": [
        "RANDOM_STATE = 24\n",
        "data[\"attacker_as_name\"] = data[\"attacker_as_name\"].map(lambda x: x.lower())"
      ]
    },
    {
      "cell_type": "markdown",
      "metadata": {
        "id": "uQkcqVD_a4P8"
      },
      "source": [
        "# info df"
      ]
    },
    {
      "cell_type": "markdown",
      "metadata": {
        "id": "yu8xyL7HaV1d"
      },
      "source": [
        "null analisis"
      ]
    },
    {
      "cell_type": "code",
      "execution_count": null,
      "metadata": {
        "colab": {
          "base_uri": "https://localhost:8080/"
        },
        "id": "Wdwtgv0VZDiz",
        "outputId": "b6936351-f077-48a3-b186-8b55d3234429"
      },
      "outputs": [
        {
          "output_type": "execute_result",
          "data": {
            "text/plain": [
              "watcher_country     0.658598\n",
              "attacker_country    0.020323\n",
              "attacker_as_name    0.073945\n",
              "attack_type         0.000000\n",
              "attacker_ip_enum    0.000000\n",
              "label               0.000000\n",
              "dtype: float64"
            ]
          },
          "metadata": {},
          "execution_count": 8
        }
      ],
      "source": [
        "data.isna().sum()/data.shape[0] * 100"
      ]
    },
    {
      "cell_type": "markdown",
      "metadata": {
        "id": "Tas7rT0Sa67x"
      },
      "source": [
        "add unknown category to the null data"
      ]
    },
    {
      "cell_type": "code",
      "execution_count": null,
      "metadata": {
        "id": "fVGXz4TvaWZO"
      },
      "outputs": [],
      "source": [
        "data[\"attacker_as_name\"].fillna(\"unknown\", inplace = True)\n",
        "\n",
        "data[\"attacker_country\"] = data[\"attacker_country\"].cat.add_categories(\"unknown\")\n",
        "data[\"attacker_country\"].fillna(\"unknown\", inplace = True)"
      ]
    },
    {
      "cell_type": "markdown",
      "metadata": {
        "id": "uGxyF7Z1a8pt"
      },
      "source": [
        "no hay nulos"
      ]
    },
    {
      "cell_type": "code",
      "execution_count": null,
      "metadata": {
        "colab": {
          "base_uri": "https://localhost:8080/"
        },
        "id": "H6TEYFamamU-",
        "outputId": "18e54eb9-cccf-41e4-a42b-d4912c1c32bf"
      },
      "outputs": [
        {
          "output_type": "execute_result",
          "data": {
            "text/plain": [
              "watcher_country     0.658598\n",
              "attacker_country    0.000000\n",
              "attacker_as_name    0.000000\n",
              "attack_type         0.000000\n",
              "attacker_ip_enum    0.000000\n",
              "label               0.000000\n",
              "dtype: float64"
            ]
          },
          "metadata": {},
          "execution_count": 10
        }
      ],
      "source": [
        "data.isna().sum()/data.shape[0] * 100"
      ]
    },
    {
      "cell_type": "markdown",
      "metadata": {
        "id": "TE9q0-vJsuVB"
      },
      "source": [
        "# feature engineering"
      ]
    },
    {
      "cell_type": "markdown",
      "source": [
        "## concatenate the names of the countries"
      ],
      "metadata": {
        "id": "jtRMGO1V5YfH"
      }
    },
    {
      "cell_type": "code",
      "source": [
        "data[\"Countries\"] = data[\"watcher_country\"].astype(str) + \"-\" + data[\"attacker_country\"].astype(str)"
      ],
      "metadata": {
        "id": "yY5dCNKr5ayx"
      },
      "execution_count": null,
      "outputs": []
    },
    {
      "cell_type": "code",
      "source": [
        "data.drop([\"watcher_country\",\"attacker_country\"], axis = 1, inplace = True)"
      ],
      "metadata": {
        "id": "hSM23wKg6UbJ"
      },
      "execution_count": null,
      "outputs": []
    },
    {
      "cell_type": "markdown",
      "metadata": {
        "id": "F5vIorFvSXYQ"
      },
      "source": [
        "## Shodan Ports\n"
      ]
    },
    {
      "cell_type": "markdown",
      "source": [
        "Functions to separate ports and protocols"
      ],
      "metadata": {
        "id": "ym9uU-i0pTUX"
      }
    },
    {
      "cell_type": "code",
      "execution_count": null,
      "metadata": {
        "id": "njp_4R7bSXYR"
      },
      "outputs": [],
      "source": [
        "def Port(keys):\n",
        "  res = set()\n",
        "  if len(keys) == 0:\n",
        "    res.add(\"unknown\")\n",
        "    return res\n",
        "  for key in keys:\n",
        "    puerto = key.split(\"/\")[0]\n",
        "    res.add(puerto)\n",
        "  return res\n",
        "\n",
        "\n",
        "def Protocol(keys):\n",
        "  res = set()\n",
        "  if len(keys) == 0:\n",
        "    res.add(\"unknown\")\n",
        "    return res\n",
        "  for key in keys:\n",
        "    puerto = key.split(\"/\")[1]\n",
        "    res.add(puerto)\n",
        "  return res"
      ]
    },
    {
      "cell_type": "code",
      "execution_count": null,
      "metadata": {
        "id": "8hNbs12BSXYR"
      },
      "outputs": [],
      "source": [
        "Shodan[\"port\"] = Shodan[\"shodan_info\"].map(lambda x: Port(ast.literal_eval(x).keys()))\n",
        "Shodan[\"protocol\"] = Shodan[\"shodan_info\"].map(lambda x: Protocol(ast.literal_eval(x).keys()))"
      ]
    },
    {
      "cell_type": "code",
      "source": [
        "Shodan.head(5)"
      ],
      "metadata": {
        "colab": {
          "base_uri": "https://localhost:8080/",
          "height": 206
        },
        "id": "lU4ZqK1hfm66",
        "outputId": "d8c306cd-d267-4922-c9e2-76b1373bef86"
      },
      "execution_count": null,
      "outputs": [
        {
          "output_type": "execute_result",
          "data": {
            "text/plain": [
              "                                         shodan_info  attacker_ip_enum  \\\n",
              "0                                                 {}              5915   \n",
              "1  {'22/tcp': {'headers_hash': None, 'jarm': None...              3325   \n",
              "2                                                 {}              8416   \n",
              "3                                                 {}              1213   \n",
              "4                                                 {}              9185   \n",
              "\n",
              "        port   protocol  \n",
              "0  {unknown}  {unknown}  \n",
              "1       {22}      {tcp}  \n",
              "2  {unknown}  {unknown}  \n",
              "3  {unknown}  {unknown}  \n",
              "4  {unknown}  {unknown}  "
            ],
            "text/html": [
              "\n",
              "  <div id=\"df-f4747a52-ed2f-4cfa-90ec-27c99a06c435\" class=\"colab-df-container\">\n",
              "    <div>\n",
              "<style scoped>\n",
              "    .dataframe tbody tr th:only-of-type {\n",
              "        vertical-align: middle;\n",
              "    }\n",
              "\n",
              "    .dataframe tbody tr th {\n",
              "        vertical-align: top;\n",
              "    }\n",
              "\n",
              "    .dataframe thead th {\n",
              "        text-align: right;\n",
              "    }\n",
              "</style>\n",
              "<table border=\"1\" class=\"dataframe\">\n",
              "  <thead>\n",
              "    <tr style=\"text-align: right;\">\n",
              "      <th></th>\n",
              "      <th>shodan_info</th>\n",
              "      <th>attacker_ip_enum</th>\n",
              "      <th>port</th>\n",
              "      <th>protocol</th>\n",
              "    </tr>\n",
              "  </thead>\n",
              "  <tbody>\n",
              "    <tr>\n",
              "      <th>0</th>\n",
              "      <td>{}</td>\n",
              "      <td>5915</td>\n",
              "      <td>{unknown}</td>\n",
              "      <td>{unknown}</td>\n",
              "    </tr>\n",
              "    <tr>\n",
              "      <th>1</th>\n",
              "      <td>{'22/tcp': {'headers_hash': None, 'jarm': None...</td>\n",
              "      <td>3325</td>\n",
              "      <td>{22}</td>\n",
              "      <td>{tcp}</td>\n",
              "    </tr>\n",
              "    <tr>\n",
              "      <th>2</th>\n",
              "      <td>{}</td>\n",
              "      <td>8416</td>\n",
              "      <td>{unknown}</td>\n",
              "      <td>{unknown}</td>\n",
              "    </tr>\n",
              "    <tr>\n",
              "      <th>3</th>\n",
              "      <td>{}</td>\n",
              "      <td>1213</td>\n",
              "      <td>{unknown}</td>\n",
              "      <td>{unknown}</td>\n",
              "    </tr>\n",
              "    <tr>\n",
              "      <th>4</th>\n",
              "      <td>{}</td>\n",
              "      <td>9185</td>\n",
              "      <td>{unknown}</td>\n",
              "      <td>{unknown}</td>\n",
              "    </tr>\n",
              "  </tbody>\n",
              "</table>\n",
              "</div>\n",
              "    <div class=\"colab-df-buttons\">\n",
              "\n",
              "  <div class=\"colab-df-container\">\n",
              "    <button class=\"colab-df-convert\" onclick=\"convertToInteractive('df-f4747a52-ed2f-4cfa-90ec-27c99a06c435')\"\n",
              "            title=\"Convert this dataframe to an interactive table.\"\n",
              "            style=\"display:none;\">\n",
              "\n",
              "  <svg xmlns=\"http://www.w3.org/2000/svg\" height=\"24px\" viewBox=\"0 -960 960 960\">\n",
              "    <path d=\"M120-120v-720h720v720H120Zm60-500h600v-160H180v160Zm220 220h160v-160H400v160Zm0 220h160v-160H400v160ZM180-400h160v-160H180v160Zm440 0h160v-160H620v160ZM180-180h160v-160H180v160Zm440 0h160v-160H620v160Z\"/>\n",
              "  </svg>\n",
              "    </button>\n",
              "\n",
              "  <style>\n",
              "    .colab-df-container {\n",
              "      display:flex;\n",
              "      gap: 12px;\n",
              "    }\n",
              "\n",
              "    .colab-df-convert {\n",
              "      background-color: #E8F0FE;\n",
              "      border: none;\n",
              "      border-radius: 50%;\n",
              "      cursor: pointer;\n",
              "      display: none;\n",
              "      fill: #1967D2;\n",
              "      height: 32px;\n",
              "      padding: 0 0 0 0;\n",
              "      width: 32px;\n",
              "    }\n",
              "\n",
              "    .colab-df-convert:hover {\n",
              "      background-color: #E2EBFA;\n",
              "      box-shadow: 0px 1px 2px rgba(60, 64, 67, 0.3), 0px 1px 3px 1px rgba(60, 64, 67, 0.15);\n",
              "      fill: #174EA6;\n",
              "    }\n",
              "\n",
              "    .colab-df-buttons div {\n",
              "      margin-bottom: 4px;\n",
              "    }\n",
              "\n",
              "    [theme=dark] .colab-df-convert {\n",
              "      background-color: #3B4455;\n",
              "      fill: #D2E3FC;\n",
              "    }\n",
              "\n",
              "    [theme=dark] .colab-df-convert:hover {\n",
              "      background-color: #434B5C;\n",
              "      box-shadow: 0px 1px 3px 1px rgba(0, 0, 0, 0.15);\n",
              "      filter: drop-shadow(0px 1px 2px rgba(0, 0, 0, 0.3));\n",
              "      fill: #FFFFFF;\n",
              "    }\n",
              "  </style>\n",
              "\n",
              "    <script>\n",
              "      const buttonEl =\n",
              "        document.querySelector('#df-f4747a52-ed2f-4cfa-90ec-27c99a06c435 button.colab-df-convert');\n",
              "      buttonEl.style.display =\n",
              "        google.colab.kernel.accessAllowed ? 'block' : 'none';\n",
              "\n",
              "      async function convertToInteractive(key) {\n",
              "        const element = document.querySelector('#df-f4747a52-ed2f-4cfa-90ec-27c99a06c435');\n",
              "        const dataTable =\n",
              "          await google.colab.kernel.invokeFunction('convertToInteractive',\n",
              "                                                    [key], {});\n",
              "        if (!dataTable) return;\n",
              "\n",
              "        const docLinkHtml = 'Like what you see? Visit the ' +\n",
              "          '<a target=\"_blank\" href=https://colab.research.google.com/notebooks/data_table.ipynb>data table notebook</a>'\n",
              "          + ' to learn more about interactive tables.';\n",
              "        element.innerHTML = '';\n",
              "        dataTable['output_type'] = 'display_data';\n",
              "        await google.colab.output.renderOutput(dataTable, element);\n",
              "        const docLink = document.createElement('div');\n",
              "        docLink.innerHTML = docLinkHtml;\n",
              "        element.appendChild(docLink);\n",
              "      }\n",
              "    </script>\n",
              "  </div>\n",
              "\n",
              "\n",
              "<div id=\"df-f71ae2d4-2f7d-417f-beee-c1c3a6e91257\">\n",
              "  <button class=\"colab-df-quickchart\" onclick=\"quickchart('df-f71ae2d4-2f7d-417f-beee-c1c3a6e91257')\"\n",
              "            title=\"Suggest charts\"\n",
              "            style=\"display:none;\">\n",
              "\n",
              "<svg xmlns=\"http://www.w3.org/2000/svg\" height=\"24px\"viewBox=\"0 0 24 24\"\n",
              "     width=\"24px\">\n",
              "    <g>\n",
              "        <path d=\"M19 3H5c-1.1 0-2 .9-2 2v14c0 1.1.9 2 2 2h14c1.1 0 2-.9 2-2V5c0-1.1-.9-2-2-2zM9 17H7v-7h2v7zm4 0h-2V7h2v10zm4 0h-2v-4h2v4z\"/>\n",
              "    </g>\n",
              "</svg>\n",
              "  </button>\n",
              "\n",
              "<style>\n",
              "  .colab-df-quickchart {\n",
              "      --bg-color: #E8F0FE;\n",
              "      --fill-color: #1967D2;\n",
              "      --hover-bg-color: #E2EBFA;\n",
              "      --hover-fill-color: #174EA6;\n",
              "      --disabled-fill-color: #AAA;\n",
              "      --disabled-bg-color: #DDD;\n",
              "  }\n",
              "\n",
              "  [theme=dark] .colab-df-quickchart {\n",
              "      --bg-color: #3B4455;\n",
              "      --fill-color: #D2E3FC;\n",
              "      --hover-bg-color: #434B5C;\n",
              "      --hover-fill-color: #FFFFFF;\n",
              "      --disabled-bg-color: #3B4455;\n",
              "      --disabled-fill-color: #666;\n",
              "  }\n",
              "\n",
              "  .colab-df-quickchart {\n",
              "    background-color: var(--bg-color);\n",
              "    border: none;\n",
              "    border-radius: 50%;\n",
              "    cursor: pointer;\n",
              "    display: none;\n",
              "    fill: var(--fill-color);\n",
              "    height: 32px;\n",
              "    padding: 0;\n",
              "    width: 32px;\n",
              "  }\n",
              "\n",
              "  .colab-df-quickchart:hover {\n",
              "    background-color: var(--hover-bg-color);\n",
              "    box-shadow: 0 1px 2px rgba(60, 64, 67, 0.3), 0 1px 3px 1px rgba(60, 64, 67, 0.15);\n",
              "    fill: var(--button-hover-fill-color);\n",
              "  }\n",
              "\n",
              "  .colab-df-quickchart-complete:disabled,\n",
              "  .colab-df-quickchart-complete:disabled:hover {\n",
              "    background-color: var(--disabled-bg-color);\n",
              "    fill: var(--disabled-fill-color);\n",
              "    box-shadow: none;\n",
              "  }\n",
              "\n",
              "  .colab-df-spinner {\n",
              "    border: 2px solid var(--fill-color);\n",
              "    border-color: transparent;\n",
              "    border-bottom-color: var(--fill-color);\n",
              "    animation:\n",
              "      spin 1s steps(1) infinite;\n",
              "  }\n",
              "\n",
              "  @keyframes spin {\n",
              "    0% {\n",
              "      border-color: transparent;\n",
              "      border-bottom-color: var(--fill-color);\n",
              "      border-left-color: var(--fill-color);\n",
              "    }\n",
              "    20% {\n",
              "      border-color: transparent;\n",
              "      border-left-color: var(--fill-color);\n",
              "      border-top-color: var(--fill-color);\n",
              "    }\n",
              "    30% {\n",
              "      border-color: transparent;\n",
              "      border-left-color: var(--fill-color);\n",
              "      border-top-color: var(--fill-color);\n",
              "      border-right-color: var(--fill-color);\n",
              "    }\n",
              "    40% {\n",
              "      border-color: transparent;\n",
              "      border-right-color: var(--fill-color);\n",
              "      border-top-color: var(--fill-color);\n",
              "    }\n",
              "    60% {\n",
              "      border-color: transparent;\n",
              "      border-right-color: var(--fill-color);\n",
              "    }\n",
              "    80% {\n",
              "      border-color: transparent;\n",
              "      border-right-color: var(--fill-color);\n",
              "      border-bottom-color: var(--fill-color);\n",
              "    }\n",
              "    90% {\n",
              "      border-color: transparent;\n",
              "      border-bottom-color: var(--fill-color);\n",
              "    }\n",
              "  }\n",
              "</style>\n",
              "\n",
              "  <script>\n",
              "    async function quickchart(key) {\n",
              "      const quickchartButtonEl =\n",
              "        document.querySelector('#' + key + ' button');\n",
              "      quickchartButtonEl.disabled = true;  // To prevent multiple clicks.\n",
              "      quickchartButtonEl.classList.add('colab-df-spinner');\n",
              "      try {\n",
              "        const charts = await google.colab.kernel.invokeFunction(\n",
              "            'suggestCharts', [key], {});\n",
              "      } catch (error) {\n",
              "        console.error('Error during call to suggestCharts:', error);\n",
              "      }\n",
              "      quickchartButtonEl.classList.remove('colab-df-spinner');\n",
              "      quickchartButtonEl.classList.add('colab-df-quickchart-complete');\n",
              "    }\n",
              "    (() => {\n",
              "      let quickchartButtonEl =\n",
              "        document.querySelector('#df-f71ae2d4-2f7d-417f-beee-c1c3a6e91257 button');\n",
              "      quickchartButtonEl.style.display =\n",
              "        google.colab.kernel.accessAllowed ? 'block' : 'none';\n",
              "    })();\n",
              "  </script>\n",
              "</div>\n",
              "    </div>\n",
              "  </div>\n"
            ]
          },
          "metadata": {},
          "execution_count": 15
        }
      ]
    },
    {
      "cell_type": "markdown",
      "source": [
        "Merge data and Shodan ports"
      ],
      "metadata": {
        "id": "C4BZ5eDWpguN"
      }
    },
    {
      "cell_type": "code",
      "execution_count": null,
      "metadata": {
        "id": "opVzA8BASXYR"
      },
      "outputs": [],
      "source": [
        "data = data.merge(Shodan[[\"attacker_ip_enum\",\"port\"]], on = \"attacker_ip_enum\", how = \"left\")"
      ]
    },
    {
      "cell_type": "markdown",
      "metadata": {
        "id": "IVyU8kWWSXYV"
      },
      "source": [
        "### Protocol"
      ]
    },
    {
      "cell_type": "code",
      "execution_count": null,
      "metadata": {
        "id": "ouw-lREbSXYV"
      },
      "outputs": [],
      "source": [
        "protocol = Shodan[[\"attacker_ip_enum\",\"protocol\",\"port\"]].explode(\"protocol\")"
      ]
    },
    {
      "cell_type": "code",
      "execution_count": null,
      "metadata": {
        "id": "dPLRnya_SXYV"
      },
      "outputs": [],
      "source": [
        "protocol = protocol.groupby([\"attacker_ip_enum\",\"protocol\"]).count().unstack().fillna(0).reset_index()"
      ]
    },
    {
      "cell_type": "code",
      "execution_count": null,
      "metadata": {
        "id": "5y5uu9PgSXYW"
      },
      "outputs": [],
      "source": [
        "protocol.columns = [\"attacker_ip_enum\",\"unknown\",\"tcp\",\"udp\"]"
      ]
    },
    {
      "cell_type": "code",
      "execution_count": null,
      "metadata": {
        "id": "fI2yI9RISXYW"
      },
      "outputs": [],
      "source": [
        "data = data.merge(protocol, on = \"attacker_ip_enum\", how = \"left\")"
      ]
    },
    {
      "cell_type": "markdown",
      "metadata": {
        "id": "uK_iNogazfeI"
      },
      "source": [
        "## Take the service in attack_type"
      ]
    },
    {
      "cell_type": "code",
      "execution_count": null,
      "metadata": {
        "id": "-IRc4Ghvzixe"
      },
      "outputs": [],
      "source": [
        "data[\"service\"] = data[\"attack_type\"].map(lambda x: x.split(\":\")[0])\n",
        "data.drop(\"attack_type\",axis = 1, inplace = True)"
      ]
    },
    {
      "cell_type": "markdown",
      "metadata": {
        "id": "f9NeCer-tOeE"
      },
      "source": [
        "# Data management"
      ]
    },
    {
      "cell_type": "markdown",
      "metadata": {
        "id": "fiZ8LY0J4PxX"
      },
      "source": [
        "## Creating validation and test"
      ]
    },
    {
      "cell_type": "markdown",
      "metadata": {
        "id": "IOIHWrcK40hC"
      },
      "source": [
        "### Validation and test mantaining data dispersion"
      ]
    },
    {
      "cell_type": "markdown",
      "source": [
        "GroupShuffleSplit to separate the data with label 0 and label 1 in a 80-20 to mantain data dispersion"
      ],
      "metadata": {
        "id": "4R-7vtb_qfmq"
      }
    },
    {
      "cell_type": "code",
      "execution_count": null,
      "metadata": {
        "id": "82D3Z4Hs4MH4"
      },
      "outputs": [],
      "source": [
        "data1 = data[data[\"label\"] == 1]\n",
        "data0 = data[data[\"label\"] == 0]"
      ]
    },
    {
      "cell_type": "code",
      "execution_count": null,
      "metadata": {
        "id": "qhiCzNNovRmX"
      },
      "outputs": [],
      "source": [
        "splitter = GroupShuffleSplit(test_size=.20, n_splits=2, random_state = RANDOM_STATE)\n",
        "split0 = splitter.split(data0, groups= data0[\"attacker_ip_enum\"])\n",
        "train_inds0, test_inds0 = next(split0)\n",
        "\n",
        "splitter = GroupShuffleSplit(test_size=.20, n_splits=2, random_state = RANDOM_STATE)\n",
        "split1 = splitter.split(data1, groups= data1[\"attacker_ip_enum\"])\n",
        "train_inds1, test_inds1 = next(split1)\n",
        "\n",
        "train0 = data0.iloc[train_inds0]\n",
        "valid0 = data0.iloc[test_inds0]\n",
        "\n",
        "train1 = data1.iloc[train_inds1]\n",
        "valid1 = data1.iloc[test_inds1]"
      ]
    },
    {
      "cell_type": "markdown",
      "source": [
        "Concat the data with 0 and 1"
      ],
      "metadata": {
        "id": "QFcsEOsiq0VK"
      }
    },
    {
      "cell_type": "code",
      "execution_count": null,
      "metadata": {
        "id": "MesDvFQ557qx"
      },
      "outputs": [],
      "source": [
        "train = shuffle(pd.concat([train1,train0]), random_state= RANDOM_STATE)\n",
        "valid = shuffle(pd.concat([valid1,valid0]), random_state= RANDOM_STATE)"
      ]
    },
    {
      "cell_type": "markdown",
      "source": [
        "clear memory"
      ],
      "metadata": {
        "id": "QVjN7ld-qt0c"
      }
    },
    {
      "cell_type": "code",
      "source": [
        "datos0 = \"\"\n",
        "datos1 = \"\"\n",
        "datos = \"\"\n",
        "train0 = \"\"\n",
        "valid0 = \"\"\n",
        "train1 = \"\"\n",
        "valid1 = \"\""
      ],
      "metadata": {
        "id": "NyXBpgMoqmE7"
      },
      "execution_count": null,
      "outputs": []
    },
    {
      "cell_type": "markdown",
      "metadata": {
        "id": "m23dJUempZKO"
      },
      "source": [
        "# Mean"
      ]
    },
    {
      "cell_type": "markdown",
      "metadata": {
        "id": "kimweTvwf5iG"
      },
      "source": [
        "## Attacker_as_name vs ports"
      ]
    },
    {
      "cell_type": "markdown",
      "source": [
        "Take the ports and as_name, calculate mean for each port associated with the same attacker_as_name.\n",
        "\n",
        "for example: the case of \"sri lanka telecom internet\" which have numerous ports."
      ],
      "metadata": {
        "id": "a6VUZeg62z1D"
      }
    },
    {
      "cell_type": "code",
      "source": [
        "train.head(5)"
      ],
      "metadata": {
        "colab": {
          "base_uri": "https://localhost:8080/",
          "height": 206
        },
        "id": "0JY3QlNJtX6j",
        "outputId": "6bb563d7-7c01-4185-9ce6-e385491d854f"
      },
      "execution_count": null,
      "outputs": [
        {
          "output_type": "execute_result",
          "data": {
            "text/plain": [
              "                   attacker_as_name  attacker_ip_enum  label Countries  \\\n",
              "1401946                   rcs & rds             53005      0     DE-RO   \n",
              "1023231               viettel group             34156      0     PL-VN   \n",
              "4980524    pt panglima kamayo media            193534      0     GR-ID   \n",
              "2656816                 signet b.v.            101374      0     PL-NL   \n",
              "667166   sri lanka telecom internet             27122      0     US-LK   \n",
              "\n",
              "                                                      port  unknown  tcp  udp  \\\n",
              "1401946                                          {unknown}      0.0  0.0  1.0   \n",
              "1023231                                          {unknown}      0.0  0.0  1.0   \n",
              "4980524  {2087, 443, 8443, 8006, 2000, 2083, 80, 2082, ...      1.0  1.0  0.0   \n",
              "2656816   {10000, 443, 2222, 21, 80, 587, 25, 10001, 3306}      1.0  0.0  0.0   \n",
              "667166                   {8089, 7547, 80, 1434, 445, 8085}      1.0  1.0  0.0   \n",
              "\n",
              "        service  \n",
              "1401946    http  \n",
              "1023231    http  \n",
              "4980524    http  \n",
              "2656816    http  \n",
              "667166     http  "
            ],
            "text/html": [
              "\n",
              "  <div id=\"df-57b0c741-99d9-4f75-8d89-1b55511dea71\" class=\"colab-df-container\">\n",
              "    <div>\n",
              "<style scoped>\n",
              "    .dataframe tbody tr th:only-of-type {\n",
              "        vertical-align: middle;\n",
              "    }\n",
              "\n",
              "    .dataframe tbody tr th {\n",
              "        vertical-align: top;\n",
              "    }\n",
              "\n",
              "    .dataframe thead th {\n",
              "        text-align: right;\n",
              "    }\n",
              "</style>\n",
              "<table border=\"1\" class=\"dataframe\">\n",
              "  <thead>\n",
              "    <tr style=\"text-align: right;\">\n",
              "      <th></th>\n",
              "      <th>attacker_as_name</th>\n",
              "      <th>attacker_ip_enum</th>\n",
              "      <th>label</th>\n",
              "      <th>Countries</th>\n",
              "      <th>port</th>\n",
              "      <th>unknown</th>\n",
              "      <th>tcp</th>\n",
              "      <th>udp</th>\n",
              "      <th>service</th>\n",
              "    </tr>\n",
              "  </thead>\n",
              "  <tbody>\n",
              "    <tr>\n",
              "      <th>1401946</th>\n",
              "      <td>rcs &amp; rds</td>\n",
              "      <td>53005</td>\n",
              "      <td>0</td>\n",
              "      <td>DE-RO</td>\n",
              "      <td>{unknown}</td>\n",
              "      <td>0.0</td>\n",
              "      <td>0.0</td>\n",
              "      <td>1.0</td>\n",
              "      <td>http</td>\n",
              "    </tr>\n",
              "    <tr>\n",
              "      <th>1023231</th>\n",
              "      <td>viettel group</td>\n",
              "      <td>34156</td>\n",
              "      <td>0</td>\n",
              "      <td>PL-VN</td>\n",
              "      <td>{unknown}</td>\n",
              "      <td>0.0</td>\n",
              "      <td>0.0</td>\n",
              "      <td>1.0</td>\n",
              "      <td>http</td>\n",
              "    </tr>\n",
              "    <tr>\n",
              "      <th>4980524</th>\n",
              "      <td>pt panglima kamayo media</td>\n",
              "      <td>193534</td>\n",
              "      <td>0</td>\n",
              "      <td>GR-ID</td>\n",
              "      <td>{2087, 443, 8443, 8006, 2000, 2083, 80, 2082, ...</td>\n",
              "      <td>1.0</td>\n",
              "      <td>1.0</td>\n",
              "      <td>0.0</td>\n",
              "      <td>http</td>\n",
              "    </tr>\n",
              "    <tr>\n",
              "      <th>2656816</th>\n",
              "      <td>signet b.v.</td>\n",
              "      <td>101374</td>\n",
              "      <td>0</td>\n",
              "      <td>PL-NL</td>\n",
              "      <td>{10000, 443, 2222, 21, 80, 587, 25, 10001, 3306}</td>\n",
              "      <td>1.0</td>\n",
              "      <td>0.0</td>\n",
              "      <td>0.0</td>\n",
              "      <td>http</td>\n",
              "    </tr>\n",
              "    <tr>\n",
              "      <th>667166</th>\n",
              "      <td>sri lanka telecom internet</td>\n",
              "      <td>27122</td>\n",
              "      <td>0</td>\n",
              "      <td>US-LK</td>\n",
              "      <td>{8089, 7547, 80, 1434, 445, 8085}</td>\n",
              "      <td>1.0</td>\n",
              "      <td>1.0</td>\n",
              "      <td>0.0</td>\n",
              "      <td>http</td>\n",
              "    </tr>\n",
              "  </tbody>\n",
              "</table>\n",
              "</div>\n",
              "    <div class=\"colab-df-buttons\">\n",
              "\n",
              "  <div class=\"colab-df-container\">\n",
              "    <button class=\"colab-df-convert\" onclick=\"convertToInteractive('df-57b0c741-99d9-4f75-8d89-1b55511dea71')\"\n",
              "            title=\"Convert this dataframe to an interactive table.\"\n",
              "            style=\"display:none;\">\n",
              "\n",
              "  <svg xmlns=\"http://www.w3.org/2000/svg\" height=\"24px\" viewBox=\"0 -960 960 960\">\n",
              "    <path d=\"M120-120v-720h720v720H120Zm60-500h600v-160H180v160Zm220 220h160v-160H400v160Zm0 220h160v-160H400v160ZM180-400h160v-160H180v160Zm440 0h160v-160H620v160ZM180-180h160v-160H180v160Zm440 0h160v-160H620v160Z\"/>\n",
              "  </svg>\n",
              "    </button>\n",
              "\n",
              "  <style>\n",
              "    .colab-df-container {\n",
              "      display:flex;\n",
              "      gap: 12px;\n",
              "    }\n",
              "\n",
              "    .colab-df-convert {\n",
              "      background-color: #E8F0FE;\n",
              "      border: none;\n",
              "      border-radius: 50%;\n",
              "      cursor: pointer;\n",
              "      display: none;\n",
              "      fill: #1967D2;\n",
              "      height: 32px;\n",
              "      padding: 0 0 0 0;\n",
              "      width: 32px;\n",
              "    }\n",
              "\n",
              "    .colab-df-convert:hover {\n",
              "      background-color: #E2EBFA;\n",
              "      box-shadow: 0px 1px 2px rgba(60, 64, 67, 0.3), 0px 1px 3px 1px rgba(60, 64, 67, 0.15);\n",
              "      fill: #174EA6;\n",
              "    }\n",
              "\n",
              "    .colab-df-buttons div {\n",
              "      margin-bottom: 4px;\n",
              "    }\n",
              "\n",
              "    [theme=dark] .colab-df-convert {\n",
              "      background-color: #3B4455;\n",
              "      fill: #D2E3FC;\n",
              "    }\n",
              "\n",
              "    [theme=dark] .colab-df-convert:hover {\n",
              "      background-color: #434B5C;\n",
              "      box-shadow: 0px 1px 3px 1px rgba(0, 0, 0, 0.15);\n",
              "      filter: drop-shadow(0px 1px 2px rgba(0, 0, 0, 0.3));\n",
              "      fill: #FFFFFF;\n",
              "    }\n",
              "  </style>\n",
              "\n",
              "    <script>\n",
              "      const buttonEl =\n",
              "        document.querySelector('#df-57b0c741-99d9-4f75-8d89-1b55511dea71 button.colab-df-convert');\n",
              "      buttonEl.style.display =\n",
              "        google.colab.kernel.accessAllowed ? 'block' : 'none';\n",
              "\n",
              "      async function convertToInteractive(key) {\n",
              "        const element = document.querySelector('#df-57b0c741-99d9-4f75-8d89-1b55511dea71');\n",
              "        const dataTable =\n",
              "          await google.colab.kernel.invokeFunction('convertToInteractive',\n",
              "                                                    [key], {});\n",
              "        if (!dataTable) return;\n",
              "\n",
              "        const docLinkHtml = 'Like what you see? Visit the ' +\n",
              "          '<a target=\"_blank\" href=https://colab.research.google.com/notebooks/data_table.ipynb>data table notebook</a>'\n",
              "          + ' to learn more about interactive tables.';\n",
              "        element.innerHTML = '';\n",
              "        dataTable['output_type'] = 'display_data';\n",
              "        await google.colab.output.renderOutput(dataTable, element);\n",
              "        const docLink = document.createElement('div');\n",
              "        docLink.innerHTML = docLinkHtml;\n",
              "        element.appendChild(docLink);\n",
              "      }\n",
              "    </script>\n",
              "  </div>\n",
              "\n",
              "\n",
              "<div id=\"df-06f06544-5387-4d4a-8403-c237ff529d64\">\n",
              "  <button class=\"colab-df-quickchart\" onclick=\"quickchart('df-06f06544-5387-4d4a-8403-c237ff529d64')\"\n",
              "            title=\"Suggest charts\"\n",
              "            style=\"display:none;\">\n",
              "\n",
              "<svg xmlns=\"http://www.w3.org/2000/svg\" height=\"24px\"viewBox=\"0 0 24 24\"\n",
              "     width=\"24px\">\n",
              "    <g>\n",
              "        <path d=\"M19 3H5c-1.1 0-2 .9-2 2v14c0 1.1.9 2 2 2h14c1.1 0 2-.9 2-2V5c0-1.1-.9-2-2-2zM9 17H7v-7h2v7zm4 0h-2V7h2v10zm4 0h-2v-4h2v4z\"/>\n",
              "    </g>\n",
              "</svg>\n",
              "  </button>\n",
              "\n",
              "<style>\n",
              "  .colab-df-quickchart {\n",
              "      --bg-color: #E8F0FE;\n",
              "      --fill-color: #1967D2;\n",
              "      --hover-bg-color: #E2EBFA;\n",
              "      --hover-fill-color: #174EA6;\n",
              "      --disabled-fill-color: #AAA;\n",
              "      --disabled-bg-color: #DDD;\n",
              "  }\n",
              "\n",
              "  [theme=dark] .colab-df-quickchart {\n",
              "      --bg-color: #3B4455;\n",
              "      --fill-color: #D2E3FC;\n",
              "      --hover-bg-color: #434B5C;\n",
              "      --hover-fill-color: #FFFFFF;\n",
              "      --disabled-bg-color: #3B4455;\n",
              "      --disabled-fill-color: #666;\n",
              "  }\n",
              "\n",
              "  .colab-df-quickchart {\n",
              "    background-color: var(--bg-color);\n",
              "    border: none;\n",
              "    border-radius: 50%;\n",
              "    cursor: pointer;\n",
              "    display: none;\n",
              "    fill: var(--fill-color);\n",
              "    height: 32px;\n",
              "    padding: 0;\n",
              "    width: 32px;\n",
              "  }\n",
              "\n",
              "  .colab-df-quickchart:hover {\n",
              "    background-color: var(--hover-bg-color);\n",
              "    box-shadow: 0 1px 2px rgba(60, 64, 67, 0.3), 0 1px 3px 1px rgba(60, 64, 67, 0.15);\n",
              "    fill: var(--button-hover-fill-color);\n",
              "  }\n",
              "\n",
              "  .colab-df-quickchart-complete:disabled,\n",
              "  .colab-df-quickchart-complete:disabled:hover {\n",
              "    background-color: var(--disabled-bg-color);\n",
              "    fill: var(--disabled-fill-color);\n",
              "    box-shadow: none;\n",
              "  }\n",
              "\n",
              "  .colab-df-spinner {\n",
              "    border: 2px solid var(--fill-color);\n",
              "    border-color: transparent;\n",
              "    border-bottom-color: var(--fill-color);\n",
              "    animation:\n",
              "      spin 1s steps(1) infinite;\n",
              "  }\n",
              "\n",
              "  @keyframes spin {\n",
              "    0% {\n",
              "      border-color: transparent;\n",
              "      border-bottom-color: var(--fill-color);\n",
              "      border-left-color: var(--fill-color);\n",
              "    }\n",
              "    20% {\n",
              "      border-color: transparent;\n",
              "      border-left-color: var(--fill-color);\n",
              "      border-top-color: var(--fill-color);\n",
              "    }\n",
              "    30% {\n",
              "      border-color: transparent;\n",
              "      border-left-color: var(--fill-color);\n",
              "      border-top-color: var(--fill-color);\n",
              "      border-right-color: var(--fill-color);\n",
              "    }\n",
              "    40% {\n",
              "      border-color: transparent;\n",
              "      border-right-color: var(--fill-color);\n",
              "      border-top-color: var(--fill-color);\n",
              "    }\n",
              "    60% {\n",
              "      border-color: transparent;\n",
              "      border-right-color: var(--fill-color);\n",
              "    }\n",
              "    80% {\n",
              "      border-color: transparent;\n",
              "      border-right-color: var(--fill-color);\n",
              "      border-bottom-color: var(--fill-color);\n",
              "    }\n",
              "    90% {\n",
              "      border-color: transparent;\n",
              "      border-bottom-color: var(--fill-color);\n",
              "    }\n",
              "  }\n",
              "</style>\n",
              "\n",
              "  <script>\n",
              "    async function quickchart(key) {\n",
              "      const quickchartButtonEl =\n",
              "        document.querySelector('#' + key + ' button');\n",
              "      quickchartButtonEl.disabled = true;  // To prevent multiple clicks.\n",
              "      quickchartButtonEl.classList.add('colab-df-spinner');\n",
              "      try {\n",
              "        const charts = await google.colab.kernel.invokeFunction(\n",
              "            'suggestCharts', [key], {});\n",
              "      } catch (error) {\n",
              "        console.error('Error during call to suggestCharts:', error);\n",
              "      }\n",
              "      quickchartButtonEl.classList.remove('colab-df-spinner');\n",
              "      quickchartButtonEl.classList.add('colab-df-quickchart-complete');\n",
              "    }\n",
              "    (() => {\n",
              "      let quickchartButtonEl =\n",
              "        document.querySelector('#df-06f06544-5387-4d4a-8403-c237ff529d64 button');\n",
              "      quickchartButtonEl.style.display =\n",
              "        google.colab.kernel.accessAllowed ? 'block' : 'none';\n",
              "    })();\n",
              "  </script>\n",
              "</div>\n",
              "    </div>\n",
              "  </div>\n"
            ]
          },
          "metadata": {},
          "execution_count": 26
        }
      ]
    },
    {
      "cell_type": "markdown",
      "source": [
        "I take the best combination based on the mean\n",
        "\n",
        "\"sri lanka telecom internet\" with port 80 = 0.2.\n",
        "\n",
        "\"sri lanka telecom internet\" with port 53 = 0.8.\n",
        "\n",
        "I choose port 80.\n"
      ],
      "metadata": {
        "id": "TR9MK9RSvgVP"
      }
    },
    {
      "cell_type": "markdown",
      "metadata": {
        "id": "duCQWFmJV23T"
      },
      "source": [
        "### train"
      ]
    },
    {
      "cell_type": "code",
      "execution_count": null,
      "metadata": {
        "id": "KjFv16GnEAfr"
      },
      "outputs": [],
      "source": [
        "att_as_name_vs_p = train[[\"attacker_as_name\", \"label\", \"port\"]].explode(\"port\")"
      ]
    },
    {
      "cell_type": "code",
      "source": [
        "att_as_name_vs_p.head()"
      ],
      "metadata": {
        "colab": {
          "base_uri": "https://localhost:8080/",
          "height": 206
        },
        "id": "z0-Ka1nkwUy5",
        "outputId": "840b4efd-b666-4311-aa75-5ff2a5f3838d"
      },
      "execution_count": null,
      "outputs": [
        {
          "output_type": "execute_result",
          "data": {
            "text/plain": [
              "                 attacker_as_name  label     port\n",
              "1401946                 rcs & rds      0  unknown\n",
              "1023231             viettel group      0  unknown\n",
              "4980524  pt panglima kamayo media      0     2087\n",
              "4980524  pt panglima kamayo media      0      443\n",
              "4980524  pt panglima kamayo media      0     8443"
            ],
            "text/html": [
              "\n",
              "  <div id=\"df-c3bd99cd-9ce9-4709-a30f-2c196b308db0\" class=\"colab-df-container\">\n",
              "    <div>\n",
              "<style scoped>\n",
              "    .dataframe tbody tr th:only-of-type {\n",
              "        vertical-align: middle;\n",
              "    }\n",
              "\n",
              "    .dataframe tbody tr th {\n",
              "        vertical-align: top;\n",
              "    }\n",
              "\n",
              "    .dataframe thead th {\n",
              "        text-align: right;\n",
              "    }\n",
              "</style>\n",
              "<table border=\"1\" class=\"dataframe\">\n",
              "  <thead>\n",
              "    <tr style=\"text-align: right;\">\n",
              "      <th></th>\n",
              "      <th>attacker_as_name</th>\n",
              "      <th>label</th>\n",
              "      <th>port</th>\n",
              "    </tr>\n",
              "  </thead>\n",
              "  <tbody>\n",
              "    <tr>\n",
              "      <th>1401946</th>\n",
              "      <td>rcs &amp; rds</td>\n",
              "      <td>0</td>\n",
              "      <td>unknown</td>\n",
              "    </tr>\n",
              "    <tr>\n",
              "      <th>1023231</th>\n",
              "      <td>viettel group</td>\n",
              "      <td>0</td>\n",
              "      <td>unknown</td>\n",
              "    </tr>\n",
              "    <tr>\n",
              "      <th>4980524</th>\n",
              "      <td>pt panglima kamayo media</td>\n",
              "      <td>0</td>\n",
              "      <td>2087</td>\n",
              "    </tr>\n",
              "    <tr>\n",
              "      <th>4980524</th>\n",
              "      <td>pt panglima kamayo media</td>\n",
              "      <td>0</td>\n",
              "      <td>443</td>\n",
              "    </tr>\n",
              "    <tr>\n",
              "      <th>4980524</th>\n",
              "      <td>pt panglima kamayo media</td>\n",
              "      <td>0</td>\n",
              "      <td>8443</td>\n",
              "    </tr>\n",
              "  </tbody>\n",
              "</table>\n",
              "</div>\n",
              "    <div class=\"colab-df-buttons\">\n",
              "\n",
              "  <div class=\"colab-df-container\">\n",
              "    <button class=\"colab-df-convert\" onclick=\"convertToInteractive('df-c3bd99cd-9ce9-4709-a30f-2c196b308db0')\"\n",
              "            title=\"Convert this dataframe to an interactive table.\"\n",
              "            style=\"display:none;\">\n",
              "\n",
              "  <svg xmlns=\"http://www.w3.org/2000/svg\" height=\"24px\" viewBox=\"0 -960 960 960\">\n",
              "    <path d=\"M120-120v-720h720v720H120Zm60-500h600v-160H180v160Zm220 220h160v-160H400v160Zm0 220h160v-160H400v160ZM180-400h160v-160H180v160Zm440 0h160v-160H620v160ZM180-180h160v-160H180v160Zm440 0h160v-160H620v160Z\"/>\n",
              "  </svg>\n",
              "    </button>\n",
              "\n",
              "  <style>\n",
              "    .colab-df-container {\n",
              "      display:flex;\n",
              "      gap: 12px;\n",
              "    }\n",
              "\n",
              "    .colab-df-convert {\n",
              "      background-color: #E8F0FE;\n",
              "      border: none;\n",
              "      border-radius: 50%;\n",
              "      cursor: pointer;\n",
              "      display: none;\n",
              "      fill: #1967D2;\n",
              "      height: 32px;\n",
              "      padding: 0 0 0 0;\n",
              "      width: 32px;\n",
              "    }\n",
              "\n",
              "    .colab-df-convert:hover {\n",
              "      background-color: #E2EBFA;\n",
              "      box-shadow: 0px 1px 2px rgba(60, 64, 67, 0.3), 0px 1px 3px 1px rgba(60, 64, 67, 0.15);\n",
              "      fill: #174EA6;\n",
              "    }\n",
              "\n",
              "    .colab-df-buttons div {\n",
              "      margin-bottom: 4px;\n",
              "    }\n",
              "\n",
              "    [theme=dark] .colab-df-convert {\n",
              "      background-color: #3B4455;\n",
              "      fill: #D2E3FC;\n",
              "    }\n",
              "\n",
              "    [theme=dark] .colab-df-convert:hover {\n",
              "      background-color: #434B5C;\n",
              "      box-shadow: 0px 1px 3px 1px rgba(0, 0, 0, 0.15);\n",
              "      filter: drop-shadow(0px 1px 2px rgba(0, 0, 0, 0.3));\n",
              "      fill: #FFFFFF;\n",
              "    }\n",
              "  </style>\n",
              "\n",
              "    <script>\n",
              "      const buttonEl =\n",
              "        document.querySelector('#df-c3bd99cd-9ce9-4709-a30f-2c196b308db0 button.colab-df-convert');\n",
              "      buttonEl.style.display =\n",
              "        google.colab.kernel.accessAllowed ? 'block' : 'none';\n",
              "\n",
              "      async function convertToInteractive(key) {\n",
              "        const element = document.querySelector('#df-c3bd99cd-9ce9-4709-a30f-2c196b308db0');\n",
              "        const dataTable =\n",
              "          await google.colab.kernel.invokeFunction('convertToInteractive',\n",
              "                                                    [key], {});\n",
              "        if (!dataTable) return;\n",
              "\n",
              "        const docLinkHtml = 'Like what you see? Visit the ' +\n",
              "          '<a target=\"_blank\" href=https://colab.research.google.com/notebooks/data_table.ipynb>data table notebook</a>'\n",
              "          + ' to learn more about interactive tables.';\n",
              "        element.innerHTML = '';\n",
              "        dataTable['output_type'] = 'display_data';\n",
              "        await google.colab.output.renderOutput(dataTable, element);\n",
              "        const docLink = document.createElement('div');\n",
              "        docLink.innerHTML = docLinkHtml;\n",
              "        element.appendChild(docLink);\n",
              "      }\n",
              "    </script>\n",
              "  </div>\n",
              "\n",
              "\n",
              "<div id=\"df-d3742b0f-3f0c-4fe0-ad8b-f998e49576a4\">\n",
              "  <button class=\"colab-df-quickchart\" onclick=\"quickchart('df-d3742b0f-3f0c-4fe0-ad8b-f998e49576a4')\"\n",
              "            title=\"Suggest charts\"\n",
              "            style=\"display:none;\">\n",
              "\n",
              "<svg xmlns=\"http://www.w3.org/2000/svg\" height=\"24px\"viewBox=\"0 0 24 24\"\n",
              "     width=\"24px\">\n",
              "    <g>\n",
              "        <path d=\"M19 3H5c-1.1 0-2 .9-2 2v14c0 1.1.9 2 2 2h14c1.1 0 2-.9 2-2V5c0-1.1-.9-2-2-2zM9 17H7v-7h2v7zm4 0h-2V7h2v10zm4 0h-2v-4h2v4z\"/>\n",
              "    </g>\n",
              "</svg>\n",
              "  </button>\n",
              "\n",
              "<style>\n",
              "  .colab-df-quickchart {\n",
              "      --bg-color: #E8F0FE;\n",
              "      --fill-color: #1967D2;\n",
              "      --hover-bg-color: #E2EBFA;\n",
              "      --hover-fill-color: #174EA6;\n",
              "      --disabled-fill-color: #AAA;\n",
              "      --disabled-bg-color: #DDD;\n",
              "  }\n",
              "\n",
              "  [theme=dark] .colab-df-quickchart {\n",
              "      --bg-color: #3B4455;\n",
              "      --fill-color: #D2E3FC;\n",
              "      --hover-bg-color: #434B5C;\n",
              "      --hover-fill-color: #FFFFFF;\n",
              "      --disabled-bg-color: #3B4455;\n",
              "      --disabled-fill-color: #666;\n",
              "  }\n",
              "\n",
              "  .colab-df-quickchart {\n",
              "    background-color: var(--bg-color);\n",
              "    border: none;\n",
              "    border-radius: 50%;\n",
              "    cursor: pointer;\n",
              "    display: none;\n",
              "    fill: var(--fill-color);\n",
              "    height: 32px;\n",
              "    padding: 0;\n",
              "    width: 32px;\n",
              "  }\n",
              "\n",
              "  .colab-df-quickchart:hover {\n",
              "    background-color: var(--hover-bg-color);\n",
              "    box-shadow: 0 1px 2px rgba(60, 64, 67, 0.3), 0 1px 3px 1px rgba(60, 64, 67, 0.15);\n",
              "    fill: var(--button-hover-fill-color);\n",
              "  }\n",
              "\n",
              "  .colab-df-quickchart-complete:disabled,\n",
              "  .colab-df-quickchart-complete:disabled:hover {\n",
              "    background-color: var(--disabled-bg-color);\n",
              "    fill: var(--disabled-fill-color);\n",
              "    box-shadow: none;\n",
              "  }\n",
              "\n",
              "  .colab-df-spinner {\n",
              "    border: 2px solid var(--fill-color);\n",
              "    border-color: transparent;\n",
              "    border-bottom-color: var(--fill-color);\n",
              "    animation:\n",
              "      spin 1s steps(1) infinite;\n",
              "  }\n",
              "\n",
              "  @keyframes spin {\n",
              "    0% {\n",
              "      border-color: transparent;\n",
              "      border-bottom-color: var(--fill-color);\n",
              "      border-left-color: var(--fill-color);\n",
              "    }\n",
              "    20% {\n",
              "      border-color: transparent;\n",
              "      border-left-color: var(--fill-color);\n",
              "      border-top-color: var(--fill-color);\n",
              "    }\n",
              "    30% {\n",
              "      border-color: transparent;\n",
              "      border-left-color: var(--fill-color);\n",
              "      border-top-color: var(--fill-color);\n",
              "      border-right-color: var(--fill-color);\n",
              "    }\n",
              "    40% {\n",
              "      border-color: transparent;\n",
              "      border-right-color: var(--fill-color);\n",
              "      border-top-color: var(--fill-color);\n",
              "    }\n",
              "    60% {\n",
              "      border-color: transparent;\n",
              "      border-right-color: var(--fill-color);\n",
              "    }\n",
              "    80% {\n",
              "      border-color: transparent;\n",
              "      border-right-color: var(--fill-color);\n",
              "      border-bottom-color: var(--fill-color);\n",
              "    }\n",
              "    90% {\n",
              "      border-color: transparent;\n",
              "      border-bottom-color: var(--fill-color);\n",
              "    }\n",
              "  }\n",
              "</style>\n",
              "\n",
              "  <script>\n",
              "    async function quickchart(key) {\n",
              "      const quickchartButtonEl =\n",
              "        document.querySelector('#' + key + ' button');\n",
              "      quickchartButtonEl.disabled = true;  // To prevent multiple clicks.\n",
              "      quickchartButtonEl.classList.add('colab-df-spinner');\n",
              "      try {\n",
              "        const charts = await google.colab.kernel.invokeFunction(\n",
              "            'suggestCharts', [key], {});\n",
              "      } catch (error) {\n",
              "        console.error('Error during call to suggestCharts:', error);\n",
              "      }\n",
              "      quickchartButtonEl.classList.remove('colab-df-spinner');\n",
              "      quickchartButtonEl.classList.add('colab-df-quickchart-complete');\n",
              "    }\n",
              "    (() => {\n",
              "      let quickchartButtonEl =\n",
              "        document.querySelector('#df-d3742b0f-3f0c-4fe0-ad8b-f998e49576a4 button');\n",
              "      quickchartButtonEl.style.display =\n",
              "        google.colab.kernel.accessAllowed ? 'block' : 'none';\n",
              "    })();\n",
              "  </script>\n",
              "</div>\n",
              "    </div>\n",
              "  </div>\n"
            ]
          },
          "metadata": {},
          "execution_count": 28
        }
      ]
    },
    {
      "cell_type": "code",
      "execution_count": null,
      "metadata": {
        "id": "RGjSXTcvEv-I"
      },
      "outputs": [],
      "source": [
        "att_as_name_vs_p = att_as_name_vs_p.groupby([\"attacker_as_name\",\"port\"]).mean()"
      ]
    },
    {
      "cell_type": "code",
      "execution_count": null,
      "metadata": {
        "id": "XyVCOYBiFYeB"
      },
      "outputs": [],
      "source": [
        "att_as_name_vs_p.columns = [\"mean\"]"
      ]
    },
    {
      "cell_type": "code",
      "source": [
        "att_as_name_vs_p.head()"
      ],
      "metadata": {
        "colab": {
          "base_uri": "https://localhost:8080/",
          "height": 237
        },
        "id": "81RrA8cOwtub",
        "outputId": "fa97cd20-a7f7-4a4b-e648-88571b29c69d"
      },
      "execution_count": null,
      "outputs": [
        {
          "output_type": "execute_result",
          "data": {
            "text/plain": [
              "                            mean\n",
              "attacker_as_name      port      \n",
              "''it fruit'' s.r.l.   135    0.0\n",
              "                      3389   0.0\n",
              "                      445    0.0\n",
              "                      5985   0.0\n",
              "(aq) networks limited 1723   0.0"
            ],
            "text/html": [
              "\n",
              "  <div id=\"df-e94351e8-f73f-4421-9fcb-6aea03640287\" class=\"colab-df-container\">\n",
              "    <div>\n",
              "<style scoped>\n",
              "    .dataframe tbody tr th:only-of-type {\n",
              "        vertical-align: middle;\n",
              "    }\n",
              "\n",
              "    .dataframe tbody tr th {\n",
              "        vertical-align: top;\n",
              "    }\n",
              "\n",
              "    .dataframe thead th {\n",
              "        text-align: right;\n",
              "    }\n",
              "</style>\n",
              "<table border=\"1\" class=\"dataframe\">\n",
              "  <thead>\n",
              "    <tr style=\"text-align: right;\">\n",
              "      <th></th>\n",
              "      <th></th>\n",
              "      <th>mean</th>\n",
              "    </tr>\n",
              "    <tr>\n",
              "      <th>attacker_as_name</th>\n",
              "      <th>port</th>\n",
              "      <th></th>\n",
              "    </tr>\n",
              "  </thead>\n",
              "  <tbody>\n",
              "    <tr>\n",
              "      <th rowspan=\"4\" valign=\"top\">''it fruit'' s.r.l.</th>\n",
              "      <th>135</th>\n",
              "      <td>0.0</td>\n",
              "    </tr>\n",
              "    <tr>\n",
              "      <th>3389</th>\n",
              "      <td>0.0</td>\n",
              "    </tr>\n",
              "    <tr>\n",
              "      <th>445</th>\n",
              "      <td>0.0</td>\n",
              "    </tr>\n",
              "    <tr>\n",
              "      <th>5985</th>\n",
              "      <td>0.0</td>\n",
              "    </tr>\n",
              "    <tr>\n",
              "      <th>(aq) networks limited</th>\n",
              "      <th>1723</th>\n",
              "      <td>0.0</td>\n",
              "    </tr>\n",
              "  </tbody>\n",
              "</table>\n",
              "</div>\n",
              "    <div class=\"colab-df-buttons\">\n",
              "\n",
              "  <div class=\"colab-df-container\">\n",
              "    <button class=\"colab-df-convert\" onclick=\"convertToInteractive('df-e94351e8-f73f-4421-9fcb-6aea03640287')\"\n",
              "            title=\"Convert this dataframe to an interactive table.\"\n",
              "            style=\"display:none;\">\n",
              "\n",
              "  <svg xmlns=\"http://www.w3.org/2000/svg\" height=\"24px\" viewBox=\"0 -960 960 960\">\n",
              "    <path d=\"M120-120v-720h720v720H120Zm60-500h600v-160H180v160Zm220 220h160v-160H400v160Zm0 220h160v-160H400v160ZM180-400h160v-160H180v160Zm440 0h160v-160H620v160ZM180-180h160v-160H180v160Zm440 0h160v-160H620v160Z\"/>\n",
              "  </svg>\n",
              "    </button>\n",
              "\n",
              "  <style>\n",
              "    .colab-df-container {\n",
              "      display:flex;\n",
              "      gap: 12px;\n",
              "    }\n",
              "\n",
              "    .colab-df-convert {\n",
              "      background-color: #E8F0FE;\n",
              "      border: none;\n",
              "      border-radius: 50%;\n",
              "      cursor: pointer;\n",
              "      display: none;\n",
              "      fill: #1967D2;\n",
              "      height: 32px;\n",
              "      padding: 0 0 0 0;\n",
              "      width: 32px;\n",
              "    }\n",
              "\n",
              "    .colab-df-convert:hover {\n",
              "      background-color: #E2EBFA;\n",
              "      box-shadow: 0px 1px 2px rgba(60, 64, 67, 0.3), 0px 1px 3px 1px rgba(60, 64, 67, 0.15);\n",
              "      fill: #174EA6;\n",
              "    }\n",
              "\n",
              "    .colab-df-buttons div {\n",
              "      margin-bottom: 4px;\n",
              "    }\n",
              "\n",
              "    [theme=dark] .colab-df-convert {\n",
              "      background-color: #3B4455;\n",
              "      fill: #D2E3FC;\n",
              "    }\n",
              "\n",
              "    [theme=dark] .colab-df-convert:hover {\n",
              "      background-color: #434B5C;\n",
              "      box-shadow: 0px 1px 3px 1px rgba(0, 0, 0, 0.15);\n",
              "      filter: drop-shadow(0px 1px 2px rgba(0, 0, 0, 0.3));\n",
              "      fill: #FFFFFF;\n",
              "    }\n",
              "  </style>\n",
              "\n",
              "    <script>\n",
              "      const buttonEl =\n",
              "        document.querySelector('#df-e94351e8-f73f-4421-9fcb-6aea03640287 button.colab-df-convert');\n",
              "      buttonEl.style.display =\n",
              "        google.colab.kernel.accessAllowed ? 'block' : 'none';\n",
              "\n",
              "      async function convertToInteractive(key) {\n",
              "        const element = document.querySelector('#df-e94351e8-f73f-4421-9fcb-6aea03640287');\n",
              "        const dataTable =\n",
              "          await google.colab.kernel.invokeFunction('convertToInteractive',\n",
              "                                                    [key], {});\n",
              "        if (!dataTable) return;\n",
              "\n",
              "        const docLinkHtml = 'Like what you see? Visit the ' +\n",
              "          '<a target=\"_blank\" href=https://colab.research.google.com/notebooks/data_table.ipynb>data table notebook</a>'\n",
              "          + ' to learn more about interactive tables.';\n",
              "        element.innerHTML = '';\n",
              "        dataTable['output_type'] = 'display_data';\n",
              "        await google.colab.output.renderOutput(dataTable, element);\n",
              "        const docLink = document.createElement('div');\n",
              "        docLink.innerHTML = docLinkHtml;\n",
              "        element.appendChild(docLink);\n",
              "      }\n",
              "    </script>\n",
              "  </div>\n",
              "\n",
              "\n",
              "<div id=\"df-c3a25a80-ebcd-4965-8fb1-fdcacb534ef7\">\n",
              "  <button class=\"colab-df-quickchart\" onclick=\"quickchart('df-c3a25a80-ebcd-4965-8fb1-fdcacb534ef7')\"\n",
              "            title=\"Suggest charts\"\n",
              "            style=\"display:none;\">\n",
              "\n",
              "<svg xmlns=\"http://www.w3.org/2000/svg\" height=\"24px\"viewBox=\"0 0 24 24\"\n",
              "     width=\"24px\">\n",
              "    <g>\n",
              "        <path d=\"M19 3H5c-1.1 0-2 .9-2 2v14c0 1.1.9 2 2 2h14c1.1 0 2-.9 2-2V5c0-1.1-.9-2-2-2zM9 17H7v-7h2v7zm4 0h-2V7h2v10zm4 0h-2v-4h2v4z\"/>\n",
              "    </g>\n",
              "</svg>\n",
              "  </button>\n",
              "\n",
              "<style>\n",
              "  .colab-df-quickchart {\n",
              "      --bg-color: #E8F0FE;\n",
              "      --fill-color: #1967D2;\n",
              "      --hover-bg-color: #E2EBFA;\n",
              "      --hover-fill-color: #174EA6;\n",
              "      --disabled-fill-color: #AAA;\n",
              "      --disabled-bg-color: #DDD;\n",
              "  }\n",
              "\n",
              "  [theme=dark] .colab-df-quickchart {\n",
              "      --bg-color: #3B4455;\n",
              "      --fill-color: #D2E3FC;\n",
              "      --hover-bg-color: #434B5C;\n",
              "      --hover-fill-color: #FFFFFF;\n",
              "      --disabled-bg-color: #3B4455;\n",
              "      --disabled-fill-color: #666;\n",
              "  }\n",
              "\n",
              "  .colab-df-quickchart {\n",
              "    background-color: var(--bg-color);\n",
              "    border: none;\n",
              "    border-radius: 50%;\n",
              "    cursor: pointer;\n",
              "    display: none;\n",
              "    fill: var(--fill-color);\n",
              "    height: 32px;\n",
              "    padding: 0;\n",
              "    width: 32px;\n",
              "  }\n",
              "\n",
              "  .colab-df-quickchart:hover {\n",
              "    background-color: var(--hover-bg-color);\n",
              "    box-shadow: 0 1px 2px rgba(60, 64, 67, 0.3), 0 1px 3px 1px rgba(60, 64, 67, 0.15);\n",
              "    fill: var(--button-hover-fill-color);\n",
              "  }\n",
              "\n",
              "  .colab-df-quickchart-complete:disabled,\n",
              "  .colab-df-quickchart-complete:disabled:hover {\n",
              "    background-color: var(--disabled-bg-color);\n",
              "    fill: var(--disabled-fill-color);\n",
              "    box-shadow: none;\n",
              "  }\n",
              "\n",
              "  .colab-df-spinner {\n",
              "    border: 2px solid var(--fill-color);\n",
              "    border-color: transparent;\n",
              "    border-bottom-color: var(--fill-color);\n",
              "    animation:\n",
              "      spin 1s steps(1) infinite;\n",
              "  }\n",
              "\n",
              "  @keyframes spin {\n",
              "    0% {\n",
              "      border-color: transparent;\n",
              "      border-bottom-color: var(--fill-color);\n",
              "      border-left-color: var(--fill-color);\n",
              "    }\n",
              "    20% {\n",
              "      border-color: transparent;\n",
              "      border-left-color: var(--fill-color);\n",
              "      border-top-color: var(--fill-color);\n",
              "    }\n",
              "    30% {\n",
              "      border-color: transparent;\n",
              "      border-left-color: var(--fill-color);\n",
              "      border-top-color: var(--fill-color);\n",
              "      border-right-color: var(--fill-color);\n",
              "    }\n",
              "    40% {\n",
              "      border-color: transparent;\n",
              "      border-right-color: var(--fill-color);\n",
              "      border-top-color: var(--fill-color);\n",
              "    }\n",
              "    60% {\n",
              "      border-color: transparent;\n",
              "      border-right-color: var(--fill-color);\n",
              "    }\n",
              "    80% {\n",
              "      border-color: transparent;\n",
              "      border-right-color: var(--fill-color);\n",
              "      border-bottom-color: var(--fill-color);\n",
              "    }\n",
              "    90% {\n",
              "      border-color: transparent;\n",
              "      border-bottom-color: var(--fill-color);\n",
              "    }\n",
              "  }\n",
              "</style>\n",
              "\n",
              "  <script>\n",
              "    async function quickchart(key) {\n",
              "      const quickchartButtonEl =\n",
              "        document.querySelector('#' + key + ' button');\n",
              "      quickchartButtonEl.disabled = true;  // To prevent multiple clicks.\n",
              "      quickchartButtonEl.classList.add('colab-df-spinner');\n",
              "      try {\n",
              "        const charts = await google.colab.kernel.invokeFunction(\n",
              "            'suggestCharts', [key], {});\n",
              "      } catch (error) {\n",
              "        console.error('Error during call to suggestCharts:', error);\n",
              "      }\n",
              "      quickchartButtonEl.classList.remove('colab-df-spinner');\n",
              "      quickchartButtonEl.classList.add('colab-df-quickchart-complete');\n",
              "    }\n",
              "    (() => {\n",
              "      let quickchartButtonEl =\n",
              "        document.querySelector('#df-c3a25a80-ebcd-4965-8fb1-fdcacb534ef7 button');\n",
              "      quickchartButtonEl.style.display =\n",
              "        google.colab.kernel.accessAllowed ? 'block' : 'none';\n",
              "    })();\n",
              "  </script>\n",
              "</div>\n",
              "    </div>\n",
              "  </div>\n"
            ]
          },
          "metadata": {},
          "execution_count": 31
        }
      ]
    },
    {
      "cell_type": "code",
      "execution_count": null,
      "metadata": {
        "id": "WbJxrKGCFkbz"
      },
      "outputs": [],
      "source": [
        "att_as_name_vs_p_map = att_as_name_vs_p[\"mean\"].to_dict()\n",
        "# clear memory\n",
        "att_as_name_vs_p = \"\""
      ]
    },
    {
      "cell_type": "markdown",
      "source": [
        "make a new column with \"as_name\" and \"ports\" in a array"
      ],
      "metadata": {
        "id": "OalN6qj25Tf4"
      }
    },
    {
      "cell_type": "code",
      "execution_count": null,
      "metadata": {
        "id": "V9NfpN5hLGBI"
      },
      "outputs": [],
      "source": [
        "train[\"att_as_name_vs_ports\"] = train[\"attacker_as_name\"].apply(lambda x: [str(x)]) + train[\"port\"].apply(list)"
      ]
    },
    {
      "cell_type": "code",
      "source": [
        "train.head()"
      ],
      "metadata": {
        "colab": {
          "base_uri": "https://localhost:8080/",
          "height": 206
        },
        "id": "f10YESuo0Ll2",
        "outputId": "81ebdfe4-6cef-4ac5-8b0e-5a0129ac1db3"
      },
      "execution_count": null,
      "outputs": [
        {
          "output_type": "execute_result",
          "data": {
            "text/plain": [
              "                   attacker_as_name  attacker_ip_enum  label Countries  \\\n",
              "1401946                   rcs & rds             53005      0     DE-RO   \n",
              "1023231               viettel group             34156      0     PL-VN   \n",
              "4980524    pt panglima kamayo media            193534      0     GR-ID   \n",
              "2656816                 signet b.v.            101374      0     PL-NL   \n",
              "667166   sri lanka telecom internet             27122      0     US-LK   \n",
              "\n",
              "                                                      port  unknown  tcp  udp  \\\n",
              "1401946                                          {unknown}      0.0  0.0  1.0   \n",
              "1023231                                          {unknown}      0.0  0.0  1.0   \n",
              "4980524  {2087, 443, 8443, 8006, 2000, 2083, 80, 2082, ...      1.0  1.0  0.0   \n",
              "2656816   {10000, 443, 2222, 21, 80, 587, 25, 10001, 3306}      1.0  0.0  0.0   \n",
              "667166                   {8089, 7547, 80, 1434, 445, 8085}      1.0  1.0  0.0   \n",
              "\n",
              "        service                               att_as_name_vs_ports  \n",
              "1401946    http                               [rcs & rds, unknown]  \n",
              "1023231    http                           [viettel group, unknown]  \n",
              "4980524    http  [pt panglima kamayo media, 2087, 443, 8443, 80...  \n",
              "2656816    http  [signet b.v., 10000, 443, 2222, 21, 80, 587, 2...  \n",
              "667166     http  [sri lanka telecom internet, 8089, 7547, 80, 1...  "
            ],
            "text/html": [
              "\n",
              "  <div id=\"df-a8b55f86-1f20-4ad6-b514-cbc44ca45f80\" class=\"colab-df-container\">\n",
              "    <div>\n",
              "<style scoped>\n",
              "    .dataframe tbody tr th:only-of-type {\n",
              "        vertical-align: middle;\n",
              "    }\n",
              "\n",
              "    .dataframe tbody tr th {\n",
              "        vertical-align: top;\n",
              "    }\n",
              "\n",
              "    .dataframe thead th {\n",
              "        text-align: right;\n",
              "    }\n",
              "</style>\n",
              "<table border=\"1\" class=\"dataframe\">\n",
              "  <thead>\n",
              "    <tr style=\"text-align: right;\">\n",
              "      <th></th>\n",
              "      <th>attacker_as_name</th>\n",
              "      <th>attacker_ip_enum</th>\n",
              "      <th>label</th>\n",
              "      <th>Countries</th>\n",
              "      <th>port</th>\n",
              "      <th>unknown</th>\n",
              "      <th>tcp</th>\n",
              "      <th>udp</th>\n",
              "      <th>service</th>\n",
              "      <th>att_as_name_vs_ports</th>\n",
              "    </tr>\n",
              "  </thead>\n",
              "  <tbody>\n",
              "    <tr>\n",
              "      <th>1401946</th>\n",
              "      <td>rcs &amp; rds</td>\n",
              "      <td>53005</td>\n",
              "      <td>0</td>\n",
              "      <td>DE-RO</td>\n",
              "      <td>{unknown}</td>\n",
              "      <td>0.0</td>\n",
              "      <td>0.0</td>\n",
              "      <td>1.0</td>\n",
              "      <td>http</td>\n",
              "      <td>[rcs &amp; rds, unknown]</td>\n",
              "    </tr>\n",
              "    <tr>\n",
              "      <th>1023231</th>\n",
              "      <td>viettel group</td>\n",
              "      <td>34156</td>\n",
              "      <td>0</td>\n",
              "      <td>PL-VN</td>\n",
              "      <td>{unknown}</td>\n",
              "      <td>0.0</td>\n",
              "      <td>0.0</td>\n",
              "      <td>1.0</td>\n",
              "      <td>http</td>\n",
              "      <td>[viettel group, unknown]</td>\n",
              "    </tr>\n",
              "    <tr>\n",
              "      <th>4980524</th>\n",
              "      <td>pt panglima kamayo media</td>\n",
              "      <td>193534</td>\n",
              "      <td>0</td>\n",
              "      <td>GR-ID</td>\n",
              "      <td>{2087, 443, 8443, 8006, 2000, 2083, 80, 2082, ...</td>\n",
              "      <td>1.0</td>\n",
              "      <td>1.0</td>\n",
              "      <td>0.0</td>\n",
              "      <td>http</td>\n",
              "      <td>[pt panglima kamayo media, 2087, 443, 8443, 80...</td>\n",
              "    </tr>\n",
              "    <tr>\n",
              "      <th>2656816</th>\n",
              "      <td>signet b.v.</td>\n",
              "      <td>101374</td>\n",
              "      <td>0</td>\n",
              "      <td>PL-NL</td>\n",
              "      <td>{10000, 443, 2222, 21, 80, 587, 25, 10001, 3306}</td>\n",
              "      <td>1.0</td>\n",
              "      <td>0.0</td>\n",
              "      <td>0.0</td>\n",
              "      <td>http</td>\n",
              "      <td>[signet b.v., 10000, 443, 2222, 21, 80, 587, 2...</td>\n",
              "    </tr>\n",
              "    <tr>\n",
              "      <th>667166</th>\n",
              "      <td>sri lanka telecom internet</td>\n",
              "      <td>27122</td>\n",
              "      <td>0</td>\n",
              "      <td>US-LK</td>\n",
              "      <td>{8089, 7547, 80, 1434, 445, 8085}</td>\n",
              "      <td>1.0</td>\n",
              "      <td>1.0</td>\n",
              "      <td>0.0</td>\n",
              "      <td>http</td>\n",
              "      <td>[sri lanka telecom internet, 8089, 7547, 80, 1...</td>\n",
              "    </tr>\n",
              "  </tbody>\n",
              "</table>\n",
              "</div>\n",
              "    <div class=\"colab-df-buttons\">\n",
              "\n",
              "  <div class=\"colab-df-container\">\n",
              "    <button class=\"colab-df-convert\" onclick=\"convertToInteractive('df-a8b55f86-1f20-4ad6-b514-cbc44ca45f80')\"\n",
              "            title=\"Convert this dataframe to an interactive table.\"\n",
              "            style=\"display:none;\">\n",
              "\n",
              "  <svg xmlns=\"http://www.w3.org/2000/svg\" height=\"24px\" viewBox=\"0 -960 960 960\">\n",
              "    <path d=\"M120-120v-720h720v720H120Zm60-500h600v-160H180v160Zm220 220h160v-160H400v160Zm0 220h160v-160H400v160ZM180-400h160v-160H180v160Zm440 0h160v-160H620v160ZM180-180h160v-160H180v160Zm440 0h160v-160H620v160Z\"/>\n",
              "  </svg>\n",
              "    </button>\n",
              "\n",
              "  <style>\n",
              "    .colab-df-container {\n",
              "      display:flex;\n",
              "      gap: 12px;\n",
              "    }\n",
              "\n",
              "    .colab-df-convert {\n",
              "      background-color: #E8F0FE;\n",
              "      border: none;\n",
              "      border-radius: 50%;\n",
              "      cursor: pointer;\n",
              "      display: none;\n",
              "      fill: #1967D2;\n",
              "      height: 32px;\n",
              "      padding: 0 0 0 0;\n",
              "      width: 32px;\n",
              "    }\n",
              "\n",
              "    .colab-df-convert:hover {\n",
              "      background-color: #E2EBFA;\n",
              "      box-shadow: 0px 1px 2px rgba(60, 64, 67, 0.3), 0px 1px 3px 1px rgba(60, 64, 67, 0.15);\n",
              "      fill: #174EA6;\n",
              "    }\n",
              "\n",
              "    .colab-df-buttons div {\n",
              "      margin-bottom: 4px;\n",
              "    }\n",
              "\n",
              "    [theme=dark] .colab-df-convert {\n",
              "      background-color: #3B4455;\n",
              "      fill: #D2E3FC;\n",
              "    }\n",
              "\n",
              "    [theme=dark] .colab-df-convert:hover {\n",
              "      background-color: #434B5C;\n",
              "      box-shadow: 0px 1px 3px 1px rgba(0, 0, 0, 0.15);\n",
              "      filter: drop-shadow(0px 1px 2px rgba(0, 0, 0, 0.3));\n",
              "      fill: #FFFFFF;\n",
              "    }\n",
              "  </style>\n",
              "\n",
              "    <script>\n",
              "      const buttonEl =\n",
              "        document.querySelector('#df-a8b55f86-1f20-4ad6-b514-cbc44ca45f80 button.colab-df-convert');\n",
              "      buttonEl.style.display =\n",
              "        google.colab.kernel.accessAllowed ? 'block' : 'none';\n",
              "\n",
              "      async function convertToInteractive(key) {\n",
              "        const element = document.querySelector('#df-a8b55f86-1f20-4ad6-b514-cbc44ca45f80');\n",
              "        const dataTable =\n",
              "          await google.colab.kernel.invokeFunction('convertToInteractive',\n",
              "                                                    [key], {});\n",
              "        if (!dataTable) return;\n",
              "\n",
              "        const docLinkHtml = 'Like what you see? Visit the ' +\n",
              "          '<a target=\"_blank\" href=https://colab.research.google.com/notebooks/data_table.ipynb>data table notebook</a>'\n",
              "          + ' to learn more about interactive tables.';\n",
              "        element.innerHTML = '';\n",
              "        dataTable['output_type'] = 'display_data';\n",
              "        await google.colab.output.renderOutput(dataTable, element);\n",
              "        const docLink = document.createElement('div');\n",
              "        docLink.innerHTML = docLinkHtml;\n",
              "        element.appendChild(docLink);\n",
              "      }\n",
              "    </script>\n",
              "  </div>\n",
              "\n",
              "\n",
              "<div id=\"df-7e684108-4033-4ee2-8b56-1b2a036dfe38\">\n",
              "  <button class=\"colab-df-quickchart\" onclick=\"quickchart('df-7e684108-4033-4ee2-8b56-1b2a036dfe38')\"\n",
              "            title=\"Suggest charts\"\n",
              "            style=\"display:none;\">\n",
              "\n",
              "<svg xmlns=\"http://www.w3.org/2000/svg\" height=\"24px\"viewBox=\"0 0 24 24\"\n",
              "     width=\"24px\">\n",
              "    <g>\n",
              "        <path d=\"M19 3H5c-1.1 0-2 .9-2 2v14c0 1.1.9 2 2 2h14c1.1 0 2-.9 2-2V5c0-1.1-.9-2-2-2zM9 17H7v-7h2v7zm4 0h-2V7h2v10zm4 0h-2v-4h2v4z\"/>\n",
              "    </g>\n",
              "</svg>\n",
              "  </button>\n",
              "\n",
              "<style>\n",
              "  .colab-df-quickchart {\n",
              "      --bg-color: #E8F0FE;\n",
              "      --fill-color: #1967D2;\n",
              "      --hover-bg-color: #E2EBFA;\n",
              "      --hover-fill-color: #174EA6;\n",
              "      --disabled-fill-color: #AAA;\n",
              "      --disabled-bg-color: #DDD;\n",
              "  }\n",
              "\n",
              "  [theme=dark] .colab-df-quickchart {\n",
              "      --bg-color: #3B4455;\n",
              "      --fill-color: #D2E3FC;\n",
              "      --hover-bg-color: #434B5C;\n",
              "      --hover-fill-color: #FFFFFF;\n",
              "      --disabled-bg-color: #3B4455;\n",
              "      --disabled-fill-color: #666;\n",
              "  }\n",
              "\n",
              "  .colab-df-quickchart {\n",
              "    background-color: var(--bg-color);\n",
              "    border: none;\n",
              "    border-radius: 50%;\n",
              "    cursor: pointer;\n",
              "    display: none;\n",
              "    fill: var(--fill-color);\n",
              "    height: 32px;\n",
              "    padding: 0;\n",
              "    width: 32px;\n",
              "  }\n",
              "\n",
              "  .colab-df-quickchart:hover {\n",
              "    background-color: var(--hover-bg-color);\n",
              "    box-shadow: 0 1px 2px rgba(60, 64, 67, 0.3), 0 1px 3px 1px rgba(60, 64, 67, 0.15);\n",
              "    fill: var(--button-hover-fill-color);\n",
              "  }\n",
              "\n",
              "  .colab-df-quickchart-complete:disabled,\n",
              "  .colab-df-quickchart-complete:disabled:hover {\n",
              "    background-color: var(--disabled-bg-color);\n",
              "    fill: var(--disabled-fill-color);\n",
              "    box-shadow: none;\n",
              "  }\n",
              "\n",
              "  .colab-df-spinner {\n",
              "    border: 2px solid var(--fill-color);\n",
              "    border-color: transparent;\n",
              "    border-bottom-color: var(--fill-color);\n",
              "    animation:\n",
              "      spin 1s steps(1) infinite;\n",
              "  }\n",
              "\n",
              "  @keyframes spin {\n",
              "    0% {\n",
              "      border-color: transparent;\n",
              "      border-bottom-color: var(--fill-color);\n",
              "      border-left-color: var(--fill-color);\n",
              "    }\n",
              "    20% {\n",
              "      border-color: transparent;\n",
              "      border-left-color: var(--fill-color);\n",
              "      border-top-color: var(--fill-color);\n",
              "    }\n",
              "    30% {\n",
              "      border-color: transparent;\n",
              "      border-left-color: var(--fill-color);\n",
              "      border-top-color: var(--fill-color);\n",
              "      border-right-color: var(--fill-color);\n",
              "    }\n",
              "    40% {\n",
              "      border-color: transparent;\n",
              "      border-right-color: var(--fill-color);\n",
              "      border-top-color: var(--fill-color);\n",
              "    }\n",
              "    60% {\n",
              "      border-color: transparent;\n",
              "      border-right-color: var(--fill-color);\n",
              "    }\n",
              "    80% {\n",
              "      border-color: transparent;\n",
              "      border-right-color: var(--fill-color);\n",
              "      border-bottom-color: var(--fill-color);\n",
              "    }\n",
              "    90% {\n",
              "      border-color: transparent;\n",
              "      border-bottom-color: var(--fill-color);\n",
              "    }\n",
              "  }\n",
              "</style>\n",
              "\n",
              "  <script>\n",
              "    async function quickchart(key) {\n",
              "      const quickchartButtonEl =\n",
              "        document.querySelector('#' + key + ' button');\n",
              "      quickchartButtonEl.disabled = true;  // To prevent multiple clicks.\n",
              "      quickchartButtonEl.classList.add('colab-df-spinner');\n",
              "      try {\n",
              "        const charts = await google.colab.kernel.invokeFunction(\n",
              "            'suggestCharts', [key], {});\n",
              "      } catch (error) {\n",
              "        console.error('Error during call to suggestCharts:', error);\n",
              "      }\n",
              "      quickchartButtonEl.classList.remove('colab-df-spinner');\n",
              "      quickchartButtonEl.classList.add('colab-df-quickchart-complete');\n",
              "    }\n",
              "    (() => {\n",
              "      let quickchartButtonEl =\n",
              "        document.querySelector('#df-7e684108-4033-4ee2-8b56-1b2a036dfe38 button');\n",
              "      quickchartButtonEl.style.display =\n",
              "        google.colab.kernel.accessAllowed ? 'block' : 'none';\n",
              "    })();\n",
              "  </script>\n",
              "</div>\n",
              "    </div>\n",
              "  </div>\n"
            ]
          },
          "metadata": {},
          "execution_count": 34
        }
      ]
    },
    {
      "cell_type": "markdown",
      "source": [
        "The function takes a list in the following format: ['as_name', mean_port_1, mean_port_2, mean_port_3, etc.].\n",
        "It calculates and returns the mean whit the maximum value"
      ],
      "metadata": {
        "id": "hvDIZ5QJ-TeI"
      }
    },
    {
      "cell_type": "code",
      "execution_count": null,
      "metadata": {
        "id": "m-2qrJKYWYxm"
      },
      "outputs": [],
      "source": [
        "def max_mean_att_ports(list_p):\n",
        "  as_name = list_p[0]\n",
        "  res = []\n",
        "  for port in list_p[1:]:\n",
        "    res.append(att_as_name_vs_p_map.get((as_name, port), 0))\n",
        "  return max(res)\n"
      ]
    },
    {
      "cell_type": "code",
      "execution_count": null,
      "metadata": {
        "id": "q7T8vRwPO4O0"
      },
      "outputs": [],
      "source": [
        "train[\"att_as_name_vs_ports\"] = train[\"att_as_name_vs_ports\"].map(lambda x: max_mean_att_ports(x))"
      ]
    },
    {
      "cell_type": "code",
      "execution_count": null,
      "metadata": {
        "id": "u81TJX4UXMbR"
      },
      "outputs": [],
      "source": [
        "train.drop([\"attacker_as_name\"], axis = 1, inplace = True)"
      ]
    },
    {
      "cell_type": "markdown",
      "metadata": {
        "id": "eSJiHJbhV6pd"
      },
      "source": [
        "### valid"
      ]
    },
    {
      "cell_type": "code",
      "execution_count": null,
      "metadata": {
        "id": "nAedC0I0V8dx"
      },
      "outputs": [],
      "source": [
        "valid[\"att_as_name_vs_ports\"] = valid[\"attacker_as_name\"].apply(lambda x: [str(x)]) + valid[\"port\"].apply(list)"
      ]
    },
    {
      "cell_type": "code",
      "execution_count": null,
      "metadata": {
        "id": "vB9lAVNwWSjY"
      },
      "outputs": [],
      "source": [
        "valid[\"att_as_name_vs_ports\"] = valid[\"att_as_name_vs_ports\"].map(lambda x: max_mean_att_ports(x))"
      ]
    },
    {
      "cell_type": "code",
      "execution_count": null,
      "metadata": {
        "id": "yKa9vMt7XVFw"
      },
      "outputs": [],
      "source": [
        "valid.drop([\"attacker_as_name\"], axis = 1, inplace = True)"
      ]
    },
    {
      "cell_type": "markdown",
      "metadata": {
        "id": "tzy1HQxeBBO7"
      },
      "source": [
        "## Ports mean"
      ]
    },
    {
      "cell_type": "markdown",
      "metadata": {
        "id": "n8IoNmRrXBnE"
      },
      "source": [
        "### train"
      ]
    },
    {
      "cell_type": "code",
      "execution_count": null,
      "metadata": {
        "id": "NEuUc-3M6zsH"
      },
      "outputs": [],
      "source": [
        "ports = train[[\"label\",\"port\"]]"
      ]
    },
    {
      "cell_type": "code",
      "execution_count": null,
      "metadata": {
        "id": "0NgpSOZ07Mr-"
      },
      "outputs": [],
      "source": [
        "ports = ports.explode(\"port\").groupby(\"port\").mean()"
      ]
    },
    {
      "cell_type": "code",
      "execution_count": null,
      "metadata": {
        "id": "sBF02IKW8KQN"
      },
      "outputs": [],
      "source": [
        "ports.columns = [\"mean\"]"
      ]
    },
    {
      "cell_type": "code",
      "source": [
        "ports.head()"
      ],
      "metadata": {
        "colab": {
          "base_uri": "https://localhost:8080/",
          "height": 237
        },
        "id": "s4lTCWrg2zAN",
        "outputId": "7b6b8adf-2080-45f3-9556-7103a0ce0dde"
      },
      "execution_count": null,
      "outputs": [
        {
          "output_type": "execute_result",
          "data": {
            "text/plain": [
              "           mean\n",
              "port           \n",
              "100    0.000000\n",
              "1000   0.000000\n",
              "10000  0.035419\n",
              "10001  0.189660\n",
              "10099  0.000000"
            ],
            "text/html": [
              "\n",
              "  <div id=\"df-3eb93a74-b581-461e-8a65-307c0833a075\" class=\"colab-df-container\">\n",
              "    <div>\n",
              "<style scoped>\n",
              "    .dataframe tbody tr th:only-of-type {\n",
              "        vertical-align: middle;\n",
              "    }\n",
              "\n",
              "    .dataframe tbody tr th {\n",
              "        vertical-align: top;\n",
              "    }\n",
              "\n",
              "    .dataframe thead th {\n",
              "        text-align: right;\n",
              "    }\n",
              "</style>\n",
              "<table border=\"1\" class=\"dataframe\">\n",
              "  <thead>\n",
              "    <tr style=\"text-align: right;\">\n",
              "      <th></th>\n",
              "      <th>mean</th>\n",
              "    </tr>\n",
              "    <tr>\n",
              "      <th>port</th>\n",
              "      <th></th>\n",
              "    </tr>\n",
              "  </thead>\n",
              "  <tbody>\n",
              "    <tr>\n",
              "      <th>100</th>\n",
              "      <td>0.000000</td>\n",
              "    </tr>\n",
              "    <tr>\n",
              "      <th>1000</th>\n",
              "      <td>0.000000</td>\n",
              "    </tr>\n",
              "    <tr>\n",
              "      <th>10000</th>\n",
              "      <td>0.035419</td>\n",
              "    </tr>\n",
              "    <tr>\n",
              "      <th>10001</th>\n",
              "      <td>0.189660</td>\n",
              "    </tr>\n",
              "    <tr>\n",
              "      <th>10099</th>\n",
              "      <td>0.000000</td>\n",
              "    </tr>\n",
              "  </tbody>\n",
              "</table>\n",
              "</div>\n",
              "    <div class=\"colab-df-buttons\">\n",
              "\n",
              "  <div class=\"colab-df-container\">\n",
              "    <button class=\"colab-df-convert\" onclick=\"convertToInteractive('df-3eb93a74-b581-461e-8a65-307c0833a075')\"\n",
              "            title=\"Convert this dataframe to an interactive table.\"\n",
              "            style=\"display:none;\">\n",
              "\n",
              "  <svg xmlns=\"http://www.w3.org/2000/svg\" height=\"24px\" viewBox=\"0 -960 960 960\">\n",
              "    <path d=\"M120-120v-720h720v720H120Zm60-500h600v-160H180v160Zm220 220h160v-160H400v160Zm0 220h160v-160H400v160ZM180-400h160v-160H180v160Zm440 0h160v-160H620v160ZM180-180h160v-160H180v160Zm440 0h160v-160H620v160Z\"/>\n",
              "  </svg>\n",
              "    </button>\n",
              "\n",
              "  <style>\n",
              "    .colab-df-container {\n",
              "      display:flex;\n",
              "      gap: 12px;\n",
              "    }\n",
              "\n",
              "    .colab-df-convert {\n",
              "      background-color: #E8F0FE;\n",
              "      border: none;\n",
              "      border-radius: 50%;\n",
              "      cursor: pointer;\n",
              "      display: none;\n",
              "      fill: #1967D2;\n",
              "      height: 32px;\n",
              "      padding: 0 0 0 0;\n",
              "      width: 32px;\n",
              "    }\n",
              "\n",
              "    .colab-df-convert:hover {\n",
              "      background-color: #E2EBFA;\n",
              "      box-shadow: 0px 1px 2px rgba(60, 64, 67, 0.3), 0px 1px 3px 1px rgba(60, 64, 67, 0.15);\n",
              "      fill: #174EA6;\n",
              "    }\n",
              "\n",
              "    .colab-df-buttons div {\n",
              "      margin-bottom: 4px;\n",
              "    }\n",
              "\n",
              "    [theme=dark] .colab-df-convert {\n",
              "      background-color: #3B4455;\n",
              "      fill: #D2E3FC;\n",
              "    }\n",
              "\n",
              "    [theme=dark] .colab-df-convert:hover {\n",
              "      background-color: #434B5C;\n",
              "      box-shadow: 0px 1px 3px 1px rgba(0, 0, 0, 0.15);\n",
              "      filter: drop-shadow(0px 1px 2px rgba(0, 0, 0, 0.3));\n",
              "      fill: #FFFFFF;\n",
              "    }\n",
              "  </style>\n",
              "\n",
              "    <script>\n",
              "      const buttonEl =\n",
              "        document.querySelector('#df-3eb93a74-b581-461e-8a65-307c0833a075 button.colab-df-convert');\n",
              "      buttonEl.style.display =\n",
              "        google.colab.kernel.accessAllowed ? 'block' : 'none';\n",
              "\n",
              "      async function convertToInteractive(key) {\n",
              "        const element = document.querySelector('#df-3eb93a74-b581-461e-8a65-307c0833a075');\n",
              "        const dataTable =\n",
              "          await google.colab.kernel.invokeFunction('convertToInteractive',\n",
              "                                                    [key], {});\n",
              "        if (!dataTable) return;\n",
              "\n",
              "        const docLinkHtml = 'Like what you see? Visit the ' +\n",
              "          '<a target=\"_blank\" href=https://colab.research.google.com/notebooks/data_table.ipynb>data table notebook</a>'\n",
              "          + ' to learn more about interactive tables.';\n",
              "        element.innerHTML = '';\n",
              "        dataTable['output_type'] = 'display_data';\n",
              "        await google.colab.output.renderOutput(dataTable, element);\n",
              "        const docLink = document.createElement('div');\n",
              "        docLink.innerHTML = docLinkHtml;\n",
              "        element.appendChild(docLink);\n",
              "      }\n",
              "    </script>\n",
              "  </div>\n",
              "\n",
              "\n",
              "<div id=\"df-1469c75e-9239-4dab-a0b3-d2689e6fc96d\">\n",
              "  <button class=\"colab-df-quickchart\" onclick=\"quickchart('df-1469c75e-9239-4dab-a0b3-d2689e6fc96d')\"\n",
              "            title=\"Suggest charts\"\n",
              "            style=\"display:none;\">\n",
              "\n",
              "<svg xmlns=\"http://www.w3.org/2000/svg\" height=\"24px\"viewBox=\"0 0 24 24\"\n",
              "     width=\"24px\">\n",
              "    <g>\n",
              "        <path d=\"M19 3H5c-1.1 0-2 .9-2 2v14c0 1.1.9 2 2 2h14c1.1 0 2-.9 2-2V5c0-1.1-.9-2-2-2zM9 17H7v-7h2v7zm4 0h-2V7h2v10zm4 0h-2v-4h2v4z\"/>\n",
              "    </g>\n",
              "</svg>\n",
              "  </button>\n",
              "\n",
              "<style>\n",
              "  .colab-df-quickchart {\n",
              "      --bg-color: #E8F0FE;\n",
              "      --fill-color: #1967D2;\n",
              "      --hover-bg-color: #E2EBFA;\n",
              "      --hover-fill-color: #174EA6;\n",
              "      --disabled-fill-color: #AAA;\n",
              "      --disabled-bg-color: #DDD;\n",
              "  }\n",
              "\n",
              "  [theme=dark] .colab-df-quickchart {\n",
              "      --bg-color: #3B4455;\n",
              "      --fill-color: #D2E3FC;\n",
              "      --hover-bg-color: #434B5C;\n",
              "      --hover-fill-color: #FFFFFF;\n",
              "      --disabled-bg-color: #3B4455;\n",
              "      --disabled-fill-color: #666;\n",
              "  }\n",
              "\n",
              "  .colab-df-quickchart {\n",
              "    background-color: var(--bg-color);\n",
              "    border: none;\n",
              "    border-radius: 50%;\n",
              "    cursor: pointer;\n",
              "    display: none;\n",
              "    fill: var(--fill-color);\n",
              "    height: 32px;\n",
              "    padding: 0;\n",
              "    width: 32px;\n",
              "  }\n",
              "\n",
              "  .colab-df-quickchart:hover {\n",
              "    background-color: var(--hover-bg-color);\n",
              "    box-shadow: 0 1px 2px rgba(60, 64, 67, 0.3), 0 1px 3px 1px rgba(60, 64, 67, 0.15);\n",
              "    fill: var(--button-hover-fill-color);\n",
              "  }\n",
              "\n",
              "  .colab-df-quickchart-complete:disabled,\n",
              "  .colab-df-quickchart-complete:disabled:hover {\n",
              "    background-color: var(--disabled-bg-color);\n",
              "    fill: var(--disabled-fill-color);\n",
              "    box-shadow: none;\n",
              "  }\n",
              "\n",
              "  .colab-df-spinner {\n",
              "    border: 2px solid var(--fill-color);\n",
              "    border-color: transparent;\n",
              "    border-bottom-color: var(--fill-color);\n",
              "    animation:\n",
              "      spin 1s steps(1) infinite;\n",
              "  }\n",
              "\n",
              "  @keyframes spin {\n",
              "    0% {\n",
              "      border-color: transparent;\n",
              "      border-bottom-color: var(--fill-color);\n",
              "      border-left-color: var(--fill-color);\n",
              "    }\n",
              "    20% {\n",
              "      border-color: transparent;\n",
              "      border-left-color: var(--fill-color);\n",
              "      border-top-color: var(--fill-color);\n",
              "    }\n",
              "    30% {\n",
              "      border-color: transparent;\n",
              "      border-left-color: var(--fill-color);\n",
              "      border-top-color: var(--fill-color);\n",
              "      border-right-color: var(--fill-color);\n",
              "    }\n",
              "    40% {\n",
              "      border-color: transparent;\n",
              "      border-right-color: var(--fill-color);\n",
              "      border-top-color: var(--fill-color);\n",
              "    }\n",
              "    60% {\n",
              "      border-color: transparent;\n",
              "      border-right-color: var(--fill-color);\n",
              "    }\n",
              "    80% {\n",
              "      border-color: transparent;\n",
              "      border-right-color: var(--fill-color);\n",
              "      border-bottom-color: var(--fill-color);\n",
              "    }\n",
              "    90% {\n",
              "      border-color: transparent;\n",
              "      border-bottom-color: var(--fill-color);\n",
              "    }\n",
              "  }\n",
              "</style>\n",
              "\n",
              "  <script>\n",
              "    async function quickchart(key) {\n",
              "      const quickchartButtonEl =\n",
              "        document.querySelector('#' + key + ' button');\n",
              "      quickchartButtonEl.disabled = true;  // To prevent multiple clicks.\n",
              "      quickchartButtonEl.classList.add('colab-df-spinner');\n",
              "      try {\n",
              "        const charts = await google.colab.kernel.invokeFunction(\n",
              "            'suggestCharts', [key], {});\n",
              "      } catch (error) {\n",
              "        console.error('Error during call to suggestCharts:', error);\n",
              "      }\n",
              "      quickchartButtonEl.classList.remove('colab-df-spinner');\n",
              "      quickchartButtonEl.classList.add('colab-df-quickchart-complete');\n",
              "    }\n",
              "    (() => {\n",
              "      let quickchartButtonEl =\n",
              "        document.querySelector('#df-1469c75e-9239-4dab-a0b3-d2689e6fc96d button');\n",
              "      quickchartButtonEl.style.display =\n",
              "        google.colab.kernel.accessAllowed ? 'block' : 'none';\n",
              "    })();\n",
              "  </script>\n",
              "</div>\n",
              "    </div>\n",
              "  </div>\n"
            ]
          },
          "metadata": {},
          "execution_count": 44
        }
      ]
    },
    {
      "cell_type": "code",
      "execution_count": null,
      "metadata": {
        "id": "er0KgBmT8cl4"
      },
      "outputs": [],
      "source": [
        "ports_dict = ports[\"mean\"].to_dict()\n",
        "ports = \"\""
      ]
    },
    {
      "cell_type": "markdown",
      "source": [
        "function to get the max mean of each port then devide for the length to either \"normalize\" or \"pelalize\" rows with numerous open ports"
      ],
      "metadata": {
        "id": "OyeAXY2cewBQ"
      }
    },
    {
      "cell_type": "code",
      "execution_count": null,
      "metadata": {
        "id": "7FjK9axI-Y9E"
      },
      "outputs": [],
      "source": [
        "def mean_ports(ports):\n",
        "  means = []\n",
        "  for port in ports:\n",
        "    means.append(ports_dict.get(port,0))\n",
        "  return max(means) / (len(means))\n"
      ]
    },
    {
      "cell_type": "code",
      "execution_count": null,
      "metadata": {
        "id": "irPHZ5cv-JY4"
      },
      "outputs": [],
      "source": [
        "train[\"port\"] = train[\"port\"].map(lambda x: mean_ports(x))"
      ]
    },
    {
      "cell_type": "markdown",
      "metadata": {
        "id": "u7OCizGhXDyL"
      },
      "source": [
        "### valid"
      ]
    },
    {
      "cell_type": "code",
      "execution_count": null,
      "metadata": {
        "id": "rzSSLebhW6qv"
      },
      "outputs": [],
      "source": [
        "valid[\"port\"] = valid[\"port\"].map(lambda x: mean_ports(x))"
      ]
    },
    {
      "cell_type": "markdown",
      "metadata": {
        "id": "3DBy6j_6YJsX"
      },
      "source": [
        "# Encoding"
      ]
    },
    {
      "cell_type": "code",
      "source": [
        "train"
      ],
      "metadata": {
        "colab": {
          "base_uri": "https://localhost:8080/",
          "height": 423
        },
        "id": "CC_exJK5Op4j",
        "outputId": "6dae2e56-e2dd-4c6c-b965-4b3159c91ce8"
      },
      "execution_count": null,
      "outputs": [
        {
          "output_type": "execute_result",
          "data": {
            "text/plain": [
              "         attacker_ip_enum  label Countries      port  unknown  tcp  udp  \\\n",
              "1401946             53005      0     DE-RO  0.000743      0.0  0.0  1.0   \n",
              "1023231             34156      0     PL-VN  0.000743      0.0  0.0  1.0   \n",
              "4980524            193534      0     GR-ID  0.023944      1.0  1.0  0.0   \n",
              "2656816            101374      0     PL-NL  0.021073      1.0  0.0  0.0   \n",
              "667166              27122      0     US-LK  0.011309      1.0  1.0  0.0   \n",
              "...                   ...    ...       ...       ...      ...  ...  ...   \n",
              "4518322            175203      0     US-US  0.056182      1.0  0.0  0.0   \n",
              "519598              10598      0     NL-SG  0.000743      0.0  0.0  1.0   \n",
              "1474087             55267      0     LV-IN  0.004013      1.0  1.0  0.0   \n",
              "2552962             96962      0     AU-KE  0.000743      0.0  0.0  1.0   \n",
              "164805               2366      0     UA-US  0.011236      1.0  1.0  0.0   \n",
              "\n",
              "        service  att_as_name_vs_ports  \n",
              "1401946    http              0.000000  \n",
              "1023231    http              0.000000  \n",
              "4980524    http              0.000000  \n",
              "2656816    http              0.051690  \n",
              "667166     http              0.000000  \n",
              "...         ...                   ...  \n",
              "4518322    http              0.000000  \n",
              "519598     http              0.000000  \n",
              "1474087    http              0.000000  \n",
              "2552962    http              0.000000  \n",
              "164805      ssh              0.007307  \n",
              "\n",
              "[4171219 rows x 9 columns]"
            ],
            "text/html": [
              "\n",
              "  <div id=\"df-f61199c4-33fb-4a32-84e2-4c8352243da6\" class=\"colab-df-container\">\n",
              "    <div>\n",
              "<style scoped>\n",
              "    .dataframe tbody tr th:only-of-type {\n",
              "        vertical-align: middle;\n",
              "    }\n",
              "\n",
              "    .dataframe tbody tr th {\n",
              "        vertical-align: top;\n",
              "    }\n",
              "\n",
              "    .dataframe thead th {\n",
              "        text-align: right;\n",
              "    }\n",
              "</style>\n",
              "<table border=\"1\" class=\"dataframe\">\n",
              "  <thead>\n",
              "    <tr style=\"text-align: right;\">\n",
              "      <th></th>\n",
              "      <th>attacker_ip_enum</th>\n",
              "      <th>label</th>\n",
              "      <th>Countries</th>\n",
              "      <th>port</th>\n",
              "      <th>unknown</th>\n",
              "      <th>tcp</th>\n",
              "      <th>udp</th>\n",
              "      <th>service</th>\n",
              "      <th>att_as_name_vs_ports</th>\n",
              "    </tr>\n",
              "  </thead>\n",
              "  <tbody>\n",
              "    <tr>\n",
              "      <th>1401946</th>\n",
              "      <td>53005</td>\n",
              "      <td>0</td>\n",
              "      <td>DE-RO</td>\n",
              "      <td>0.000743</td>\n",
              "      <td>0.0</td>\n",
              "      <td>0.0</td>\n",
              "      <td>1.0</td>\n",
              "      <td>http</td>\n",
              "      <td>0.000000</td>\n",
              "    </tr>\n",
              "    <tr>\n",
              "      <th>1023231</th>\n",
              "      <td>34156</td>\n",
              "      <td>0</td>\n",
              "      <td>PL-VN</td>\n",
              "      <td>0.000743</td>\n",
              "      <td>0.0</td>\n",
              "      <td>0.0</td>\n",
              "      <td>1.0</td>\n",
              "      <td>http</td>\n",
              "      <td>0.000000</td>\n",
              "    </tr>\n",
              "    <tr>\n",
              "      <th>4980524</th>\n",
              "      <td>193534</td>\n",
              "      <td>0</td>\n",
              "      <td>GR-ID</td>\n",
              "      <td>0.023944</td>\n",
              "      <td>1.0</td>\n",
              "      <td>1.0</td>\n",
              "      <td>0.0</td>\n",
              "      <td>http</td>\n",
              "      <td>0.000000</td>\n",
              "    </tr>\n",
              "    <tr>\n",
              "      <th>2656816</th>\n",
              "      <td>101374</td>\n",
              "      <td>0</td>\n",
              "      <td>PL-NL</td>\n",
              "      <td>0.021073</td>\n",
              "      <td>1.0</td>\n",
              "      <td>0.0</td>\n",
              "      <td>0.0</td>\n",
              "      <td>http</td>\n",
              "      <td>0.051690</td>\n",
              "    </tr>\n",
              "    <tr>\n",
              "      <th>667166</th>\n",
              "      <td>27122</td>\n",
              "      <td>0</td>\n",
              "      <td>US-LK</td>\n",
              "      <td>0.011309</td>\n",
              "      <td>1.0</td>\n",
              "      <td>1.0</td>\n",
              "      <td>0.0</td>\n",
              "      <td>http</td>\n",
              "      <td>0.000000</td>\n",
              "    </tr>\n",
              "    <tr>\n",
              "      <th>...</th>\n",
              "      <td>...</td>\n",
              "      <td>...</td>\n",
              "      <td>...</td>\n",
              "      <td>...</td>\n",
              "      <td>...</td>\n",
              "      <td>...</td>\n",
              "      <td>...</td>\n",
              "      <td>...</td>\n",
              "      <td>...</td>\n",
              "    </tr>\n",
              "    <tr>\n",
              "      <th>4518322</th>\n",
              "      <td>175203</td>\n",
              "      <td>0</td>\n",
              "      <td>US-US</td>\n",
              "      <td>0.056182</td>\n",
              "      <td>1.0</td>\n",
              "      <td>0.0</td>\n",
              "      <td>0.0</td>\n",
              "      <td>http</td>\n",
              "      <td>0.000000</td>\n",
              "    </tr>\n",
              "    <tr>\n",
              "      <th>519598</th>\n",
              "      <td>10598</td>\n",
              "      <td>0</td>\n",
              "      <td>NL-SG</td>\n",
              "      <td>0.000743</td>\n",
              "      <td>0.0</td>\n",
              "      <td>0.0</td>\n",
              "      <td>1.0</td>\n",
              "      <td>http</td>\n",
              "      <td>0.000000</td>\n",
              "    </tr>\n",
              "    <tr>\n",
              "      <th>1474087</th>\n",
              "      <td>55267</td>\n",
              "      <td>0</td>\n",
              "      <td>LV-IN</td>\n",
              "      <td>0.004013</td>\n",
              "      <td>1.0</td>\n",
              "      <td>1.0</td>\n",
              "      <td>0.0</td>\n",
              "      <td>http</td>\n",
              "      <td>0.000000</td>\n",
              "    </tr>\n",
              "    <tr>\n",
              "      <th>2552962</th>\n",
              "      <td>96962</td>\n",
              "      <td>0</td>\n",
              "      <td>AU-KE</td>\n",
              "      <td>0.000743</td>\n",
              "      <td>0.0</td>\n",
              "      <td>0.0</td>\n",
              "      <td>1.0</td>\n",
              "      <td>http</td>\n",
              "      <td>0.000000</td>\n",
              "    </tr>\n",
              "    <tr>\n",
              "      <th>164805</th>\n",
              "      <td>2366</td>\n",
              "      <td>0</td>\n",
              "      <td>UA-US</td>\n",
              "      <td>0.011236</td>\n",
              "      <td>1.0</td>\n",
              "      <td>1.0</td>\n",
              "      <td>0.0</td>\n",
              "      <td>ssh</td>\n",
              "      <td>0.007307</td>\n",
              "    </tr>\n",
              "  </tbody>\n",
              "</table>\n",
              "<p>4171219 rows × 9 columns</p>\n",
              "</div>\n",
              "    <div class=\"colab-df-buttons\">\n",
              "\n",
              "  <div class=\"colab-df-container\">\n",
              "    <button class=\"colab-df-convert\" onclick=\"convertToInteractive('df-f61199c4-33fb-4a32-84e2-4c8352243da6')\"\n",
              "            title=\"Convert this dataframe to an interactive table.\"\n",
              "            style=\"display:none;\">\n",
              "\n",
              "  <svg xmlns=\"http://www.w3.org/2000/svg\" height=\"24px\" viewBox=\"0 -960 960 960\">\n",
              "    <path d=\"M120-120v-720h720v720H120Zm60-500h600v-160H180v160Zm220 220h160v-160H400v160Zm0 220h160v-160H400v160ZM180-400h160v-160H180v160Zm440 0h160v-160H620v160ZM180-180h160v-160H180v160Zm440 0h160v-160H620v160Z\"/>\n",
              "  </svg>\n",
              "    </button>\n",
              "\n",
              "  <style>\n",
              "    .colab-df-container {\n",
              "      display:flex;\n",
              "      gap: 12px;\n",
              "    }\n",
              "\n",
              "    .colab-df-convert {\n",
              "      background-color: #E8F0FE;\n",
              "      border: none;\n",
              "      border-radius: 50%;\n",
              "      cursor: pointer;\n",
              "      display: none;\n",
              "      fill: #1967D2;\n",
              "      height: 32px;\n",
              "      padding: 0 0 0 0;\n",
              "      width: 32px;\n",
              "    }\n",
              "\n",
              "    .colab-df-convert:hover {\n",
              "      background-color: #E2EBFA;\n",
              "      box-shadow: 0px 1px 2px rgba(60, 64, 67, 0.3), 0px 1px 3px 1px rgba(60, 64, 67, 0.15);\n",
              "      fill: #174EA6;\n",
              "    }\n",
              "\n",
              "    .colab-df-buttons div {\n",
              "      margin-bottom: 4px;\n",
              "    }\n",
              "\n",
              "    [theme=dark] .colab-df-convert {\n",
              "      background-color: #3B4455;\n",
              "      fill: #D2E3FC;\n",
              "    }\n",
              "\n",
              "    [theme=dark] .colab-df-convert:hover {\n",
              "      background-color: #434B5C;\n",
              "      box-shadow: 0px 1px 3px 1px rgba(0, 0, 0, 0.15);\n",
              "      filter: drop-shadow(0px 1px 2px rgba(0, 0, 0, 0.3));\n",
              "      fill: #FFFFFF;\n",
              "    }\n",
              "  </style>\n",
              "\n",
              "    <script>\n",
              "      const buttonEl =\n",
              "        document.querySelector('#df-f61199c4-33fb-4a32-84e2-4c8352243da6 button.colab-df-convert');\n",
              "      buttonEl.style.display =\n",
              "        google.colab.kernel.accessAllowed ? 'block' : 'none';\n",
              "\n",
              "      async function convertToInteractive(key) {\n",
              "        const element = document.querySelector('#df-f61199c4-33fb-4a32-84e2-4c8352243da6');\n",
              "        const dataTable =\n",
              "          await google.colab.kernel.invokeFunction('convertToInteractive',\n",
              "                                                    [key], {});\n",
              "        if (!dataTable) return;\n",
              "\n",
              "        const docLinkHtml = 'Like what you see? Visit the ' +\n",
              "          '<a target=\"_blank\" href=https://colab.research.google.com/notebooks/data_table.ipynb>data table notebook</a>'\n",
              "          + ' to learn more about interactive tables.';\n",
              "        element.innerHTML = '';\n",
              "        dataTable['output_type'] = 'display_data';\n",
              "        await google.colab.output.renderOutput(dataTable, element);\n",
              "        const docLink = document.createElement('div');\n",
              "        docLink.innerHTML = docLinkHtml;\n",
              "        element.appendChild(docLink);\n",
              "      }\n",
              "    </script>\n",
              "  </div>\n",
              "\n",
              "\n",
              "<div id=\"df-4397d71a-c0b9-4023-8ecb-435123cd36eb\">\n",
              "  <button class=\"colab-df-quickchart\" onclick=\"quickchart('df-4397d71a-c0b9-4023-8ecb-435123cd36eb')\"\n",
              "            title=\"Suggest charts\"\n",
              "            style=\"display:none;\">\n",
              "\n",
              "<svg xmlns=\"http://www.w3.org/2000/svg\" height=\"24px\"viewBox=\"0 0 24 24\"\n",
              "     width=\"24px\">\n",
              "    <g>\n",
              "        <path d=\"M19 3H5c-1.1 0-2 .9-2 2v14c0 1.1.9 2 2 2h14c1.1 0 2-.9 2-2V5c0-1.1-.9-2-2-2zM9 17H7v-7h2v7zm4 0h-2V7h2v10zm4 0h-2v-4h2v4z\"/>\n",
              "    </g>\n",
              "</svg>\n",
              "  </button>\n",
              "\n",
              "<style>\n",
              "  .colab-df-quickchart {\n",
              "      --bg-color: #E8F0FE;\n",
              "      --fill-color: #1967D2;\n",
              "      --hover-bg-color: #E2EBFA;\n",
              "      --hover-fill-color: #174EA6;\n",
              "      --disabled-fill-color: #AAA;\n",
              "      --disabled-bg-color: #DDD;\n",
              "  }\n",
              "\n",
              "  [theme=dark] .colab-df-quickchart {\n",
              "      --bg-color: #3B4455;\n",
              "      --fill-color: #D2E3FC;\n",
              "      --hover-bg-color: #434B5C;\n",
              "      --hover-fill-color: #FFFFFF;\n",
              "      --disabled-bg-color: #3B4455;\n",
              "      --disabled-fill-color: #666;\n",
              "  }\n",
              "\n",
              "  .colab-df-quickchart {\n",
              "    background-color: var(--bg-color);\n",
              "    border: none;\n",
              "    border-radius: 50%;\n",
              "    cursor: pointer;\n",
              "    display: none;\n",
              "    fill: var(--fill-color);\n",
              "    height: 32px;\n",
              "    padding: 0;\n",
              "    width: 32px;\n",
              "  }\n",
              "\n",
              "  .colab-df-quickchart:hover {\n",
              "    background-color: var(--hover-bg-color);\n",
              "    box-shadow: 0 1px 2px rgba(60, 64, 67, 0.3), 0 1px 3px 1px rgba(60, 64, 67, 0.15);\n",
              "    fill: var(--button-hover-fill-color);\n",
              "  }\n",
              "\n",
              "  .colab-df-quickchart-complete:disabled,\n",
              "  .colab-df-quickchart-complete:disabled:hover {\n",
              "    background-color: var(--disabled-bg-color);\n",
              "    fill: var(--disabled-fill-color);\n",
              "    box-shadow: none;\n",
              "  }\n",
              "\n",
              "  .colab-df-spinner {\n",
              "    border: 2px solid var(--fill-color);\n",
              "    border-color: transparent;\n",
              "    border-bottom-color: var(--fill-color);\n",
              "    animation:\n",
              "      spin 1s steps(1) infinite;\n",
              "  }\n",
              "\n",
              "  @keyframes spin {\n",
              "    0% {\n",
              "      border-color: transparent;\n",
              "      border-bottom-color: var(--fill-color);\n",
              "      border-left-color: var(--fill-color);\n",
              "    }\n",
              "    20% {\n",
              "      border-color: transparent;\n",
              "      border-left-color: var(--fill-color);\n",
              "      border-top-color: var(--fill-color);\n",
              "    }\n",
              "    30% {\n",
              "      border-color: transparent;\n",
              "      border-left-color: var(--fill-color);\n",
              "      border-top-color: var(--fill-color);\n",
              "      border-right-color: var(--fill-color);\n",
              "    }\n",
              "    40% {\n",
              "      border-color: transparent;\n",
              "      border-right-color: var(--fill-color);\n",
              "      border-top-color: var(--fill-color);\n",
              "    }\n",
              "    60% {\n",
              "      border-color: transparent;\n",
              "      border-right-color: var(--fill-color);\n",
              "    }\n",
              "    80% {\n",
              "      border-color: transparent;\n",
              "      border-right-color: var(--fill-color);\n",
              "      border-bottom-color: var(--fill-color);\n",
              "    }\n",
              "    90% {\n",
              "      border-color: transparent;\n",
              "      border-bottom-color: var(--fill-color);\n",
              "    }\n",
              "  }\n",
              "</style>\n",
              "\n",
              "  <script>\n",
              "    async function quickchart(key) {\n",
              "      const quickchartButtonEl =\n",
              "        document.querySelector('#' + key + ' button');\n",
              "      quickchartButtonEl.disabled = true;  // To prevent multiple clicks.\n",
              "      quickchartButtonEl.classList.add('colab-df-spinner');\n",
              "      try {\n",
              "        const charts = await google.colab.kernel.invokeFunction(\n",
              "            'suggestCharts', [key], {});\n",
              "      } catch (error) {\n",
              "        console.error('Error during call to suggestCharts:', error);\n",
              "      }\n",
              "      quickchartButtonEl.classList.remove('colab-df-spinner');\n",
              "      quickchartButtonEl.classList.add('colab-df-quickchart-complete');\n",
              "    }\n",
              "    (() => {\n",
              "      let quickchartButtonEl =\n",
              "        document.querySelector('#df-4397d71a-c0b9-4023-8ecb-435123cd36eb button');\n",
              "      quickchartButtonEl.style.display =\n",
              "        google.colab.kernel.accessAllowed ? 'block' : 'none';\n",
              "    })();\n",
              "  </script>\n",
              "</div>\n",
              "    </div>\n",
              "  </div>\n"
            ]
          },
          "metadata": {},
          "execution_count": 49
        }
      ]
    },
    {
      "cell_type": "markdown",
      "metadata": {
        "id": "RMhyESQRZBRq"
      },
      "source": [
        "## Creating train and validation"
      ]
    },
    {
      "cell_type": "code",
      "execution_count": null,
      "metadata": {
        "id": "IzzTifKCYybs"
      },
      "outputs": [],
      "source": [
        "train.drop_duplicates(inplace = True)\n",
        "valid.drop_duplicates(inplace = True)"
      ]
    },
    {
      "cell_type": "code",
      "execution_count": null,
      "metadata": {
        "id": "9i0qt9jfZoQj"
      },
      "outputs": [],
      "source": [
        "train.drop(\"attacker_ip_enum\", inplace = True, axis = 1)\n",
        "valid.drop(\"attacker_ip_enum\", inplace = True, axis = 1)"
      ]
    },
    {
      "cell_type": "code",
      "execution_count": null,
      "metadata": {
        "id": "ihcmVzx9ZnFh"
      },
      "outputs": [],
      "source": [
        "y_train = train[\"label\"]\n",
        "x_train = train.drop(\"label\", axis=1)\n",
        "\n",
        "y_valid = valid[\"label\"]\n",
        "x_valid = valid.drop(\"label\", axis=1)"
      ]
    },
    {
      "cell_type": "markdown",
      "metadata": {
        "id": "WmA7AuOgXXbZ"
      },
      "source": [
        "## Columns to binary"
      ]
    },
    {
      "cell_type": "code",
      "execution_count": null,
      "metadata": {
        "id": "ofWFY9U6XUpm"
      },
      "outputs": [],
      "source": [
        "binary_columns = [\"Countries\"]\n",
        "\n",
        "encoder = ce.BinaryEncoder(cols= binary_columns)\n",
        "\n",
        "x_train = encoder.fit_transform(x_train)\n",
        "\n",
        "x_valid = encoder.transform(x_valid)"
      ]
    },
    {
      "cell_type": "markdown",
      "source": [
        "binary columns to int8"
      ],
      "metadata": {
        "id": "57DvFqRtWMTu"
      }
    },
    {
      "cell_type": "code",
      "execution_count": null,
      "metadata": {
        "id": "r6igEqDV8pN1"
      },
      "outputs": [],
      "source": [
        "binary_col = [col for col in x_train.columns if \"paises\" in col]"
      ]
    },
    {
      "cell_type": "code",
      "execution_count": null,
      "metadata": {
        "id": "IQGaiFJ58uiz"
      },
      "outputs": [],
      "source": [
        "x_train[binary_col] = x_train[binary_col].astype('int8')"
      ]
    },
    {
      "cell_type": "markdown",
      "metadata": {
        "id": "rMQdATG9RUsu"
      },
      "source": [
        "## Service OHE"
      ]
    },
    {
      "cell_type": "code",
      "execution_count": null,
      "metadata": {
        "id": "wTt-AT9rRUSb"
      },
      "outputs": [],
      "source": [
        "ohe_service = OneHotEncoder(drop = \"first\")\n",
        "encoded_serv = ohe_service.fit_transform(x_train[[\"service\"]]).toarray()\n",
        "\n",
        "x_train.drop(\"service\", inplace = True, axis = 1)\n",
        "x_train[ohe_service.categories_[0][1:]] = encoded_serv"
      ]
    },
    {
      "cell_type": "code",
      "execution_count": null,
      "metadata": {
        "id": "YujvYIyjRmjd"
      },
      "outputs": [],
      "source": [
        "encoded_serv = ohe_service.transform(x_valid[[\"service\"]]).toarray()\n",
        "\n",
        "x_valid.drop(\"service\", inplace = True, axis = 1)\n",
        "x_valid[ohe_service.categories_[0][1:]] = encoded_serv"
      ]
    },
    {
      "cell_type": "markdown",
      "metadata": {
        "id": "L5eoRxmNYS7L"
      },
      "source": [
        "# Random Forest Default"
      ]
    },
    {
      "cell_type": "code",
      "source": [
        "x_train.head()"
      ],
      "metadata": {
        "colab": {
          "base_uri": "https://localhost:8080/",
          "height": 235
        },
        "id": "lVvdiXMA4VHu",
        "outputId": "0c78b032-db34-4298-f0f4-6f915a203401"
      },
      "execution_count": null,
      "outputs": [
        {
          "output_type": "execute_result",
          "data": {
            "text/plain": [
              "         Countries_0  Countries_1  Countries_2  Countries_3  Countries_4  \\\n",
              "1401946            0            0            0            0            0   \n",
              "1023231            0            0            0            0            0   \n",
              "4980524            0            0            0            0            0   \n",
              "2656816            0            0            0            0            0   \n",
              "667166             0            0            0            0            0   \n",
              "\n",
              "         Countries_5  Countries_6  Countries_7  Countries_8  Countries_9  ...  \\\n",
              "1401946            0            0            0            0            0  ...   \n",
              "1023231            0            0            0            0            0  ...   \n",
              "4980524            0            0            0            0            0  ...   \n",
              "2656816            0            0            0            0            0  ...   \n",
              "667166             0            0            0            0            0  ...   \n",
              "\n",
              "         udp  att_as_name_vs_ports  ftp  http  pop3/imap  sip  smb  ssh  \\\n",
              "1401946  1.0               0.00000  0.0   1.0        0.0  0.0  0.0  0.0   \n",
              "1023231  1.0               0.00000  0.0   1.0        0.0  0.0  0.0  0.0   \n",
              "4980524  0.0               0.00000  0.0   1.0        0.0  0.0  0.0  0.0   \n",
              "2656816  0.0               0.05169  0.0   1.0        0.0  0.0  0.0  0.0   \n",
              "667166   0.0               0.00000  0.0   1.0        0.0  0.0  0.0  0.0   \n",
              "\n",
              "         telnet  windows  \n",
              "1401946     0.0      0.0  \n",
              "1023231     0.0      0.0  \n",
              "4980524     0.0      0.0  \n",
              "2656816     0.0      0.0  \n",
              "667166      0.0      0.0  \n",
              "\n",
              "[5 rows x 27 columns]"
            ],
            "text/html": [
              "\n",
              "  <div id=\"df-d7e226d4-b0f7-4224-b004-f4877ec71724\" class=\"colab-df-container\">\n",
              "    <div>\n",
              "<style scoped>\n",
              "    .dataframe tbody tr th:only-of-type {\n",
              "        vertical-align: middle;\n",
              "    }\n",
              "\n",
              "    .dataframe tbody tr th {\n",
              "        vertical-align: top;\n",
              "    }\n",
              "\n",
              "    .dataframe thead th {\n",
              "        text-align: right;\n",
              "    }\n",
              "</style>\n",
              "<table border=\"1\" class=\"dataframe\">\n",
              "  <thead>\n",
              "    <tr style=\"text-align: right;\">\n",
              "      <th></th>\n",
              "      <th>Countries_0</th>\n",
              "      <th>Countries_1</th>\n",
              "      <th>Countries_2</th>\n",
              "      <th>Countries_3</th>\n",
              "      <th>Countries_4</th>\n",
              "      <th>Countries_5</th>\n",
              "      <th>Countries_6</th>\n",
              "      <th>Countries_7</th>\n",
              "      <th>Countries_8</th>\n",
              "      <th>Countries_9</th>\n",
              "      <th>...</th>\n",
              "      <th>udp</th>\n",
              "      <th>att_as_name_vs_ports</th>\n",
              "      <th>ftp</th>\n",
              "      <th>http</th>\n",
              "      <th>pop3/imap</th>\n",
              "      <th>sip</th>\n",
              "      <th>smb</th>\n",
              "      <th>ssh</th>\n",
              "      <th>telnet</th>\n",
              "      <th>windows</th>\n",
              "    </tr>\n",
              "  </thead>\n",
              "  <tbody>\n",
              "    <tr>\n",
              "      <th>1401946</th>\n",
              "      <td>0</td>\n",
              "      <td>0</td>\n",
              "      <td>0</td>\n",
              "      <td>0</td>\n",
              "      <td>0</td>\n",
              "      <td>0</td>\n",
              "      <td>0</td>\n",
              "      <td>0</td>\n",
              "      <td>0</td>\n",
              "      <td>0</td>\n",
              "      <td>...</td>\n",
              "      <td>1.0</td>\n",
              "      <td>0.00000</td>\n",
              "      <td>0.0</td>\n",
              "      <td>1.0</td>\n",
              "      <td>0.0</td>\n",
              "      <td>0.0</td>\n",
              "      <td>0.0</td>\n",
              "      <td>0.0</td>\n",
              "      <td>0.0</td>\n",
              "      <td>0.0</td>\n",
              "    </tr>\n",
              "    <tr>\n",
              "      <th>1023231</th>\n",
              "      <td>0</td>\n",
              "      <td>0</td>\n",
              "      <td>0</td>\n",
              "      <td>0</td>\n",
              "      <td>0</td>\n",
              "      <td>0</td>\n",
              "      <td>0</td>\n",
              "      <td>0</td>\n",
              "      <td>0</td>\n",
              "      <td>0</td>\n",
              "      <td>...</td>\n",
              "      <td>1.0</td>\n",
              "      <td>0.00000</td>\n",
              "      <td>0.0</td>\n",
              "      <td>1.0</td>\n",
              "      <td>0.0</td>\n",
              "      <td>0.0</td>\n",
              "      <td>0.0</td>\n",
              "      <td>0.0</td>\n",
              "      <td>0.0</td>\n",
              "      <td>0.0</td>\n",
              "    </tr>\n",
              "    <tr>\n",
              "      <th>4980524</th>\n",
              "      <td>0</td>\n",
              "      <td>0</td>\n",
              "      <td>0</td>\n",
              "      <td>0</td>\n",
              "      <td>0</td>\n",
              "      <td>0</td>\n",
              "      <td>0</td>\n",
              "      <td>0</td>\n",
              "      <td>0</td>\n",
              "      <td>0</td>\n",
              "      <td>...</td>\n",
              "      <td>0.0</td>\n",
              "      <td>0.00000</td>\n",
              "      <td>0.0</td>\n",
              "      <td>1.0</td>\n",
              "      <td>0.0</td>\n",
              "      <td>0.0</td>\n",
              "      <td>0.0</td>\n",
              "      <td>0.0</td>\n",
              "      <td>0.0</td>\n",
              "      <td>0.0</td>\n",
              "    </tr>\n",
              "    <tr>\n",
              "      <th>2656816</th>\n",
              "      <td>0</td>\n",
              "      <td>0</td>\n",
              "      <td>0</td>\n",
              "      <td>0</td>\n",
              "      <td>0</td>\n",
              "      <td>0</td>\n",
              "      <td>0</td>\n",
              "      <td>0</td>\n",
              "      <td>0</td>\n",
              "      <td>0</td>\n",
              "      <td>...</td>\n",
              "      <td>0.0</td>\n",
              "      <td>0.05169</td>\n",
              "      <td>0.0</td>\n",
              "      <td>1.0</td>\n",
              "      <td>0.0</td>\n",
              "      <td>0.0</td>\n",
              "      <td>0.0</td>\n",
              "      <td>0.0</td>\n",
              "      <td>0.0</td>\n",
              "      <td>0.0</td>\n",
              "    </tr>\n",
              "    <tr>\n",
              "      <th>667166</th>\n",
              "      <td>0</td>\n",
              "      <td>0</td>\n",
              "      <td>0</td>\n",
              "      <td>0</td>\n",
              "      <td>0</td>\n",
              "      <td>0</td>\n",
              "      <td>0</td>\n",
              "      <td>0</td>\n",
              "      <td>0</td>\n",
              "      <td>0</td>\n",
              "      <td>...</td>\n",
              "      <td>0.0</td>\n",
              "      <td>0.00000</td>\n",
              "      <td>0.0</td>\n",
              "      <td>1.0</td>\n",
              "      <td>0.0</td>\n",
              "      <td>0.0</td>\n",
              "      <td>0.0</td>\n",
              "      <td>0.0</td>\n",
              "      <td>0.0</td>\n",
              "      <td>0.0</td>\n",
              "    </tr>\n",
              "  </tbody>\n",
              "</table>\n",
              "<p>5 rows × 27 columns</p>\n",
              "</div>\n",
              "    <div class=\"colab-df-buttons\">\n",
              "\n",
              "  <div class=\"colab-df-container\">\n",
              "    <button class=\"colab-df-convert\" onclick=\"convertToInteractive('df-d7e226d4-b0f7-4224-b004-f4877ec71724')\"\n",
              "            title=\"Convert this dataframe to an interactive table.\"\n",
              "            style=\"display:none;\">\n",
              "\n",
              "  <svg xmlns=\"http://www.w3.org/2000/svg\" height=\"24px\" viewBox=\"0 -960 960 960\">\n",
              "    <path d=\"M120-120v-720h720v720H120Zm60-500h600v-160H180v160Zm220 220h160v-160H400v160Zm0 220h160v-160H400v160ZM180-400h160v-160H180v160Zm440 0h160v-160H620v160ZM180-180h160v-160H180v160Zm440 0h160v-160H620v160Z\"/>\n",
              "  </svg>\n",
              "    </button>\n",
              "\n",
              "  <style>\n",
              "    .colab-df-container {\n",
              "      display:flex;\n",
              "      gap: 12px;\n",
              "    }\n",
              "\n",
              "    .colab-df-convert {\n",
              "      background-color: #E8F0FE;\n",
              "      border: none;\n",
              "      border-radius: 50%;\n",
              "      cursor: pointer;\n",
              "      display: none;\n",
              "      fill: #1967D2;\n",
              "      height: 32px;\n",
              "      padding: 0 0 0 0;\n",
              "      width: 32px;\n",
              "    }\n",
              "\n",
              "    .colab-df-convert:hover {\n",
              "      background-color: #E2EBFA;\n",
              "      box-shadow: 0px 1px 2px rgba(60, 64, 67, 0.3), 0px 1px 3px 1px rgba(60, 64, 67, 0.15);\n",
              "      fill: #174EA6;\n",
              "    }\n",
              "\n",
              "    .colab-df-buttons div {\n",
              "      margin-bottom: 4px;\n",
              "    }\n",
              "\n",
              "    [theme=dark] .colab-df-convert {\n",
              "      background-color: #3B4455;\n",
              "      fill: #D2E3FC;\n",
              "    }\n",
              "\n",
              "    [theme=dark] .colab-df-convert:hover {\n",
              "      background-color: #434B5C;\n",
              "      box-shadow: 0px 1px 3px 1px rgba(0, 0, 0, 0.15);\n",
              "      filter: drop-shadow(0px 1px 2px rgba(0, 0, 0, 0.3));\n",
              "      fill: #FFFFFF;\n",
              "    }\n",
              "  </style>\n",
              "\n",
              "    <script>\n",
              "      const buttonEl =\n",
              "        document.querySelector('#df-d7e226d4-b0f7-4224-b004-f4877ec71724 button.colab-df-convert');\n",
              "      buttonEl.style.display =\n",
              "        google.colab.kernel.accessAllowed ? 'block' : 'none';\n",
              "\n",
              "      async function convertToInteractive(key) {\n",
              "        const element = document.querySelector('#df-d7e226d4-b0f7-4224-b004-f4877ec71724');\n",
              "        const dataTable =\n",
              "          await google.colab.kernel.invokeFunction('convertToInteractive',\n",
              "                                                    [key], {});\n",
              "        if (!dataTable) return;\n",
              "\n",
              "        const docLinkHtml = 'Like what you see? Visit the ' +\n",
              "          '<a target=\"_blank\" href=https://colab.research.google.com/notebooks/data_table.ipynb>data table notebook</a>'\n",
              "          + ' to learn more about interactive tables.';\n",
              "        element.innerHTML = '';\n",
              "        dataTable['output_type'] = 'display_data';\n",
              "        await google.colab.output.renderOutput(dataTable, element);\n",
              "        const docLink = document.createElement('div');\n",
              "        docLink.innerHTML = docLinkHtml;\n",
              "        element.appendChild(docLink);\n",
              "      }\n",
              "    </script>\n",
              "  </div>\n",
              "\n",
              "\n",
              "<div id=\"df-7ae73cc5-0efa-4f6a-ab80-b0cf6f1f04b2\">\n",
              "  <button class=\"colab-df-quickchart\" onclick=\"quickchart('df-7ae73cc5-0efa-4f6a-ab80-b0cf6f1f04b2')\"\n",
              "            title=\"Suggest charts\"\n",
              "            style=\"display:none;\">\n",
              "\n",
              "<svg xmlns=\"http://www.w3.org/2000/svg\" height=\"24px\"viewBox=\"0 0 24 24\"\n",
              "     width=\"24px\">\n",
              "    <g>\n",
              "        <path d=\"M19 3H5c-1.1 0-2 .9-2 2v14c0 1.1.9 2 2 2h14c1.1 0 2-.9 2-2V5c0-1.1-.9-2-2-2zM9 17H7v-7h2v7zm4 0h-2V7h2v10zm4 0h-2v-4h2v4z\"/>\n",
              "    </g>\n",
              "</svg>\n",
              "  </button>\n",
              "\n",
              "<style>\n",
              "  .colab-df-quickchart {\n",
              "      --bg-color: #E8F0FE;\n",
              "      --fill-color: #1967D2;\n",
              "      --hover-bg-color: #E2EBFA;\n",
              "      --hover-fill-color: #174EA6;\n",
              "      --disabled-fill-color: #AAA;\n",
              "      --disabled-bg-color: #DDD;\n",
              "  }\n",
              "\n",
              "  [theme=dark] .colab-df-quickchart {\n",
              "      --bg-color: #3B4455;\n",
              "      --fill-color: #D2E3FC;\n",
              "      --hover-bg-color: #434B5C;\n",
              "      --hover-fill-color: #FFFFFF;\n",
              "      --disabled-bg-color: #3B4455;\n",
              "      --disabled-fill-color: #666;\n",
              "  }\n",
              "\n",
              "  .colab-df-quickchart {\n",
              "    background-color: var(--bg-color);\n",
              "    border: none;\n",
              "    border-radius: 50%;\n",
              "    cursor: pointer;\n",
              "    display: none;\n",
              "    fill: var(--fill-color);\n",
              "    height: 32px;\n",
              "    padding: 0;\n",
              "    width: 32px;\n",
              "  }\n",
              "\n",
              "  .colab-df-quickchart:hover {\n",
              "    background-color: var(--hover-bg-color);\n",
              "    box-shadow: 0 1px 2px rgba(60, 64, 67, 0.3), 0 1px 3px 1px rgba(60, 64, 67, 0.15);\n",
              "    fill: var(--button-hover-fill-color);\n",
              "  }\n",
              "\n",
              "  .colab-df-quickchart-complete:disabled,\n",
              "  .colab-df-quickchart-complete:disabled:hover {\n",
              "    background-color: var(--disabled-bg-color);\n",
              "    fill: var(--disabled-fill-color);\n",
              "    box-shadow: none;\n",
              "  }\n",
              "\n",
              "  .colab-df-spinner {\n",
              "    border: 2px solid var(--fill-color);\n",
              "    border-color: transparent;\n",
              "    border-bottom-color: var(--fill-color);\n",
              "    animation:\n",
              "      spin 1s steps(1) infinite;\n",
              "  }\n",
              "\n",
              "  @keyframes spin {\n",
              "    0% {\n",
              "      border-color: transparent;\n",
              "      border-bottom-color: var(--fill-color);\n",
              "      border-left-color: var(--fill-color);\n",
              "    }\n",
              "    20% {\n",
              "      border-color: transparent;\n",
              "      border-left-color: var(--fill-color);\n",
              "      border-top-color: var(--fill-color);\n",
              "    }\n",
              "    30% {\n",
              "      border-color: transparent;\n",
              "      border-left-color: var(--fill-color);\n",
              "      border-top-color: var(--fill-color);\n",
              "      border-right-color: var(--fill-color);\n",
              "    }\n",
              "    40% {\n",
              "      border-color: transparent;\n",
              "      border-right-color: var(--fill-color);\n",
              "      border-top-color: var(--fill-color);\n",
              "    }\n",
              "    60% {\n",
              "      border-color: transparent;\n",
              "      border-right-color: var(--fill-color);\n",
              "    }\n",
              "    80% {\n",
              "      border-color: transparent;\n",
              "      border-right-color: var(--fill-color);\n",
              "      border-bottom-color: var(--fill-color);\n",
              "    }\n",
              "    90% {\n",
              "      border-color: transparent;\n",
              "      border-bottom-color: var(--fill-color);\n",
              "    }\n",
              "  }\n",
              "</style>\n",
              "\n",
              "  <script>\n",
              "    async function quickchart(key) {\n",
              "      const quickchartButtonEl =\n",
              "        document.querySelector('#' + key + ' button');\n",
              "      quickchartButtonEl.disabled = true;  // To prevent multiple clicks.\n",
              "      quickchartButtonEl.classList.add('colab-df-spinner');\n",
              "      try {\n",
              "        const charts = await google.colab.kernel.invokeFunction(\n",
              "            'suggestCharts', [key], {});\n",
              "      } catch (error) {\n",
              "        console.error('Error during call to suggestCharts:', error);\n",
              "      }\n",
              "      quickchartButtonEl.classList.remove('colab-df-spinner');\n",
              "      quickchartButtonEl.classList.add('colab-df-quickchart-complete');\n",
              "    }\n",
              "    (() => {\n",
              "      let quickchartButtonEl =\n",
              "        document.querySelector('#df-7ae73cc5-0efa-4f6a-ab80-b0cf6f1f04b2 button');\n",
              "      quickchartButtonEl.style.display =\n",
              "        google.colab.kernel.accessAllowed ? 'block' : 'none';\n",
              "    })();\n",
              "  </script>\n",
              "</div>\n",
              "    </div>\n",
              "  </div>\n"
            ]
          },
          "metadata": {},
          "execution_count": 58
        }
      ]
    },
    {
      "cell_type": "code",
      "execution_count": null,
      "metadata": {
        "colab": {
          "base_uri": "https://localhost:8080/",
          "height": 75
        },
        "id": "0PQpCxktYW1F",
        "outputId": "3962a802-0197-433c-c4c7-2526f8a5e629"
      },
      "outputs": [
        {
          "output_type": "execute_result",
          "data": {
            "text/plain": [
              "RandomForestClassifier(n_jobs=-1, random_state=24)"
            ],
            "text/html": [
              "<style>#sk-container-id-1 {color: black;background-color: white;}#sk-container-id-1 pre{padding: 0;}#sk-container-id-1 div.sk-toggleable {background-color: white;}#sk-container-id-1 label.sk-toggleable__label {cursor: pointer;display: block;width: 100%;margin-bottom: 0;padding: 0.3em;box-sizing: border-box;text-align: center;}#sk-container-id-1 label.sk-toggleable__label-arrow:before {content: \"▸\";float: left;margin-right: 0.25em;color: #696969;}#sk-container-id-1 label.sk-toggleable__label-arrow:hover:before {color: black;}#sk-container-id-1 div.sk-estimator:hover label.sk-toggleable__label-arrow:before {color: black;}#sk-container-id-1 div.sk-toggleable__content {max-height: 0;max-width: 0;overflow: hidden;text-align: left;background-color: #f0f8ff;}#sk-container-id-1 div.sk-toggleable__content pre {margin: 0.2em;color: black;border-radius: 0.25em;background-color: #f0f8ff;}#sk-container-id-1 input.sk-toggleable__control:checked~div.sk-toggleable__content {max-height: 200px;max-width: 100%;overflow: auto;}#sk-container-id-1 input.sk-toggleable__control:checked~label.sk-toggleable__label-arrow:before {content: \"▾\";}#sk-container-id-1 div.sk-estimator input.sk-toggleable__control:checked~label.sk-toggleable__label {background-color: #d4ebff;}#sk-container-id-1 div.sk-label input.sk-toggleable__control:checked~label.sk-toggleable__label {background-color: #d4ebff;}#sk-container-id-1 input.sk-hidden--visually {border: 0;clip: rect(1px 1px 1px 1px);clip: rect(1px, 1px, 1px, 1px);height: 1px;margin: -1px;overflow: hidden;padding: 0;position: absolute;width: 1px;}#sk-container-id-1 div.sk-estimator {font-family: monospace;background-color: #f0f8ff;border: 1px dotted black;border-radius: 0.25em;box-sizing: border-box;margin-bottom: 0.5em;}#sk-container-id-1 div.sk-estimator:hover {background-color: #d4ebff;}#sk-container-id-1 div.sk-parallel-item::after {content: \"\";width: 100%;border-bottom: 1px solid gray;flex-grow: 1;}#sk-container-id-1 div.sk-label:hover label.sk-toggleable__label {background-color: #d4ebff;}#sk-container-id-1 div.sk-serial::before {content: \"\";position: absolute;border-left: 1px solid gray;box-sizing: border-box;top: 0;bottom: 0;left: 50%;z-index: 0;}#sk-container-id-1 div.sk-serial {display: flex;flex-direction: column;align-items: center;background-color: white;padding-right: 0.2em;padding-left: 0.2em;position: relative;}#sk-container-id-1 div.sk-item {position: relative;z-index: 1;}#sk-container-id-1 div.sk-parallel {display: flex;align-items: stretch;justify-content: center;background-color: white;position: relative;}#sk-container-id-1 div.sk-item::before, #sk-container-id-1 div.sk-parallel-item::before {content: \"\";position: absolute;border-left: 1px solid gray;box-sizing: border-box;top: 0;bottom: 0;left: 50%;z-index: -1;}#sk-container-id-1 div.sk-parallel-item {display: flex;flex-direction: column;z-index: 1;position: relative;background-color: white;}#sk-container-id-1 div.sk-parallel-item:first-child::after {align-self: flex-end;width: 50%;}#sk-container-id-1 div.sk-parallel-item:last-child::after {align-self: flex-start;width: 50%;}#sk-container-id-1 div.sk-parallel-item:only-child::after {width: 0;}#sk-container-id-1 div.sk-dashed-wrapped {border: 1px dashed gray;margin: 0 0.4em 0.5em 0.4em;box-sizing: border-box;padding-bottom: 0.4em;background-color: white;}#sk-container-id-1 div.sk-label label {font-family: monospace;font-weight: bold;display: inline-block;line-height: 1.2em;}#sk-container-id-1 div.sk-label-container {text-align: center;}#sk-container-id-1 div.sk-container {/* jupyter's `normalize.less` sets `[hidden] { display: none; }` but bootstrap.min.css set `[hidden] { display: none !important; }` so we also need the `!important` here to be able to override the default hidden behavior on the sphinx rendered scikit-learn.org. See: https://github.com/scikit-learn/scikit-learn/issues/21755 */display: inline-block !important;position: relative;}#sk-container-id-1 div.sk-text-repr-fallback {display: none;}</style><div id=\"sk-container-id-1\" class=\"sk-top-container\"><div class=\"sk-text-repr-fallback\"><pre>RandomForestClassifier(n_jobs=-1, random_state=24)</pre><b>In a Jupyter environment, please rerun this cell to show the HTML representation or trust the notebook. <br />On GitHub, the HTML representation is unable to render, please try loading this page with nbviewer.org.</b></div><div class=\"sk-container\" hidden><div class=\"sk-item\"><div class=\"sk-estimator sk-toggleable\"><input class=\"sk-toggleable__control sk-hidden--visually\" id=\"sk-estimator-id-1\" type=\"checkbox\" checked><label for=\"sk-estimator-id-1\" class=\"sk-toggleable__label sk-toggleable__label-arrow\">RandomForestClassifier</label><div class=\"sk-toggleable__content\"><pre>RandomForestClassifier(n_jobs=-1, random_state=24)</pre></div></div></div></div></div>"
            ]
          },
          "metadata": {},
          "execution_count": 59
        }
      ],
      "source": [
        "random_forest = RandomForestClassifier(random_state = RANDOM_STATE, n_jobs=-1)\n",
        "\n",
        "\n",
        "random_forest.fit(x_train, y_train)"
      ]
    },
    {
      "cell_type": "code",
      "execution_count": null,
      "metadata": {
        "id": "U3HJU5JqYtlk"
      },
      "outputs": [],
      "source": [
        "y_pred = random_forest.predict(x_valid)"
      ]
    },
    {
      "cell_type": "code",
      "execution_count": null,
      "metadata": {
        "colab": {
          "base_uri": "https://localhost:8080/"
        },
        "id": "1wR8y7AFY_tL",
        "outputId": "2939803c-23b0-4b38-8714-980b04aa7a69"
      },
      "outputs": [
        {
          "output_type": "execute_result",
          "data": {
            "text/plain": [
              "0.7183664360633788"
            ]
          },
          "metadata": {},
          "execution_count": 61
        }
      ],
      "source": [
        "f1_score(y_valid, y_pred)"
      ]
    },
    {
      "cell_type": "code",
      "execution_count": null,
      "metadata": {
        "colab": {
          "base_uri": "https://localhost:8080/"
        },
        "id": "5iwHTEjLdwzI",
        "outputId": "bcb016d5-d992-48e7-a23a-9a14a02014d1"
      },
      "outputs": [
        {
          "output_type": "stream",
          "name": "stdout",
          "text": [
            "              precision    recall  f1-score   support\n",
            "\n",
            "           0       0.99      0.99      0.99    173481\n",
            "           1       0.76      0.68      0.72      4728\n",
            "\n",
            "    accuracy                           0.99    178209\n",
            "   macro avg       0.88      0.84      0.86    178209\n",
            "weighted avg       0.99      0.99      0.99    178209\n",
            "\n"
          ]
        }
      ],
      "source": [
        "print(classification_report(y_valid, y_pred))"
      ]
    },
    {
      "cell_type": "markdown",
      "metadata": {
        "id": "EhZiyOeGhopP"
      },
      "source": [
        "# Random forest random seach"
      ]
    },
    {
      "cell_type": "code",
      "execution_count": null,
      "metadata": {
        "id": "3m8Psyr3neqk"
      },
      "outputs": [],
      "source": [
        "param_dist = {\n",
        "    'n_estimators': [20, 40, 60, 80, 68, 70, 90, 110],\n",
        "    'max_depth': [20, 10, 15, 5, None],\n",
        "    'criterion' : [\"gini\", \"entropy\", \"log_loss\"],\n",
        "    'max_features': [\"sqrt\", \"log2\", None],\n",
        "    'min_samples_split': [3, 7, 9, 10, 12],\n",
        "    'min_samples_leaf': [3, 7, 9, 10, 12],\n",
        "    'max_samples': [None, 0.5, 0.7, 0.9],\n",
        "    'class_weight': [None, 'balanced', {0: 1, 1: 2}]\n",
        "    }"
      ]
    },
    {
      "cell_type": "code",
      "execution_count": null,
      "metadata": {
        "id": "_-D1nU3ovTwt"
      },
      "outputs": [],
      "source": [
        "random_forest2 = RandomForestClassifier(random_state = RANDOM_STATE, n_jobs=-1)"
      ]
    },
    {
      "cell_type": "code",
      "execution_count": null,
      "metadata": {
        "id": "o2THS4Mmntka",
        "colab": {
          "base_uri": "https://localhost:8080/",
          "height": 118
        },
        "outputId": "3736c719-e7d6-4985-dda5-539c0c029620"
      },
      "outputs": [
        {
          "output_type": "execute_result",
          "data": {
            "text/plain": [
              "RandomizedSearchCV(cv=5,\n",
              "                   estimator=RandomForestClassifier(n_jobs=-1, random_state=24),\n",
              "                   param_distributions={'class_weight': [None, 'balanced',\n",
              "                                                         {0: 1, 1: 2}],\n",
              "                                        'criterion': ['gini', 'entropy',\n",
              "                                                      'log_loss'],\n",
              "                                        'max_depth': [20, 10, 15, 5, None],\n",
              "                                        'max_features': ['sqrt', 'log2', None],\n",
              "                                        'max_samples': [None, 0.5, 0.7, 0.9],\n",
              "                                        'min_samples_leaf': [3, 7, 9, 10, 12],\n",
              "                                        'min_samples_split': [3, 7, 9, 10, 12],\n",
              "                                        'n_estimators': [20, 40, 60, 80, 68, 70,\n",
              "                                                         90, 110]},\n",
              "                   random_state=24, scoring='f1')"
            ],
            "text/html": [
              "<style>#sk-container-id-2 {color: black;background-color: white;}#sk-container-id-2 pre{padding: 0;}#sk-container-id-2 div.sk-toggleable {background-color: white;}#sk-container-id-2 label.sk-toggleable__label {cursor: pointer;display: block;width: 100%;margin-bottom: 0;padding: 0.3em;box-sizing: border-box;text-align: center;}#sk-container-id-2 label.sk-toggleable__label-arrow:before {content: \"▸\";float: left;margin-right: 0.25em;color: #696969;}#sk-container-id-2 label.sk-toggleable__label-arrow:hover:before {color: black;}#sk-container-id-2 div.sk-estimator:hover label.sk-toggleable__label-arrow:before {color: black;}#sk-container-id-2 div.sk-toggleable__content {max-height: 0;max-width: 0;overflow: hidden;text-align: left;background-color: #f0f8ff;}#sk-container-id-2 div.sk-toggleable__content pre {margin: 0.2em;color: black;border-radius: 0.25em;background-color: #f0f8ff;}#sk-container-id-2 input.sk-toggleable__control:checked~div.sk-toggleable__content {max-height: 200px;max-width: 100%;overflow: auto;}#sk-container-id-2 input.sk-toggleable__control:checked~label.sk-toggleable__label-arrow:before {content: \"▾\";}#sk-container-id-2 div.sk-estimator input.sk-toggleable__control:checked~label.sk-toggleable__label {background-color: #d4ebff;}#sk-container-id-2 div.sk-label input.sk-toggleable__control:checked~label.sk-toggleable__label {background-color: #d4ebff;}#sk-container-id-2 input.sk-hidden--visually {border: 0;clip: rect(1px 1px 1px 1px);clip: rect(1px, 1px, 1px, 1px);height: 1px;margin: -1px;overflow: hidden;padding: 0;position: absolute;width: 1px;}#sk-container-id-2 div.sk-estimator {font-family: monospace;background-color: #f0f8ff;border: 1px dotted black;border-radius: 0.25em;box-sizing: border-box;margin-bottom: 0.5em;}#sk-container-id-2 div.sk-estimator:hover {background-color: #d4ebff;}#sk-container-id-2 div.sk-parallel-item::after {content: \"\";width: 100%;border-bottom: 1px solid gray;flex-grow: 1;}#sk-container-id-2 div.sk-label:hover label.sk-toggleable__label {background-color: #d4ebff;}#sk-container-id-2 div.sk-serial::before {content: \"\";position: absolute;border-left: 1px solid gray;box-sizing: border-box;top: 0;bottom: 0;left: 50%;z-index: 0;}#sk-container-id-2 div.sk-serial {display: flex;flex-direction: column;align-items: center;background-color: white;padding-right: 0.2em;padding-left: 0.2em;position: relative;}#sk-container-id-2 div.sk-item {position: relative;z-index: 1;}#sk-container-id-2 div.sk-parallel {display: flex;align-items: stretch;justify-content: center;background-color: white;position: relative;}#sk-container-id-2 div.sk-item::before, #sk-container-id-2 div.sk-parallel-item::before {content: \"\";position: absolute;border-left: 1px solid gray;box-sizing: border-box;top: 0;bottom: 0;left: 50%;z-index: -1;}#sk-container-id-2 div.sk-parallel-item {display: flex;flex-direction: column;z-index: 1;position: relative;background-color: white;}#sk-container-id-2 div.sk-parallel-item:first-child::after {align-self: flex-end;width: 50%;}#sk-container-id-2 div.sk-parallel-item:last-child::after {align-self: flex-start;width: 50%;}#sk-container-id-2 div.sk-parallel-item:only-child::after {width: 0;}#sk-container-id-2 div.sk-dashed-wrapped {border: 1px dashed gray;margin: 0 0.4em 0.5em 0.4em;box-sizing: border-box;padding-bottom: 0.4em;background-color: white;}#sk-container-id-2 div.sk-label label {font-family: monospace;font-weight: bold;display: inline-block;line-height: 1.2em;}#sk-container-id-2 div.sk-label-container {text-align: center;}#sk-container-id-2 div.sk-container {/* jupyter's `normalize.less` sets `[hidden] { display: none; }` but bootstrap.min.css set `[hidden] { display: none !important; }` so we also need the `!important` here to be able to override the default hidden behavior on the sphinx rendered scikit-learn.org. See: https://github.com/scikit-learn/scikit-learn/issues/21755 */display: inline-block !important;position: relative;}#sk-container-id-2 div.sk-text-repr-fallback {display: none;}</style><div id=\"sk-container-id-2\" class=\"sk-top-container\"><div class=\"sk-text-repr-fallback\"><pre>RandomizedSearchCV(cv=5,\n",
              "                   estimator=RandomForestClassifier(n_jobs=-1, random_state=24),\n",
              "                   param_distributions={&#x27;class_weight&#x27;: [None, &#x27;balanced&#x27;,\n",
              "                                                         {0: 1, 1: 2}],\n",
              "                                        &#x27;criterion&#x27;: [&#x27;gini&#x27;, &#x27;entropy&#x27;,\n",
              "                                                      &#x27;log_loss&#x27;],\n",
              "                                        &#x27;max_depth&#x27;: [20, 10, 15, 5, None],\n",
              "                                        &#x27;max_features&#x27;: [&#x27;sqrt&#x27;, &#x27;log2&#x27;, None],\n",
              "                                        &#x27;max_samples&#x27;: [None, 0.5, 0.7, 0.9],\n",
              "                                        &#x27;min_samples_leaf&#x27;: [3, 7, 9, 10, 12],\n",
              "                                        &#x27;min_samples_split&#x27;: [3, 7, 9, 10, 12],\n",
              "                                        &#x27;n_estimators&#x27;: [20, 40, 60, 80, 68, 70,\n",
              "                                                         90, 110]},\n",
              "                   random_state=24, scoring=&#x27;f1&#x27;)</pre><b>In a Jupyter environment, please rerun this cell to show the HTML representation or trust the notebook. <br />On GitHub, the HTML representation is unable to render, please try loading this page with nbviewer.org.</b></div><div class=\"sk-container\" hidden><div class=\"sk-item sk-dashed-wrapped\"><div class=\"sk-label-container\"><div class=\"sk-label sk-toggleable\"><input class=\"sk-toggleable__control sk-hidden--visually\" id=\"sk-estimator-id-2\" type=\"checkbox\" ><label for=\"sk-estimator-id-2\" class=\"sk-toggleable__label sk-toggleable__label-arrow\">RandomizedSearchCV</label><div class=\"sk-toggleable__content\"><pre>RandomizedSearchCV(cv=5,\n",
              "                   estimator=RandomForestClassifier(n_jobs=-1, random_state=24),\n",
              "                   param_distributions={&#x27;class_weight&#x27;: [None, &#x27;balanced&#x27;,\n",
              "                                                         {0: 1, 1: 2}],\n",
              "                                        &#x27;criterion&#x27;: [&#x27;gini&#x27;, &#x27;entropy&#x27;,\n",
              "                                                      &#x27;log_loss&#x27;],\n",
              "                                        &#x27;max_depth&#x27;: [20, 10, 15, 5, None],\n",
              "                                        &#x27;max_features&#x27;: [&#x27;sqrt&#x27;, &#x27;log2&#x27;, None],\n",
              "                                        &#x27;max_samples&#x27;: [None, 0.5, 0.7, 0.9],\n",
              "                                        &#x27;min_samples_leaf&#x27;: [3, 7, 9, 10, 12],\n",
              "                                        &#x27;min_samples_split&#x27;: [3, 7, 9, 10, 12],\n",
              "                                        &#x27;n_estimators&#x27;: [20, 40, 60, 80, 68, 70,\n",
              "                                                         90, 110]},\n",
              "                   random_state=24, scoring=&#x27;f1&#x27;)</pre></div></div></div><div class=\"sk-parallel\"><div class=\"sk-parallel-item\"><div class=\"sk-item\"><div class=\"sk-label-container\"><div class=\"sk-label sk-toggleable\"><input class=\"sk-toggleable__control sk-hidden--visually\" id=\"sk-estimator-id-3\" type=\"checkbox\" ><label for=\"sk-estimator-id-3\" class=\"sk-toggleable__label sk-toggleable__label-arrow\">estimator: RandomForestClassifier</label><div class=\"sk-toggleable__content\"><pre>RandomForestClassifier(n_jobs=-1, random_state=24)</pre></div></div></div><div class=\"sk-serial\"><div class=\"sk-item\"><div class=\"sk-estimator sk-toggleable\"><input class=\"sk-toggleable__control sk-hidden--visually\" id=\"sk-estimator-id-4\" type=\"checkbox\" ><label for=\"sk-estimator-id-4\" class=\"sk-toggleable__label sk-toggleable__label-arrow\">RandomForestClassifier</label><div class=\"sk-toggleable__content\"><pre>RandomForestClassifier(n_jobs=-1, random_state=24)</pre></div></div></div></div></div></div></div></div></div></div>"
            ]
          },
          "metadata": {},
          "execution_count": 65
        }
      ],
      "source": [
        "random_search = RandomizedSearchCV(random_forest2, param_distributions=param_dist, n_iter=10, cv=5, scoring='f1', random_state=RANDOM_STATE)\n",
        "\n",
        "random_search.fit(x_train, y_train)"
      ]
    },
    {
      "cell_type": "code",
      "execution_count": null,
      "metadata": {
        "id": "t0k9j1QlK9Go",
        "colab": {
          "base_uri": "https://localhost:8080/"
        },
        "outputId": "94e34fc9-fada-42d3-c68b-69ede38838e3"
      },
      "outputs": [
        {
          "output_type": "execute_result",
          "data": {
            "text/plain": [
              "0.8875645876850277"
            ]
          },
          "metadata": {},
          "execution_count": 66
        }
      ],
      "source": [
        "random_search.best_score_"
      ]
    },
    {
      "cell_type": "code",
      "execution_count": null,
      "metadata": {
        "id": "4h9KAsG5Bc03",
        "colab": {
          "base_uri": "https://localhost:8080/"
        },
        "outputId": "b2c8bc02-b2d4-42d5-c9ff-f979fc0e4d90"
      },
      "outputs": [
        {
          "output_type": "execute_result",
          "data": {
            "text/plain": [
              "{'n_estimators': 68,\n",
              " 'min_samples_split': 9,\n",
              " 'min_samples_leaf': 9,\n",
              " 'max_samples': None,\n",
              " 'max_features': None,\n",
              " 'max_depth': 15,\n",
              " 'criterion': 'gini',\n",
              " 'class_weight': None}"
            ]
          },
          "metadata": {},
          "execution_count": 67
        }
      ],
      "source": [
        "random_search.best_params_"
      ]
    },
    {
      "cell_type": "code",
      "execution_count": null,
      "metadata": {
        "id": "lgzvsJzBWq9R"
      },
      "outputs": [],
      "source": [
        "random_forest_rs = random_search.best_estimator_"
      ]
    },
    {
      "cell_type": "code",
      "execution_count": null,
      "metadata": {
        "id": "-VSGHBIbh6qC"
      },
      "outputs": [],
      "source": [
        "pred = random_forest_rs.predict(x_valid)"
      ]
    },
    {
      "cell_type": "code",
      "execution_count": null,
      "metadata": {
        "id": "3Wto2yZBfnve",
        "colab": {
          "base_uri": "https://localhost:8080/"
        },
        "outputId": "a6b5b784-ef5a-422a-fbe5-861990d76f05"
      },
      "outputs": [
        {
          "output_type": "execute_result",
          "data": {
            "text/plain": [
              "0.7245142981881685"
            ]
          },
          "metadata": {},
          "execution_count": 70
        }
      ],
      "source": [
        "f1_score(y_valid, pred)"
      ]
    },
    {
      "cell_type": "code",
      "source": [
        "print(classification_report(y_valid, pred))"
      ],
      "metadata": {
        "colab": {
          "base_uri": "https://localhost:8080/"
        },
        "id": "c3AmOEVK7qwF",
        "outputId": "94652691-6a62-410b-bd4f-217f03876ab1"
      },
      "execution_count": null,
      "outputs": [
        {
          "output_type": "stream",
          "name": "stdout",
          "text": [
            "              precision    recall  f1-score   support\n",
            "\n",
            "           0       0.99      0.99      0.99    173481\n",
            "           1       0.75      0.70      0.72      4728\n",
            "\n",
            "    accuracy                           0.99    178209\n",
            "   macro avg       0.87      0.85      0.86    178209\n",
            "weighted avg       0.99      0.99      0.99    178209\n",
            "\n"
          ]
        }
      ]
    },
    {
      "cell_type": "markdown",
      "metadata": {
        "id": "hfDeFjGS1k6K"
      },
      "source": [
        "# Test Kaggle"
      ]
    },
    {
      "cell_type": "code",
      "execution_count": null,
      "metadata": {
        "id": "WgikEWrP2C2Q"
      },
      "outputs": [],
      "source": [
        "test = pd.read_parquet(\"/content/drive/MyDrive/dataset_v2/test.parq\")"
      ]
    },
    {
      "cell_type": "code",
      "execution_count": null,
      "metadata": {
        "id": "oip5xRG92YSj"
      },
      "outputs": [],
      "source": [
        "test.drop([\"attack_time\",\"watcher_as_num\", \"watcher_uuid_enum\",\"attacker_as_num\", \"watcher_as_name\"],axis = 1,inplace = True)"
      ]
    },
    {
      "cell_type": "code",
      "execution_count": null,
      "metadata": {
        "id": "3qB1WFcuM6Ji"
      },
      "outputs": [],
      "source": [
        "test.drop_duplicates(\"attacker_ip_enum\", inplace = True)"
      ]
    },
    {
      "cell_type": "code",
      "execution_count": null,
      "metadata": {
        "id": "TJF72fI_1NMW"
      },
      "outputs": [],
      "source": [
        "test[\"attacker_as_name\"] = test[\"attacker_as_name\"].map(lambda x: x.lower())"
      ]
    },
    {
      "cell_type": "markdown",
      "metadata": {
        "id": "5UNC8ZD27kee"
      },
      "source": [
        "## INFO DF"
      ]
    },
    {
      "cell_type": "code",
      "execution_count": null,
      "metadata": {
        "colab": {
          "base_uri": "https://localhost:8080/"
        },
        "id": "mEKYvE-m2fZ9",
        "outputId": "6e409336-c4b3-4e7c-fdbb-b10a2d4a05df"
      },
      "outputs": [
        {
          "output_type": "execute_result",
          "data": {
            "text/plain": [
              "watcher_country     1.671388\n",
              "attacker_country    0.048563\n",
              "attacker_as_name    0.074868\n",
              "attack_type         0.000000\n",
              "attacker_ip_enum    0.000000\n",
              "dtype: float64"
            ]
          },
          "metadata": {},
          "execution_count": 99
        }
      ],
      "source": [
        "test.isna().sum()/test.shape[0] * 100"
      ]
    },
    {
      "cell_type": "code",
      "execution_count": null,
      "metadata": {
        "id": "B-rMGPR1SI2E"
      },
      "outputs": [],
      "source": [
        "test[\"attacker_as_name\"].fillna(\"unknown\", inplace = True)\n",
        "\n",
        "test[\"watcher_country\"] = test[\"watcher_country\"].cat.add_categories(\"unknown\")\n",
        "test[\"watcher_country\"].fillna(\"unknown\", inplace = True)\n",
        "\n",
        "test[\"attacker_country\"] = test[\"attacker_country\"].cat.add_categories(\"unknown\")\n",
        "test[\"attacker_country\"].fillna(\"unknown\", inplace = True)"
      ]
    },
    {
      "cell_type": "code",
      "execution_count": null,
      "metadata": {
        "colab": {
          "base_uri": "https://localhost:8080/"
        },
        "id": "ro6BYQ-9SQci",
        "outputId": "1aad67ed-c53e-411c-d83a-c0a42b1d77da"
      },
      "outputs": [
        {
          "output_type": "execute_result",
          "data": {
            "text/plain": [
              "watcher_country     0.0\n",
              "attacker_country    0.0\n",
              "attacker_as_name    0.0\n",
              "attack_type         0.0\n",
              "attacker_ip_enum    0.0\n",
              "dtype: float64"
            ]
          },
          "metadata": {},
          "execution_count": 101
        }
      ],
      "source": [
        "test.isna().sum()/test.shape[0] * 100"
      ]
    },
    {
      "cell_type": "markdown",
      "metadata": {
        "id": "bI5e_TjR7msI"
      },
      "source": [
        "##  Test"
      ]
    },
    {
      "cell_type": "markdown",
      "source": [
        "concatenate countries"
      ],
      "metadata": {
        "id": "oMdTYwtBe9VM"
      }
    },
    {
      "cell_type": "code",
      "source": [
        "test[\"Countries\"] = test[\"watcher_country\"].astype(str) + \"-\" + test[\"attacker_country\"].astype(str)"
      ],
      "metadata": {
        "id": "bIGbU6supL9R"
      },
      "execution_count": null,
      "outputs": []
    },
    {
      "cell_type": "code",
      "source": [
        "test.drop([\"watcher_country\",\"attacker_country\"], axis = 1, inplace = True)"
      ],
      "metadata": {
        "id": "LqdKwf86pL9T"
      },
      "execution_count": null,
      "outputs": []
    },
    {
      "cell_type": "markdown",
      "source": [
        "ports and protocol"
      ],
      "metadata": {
        "id": "IN7-CsoYpaUH"
      }
    },
    {
      "cell_type": "code",
      "execution_count": null,
      "metadata": {
        "id": "pyqGHcLr2vsC"
      },
      "outputs": [],
      "source": [
        "test = test.merge(Shodan[[\"attacker_ip_enum\",\"port\"]], on = \"attacker_ip_enum\", how = \"left\")\n",
        "test = test.merge(protocol, on = \"attacker_ip_enum\", how = \"left\")"
      ]
    },
    {
      "cell_type": "markdown",
      "metadata": {
        "id": "M8M50zCX2vsD"
      },
      "source": [
        "attack_type"
      ]
    },
    {
      "cell_type": "code",
      "execution_count": null,
      "metadata": {
        "id": "X4rTc1Bf2vsD"
      },
      "outputs": [],
      "source": [
        "test[\"service\"] = test[\"attack_type\"].map(lambda x: x.split(\":\")[0])\n",
        "test.drop(\"attack_type\",axis = 1, inplace = True)"
      ]
    },
    {
      "cell_type": "markdown",
      "metadata": {
        "id": "ewxW5nsgeGnT"
      },
      "source": [
        "attack_as_name vs ports"
      ]
    },
    {
      "cell_type": "code",
      "execution_count": null,
      "metadata": {
        "id": "pb8hDehHeGnU"
      },
      "outputs": [],
      "source": [
        "test[\"att_as_name_vs_ports\"] = test[\"attacker_as_name\"].apply(lambda x: [str(x)]) + test[\"port\"].apply(list)"
      ]
    },
    {
      "cell_type": "code",
      "execution_count": null,
      "metadata": {
        "id": "B9Chgwa6eGnU"
      },
      "outputs": [],
      "source": [
        "test[\"att_as_name_vs_ports\"] = test[\"att_as_name_vs_ports\"].map(lambda x: max_mean_att_ports(x))"
      ]
    },
    {
      "cell_type": "code",
      "execution_count": null,
      "metadata": {
        "id": "u3CDnLHTeGnU"
      },
      "outputs": [],
      "source": [
        "test.drop([\"attacker_as_name\"], axis = 1, inplace = True)"
      ]
    },
    {
      "cell_type": "markdown",
      "metadata": {
        "id": "wahLerlyepf9"
      },
      "source": [
        "ports mean"
      ]
    },
    {
      "cell_type": "code",
      "execution_count": null,
      "metadata": {
        "id": "uVbRWLBierHB"
      },
      "outputs": [],
      "source": [
        "test[\"port\"] = test[\"port\"].map(lambda x: mean_ports(x))"
      ]
    },
    {
      "cell_type": "markdown",
      "source": [
        "drop attacker_ip_enum"
      ],
      "metadata": {
        "id": "3ziIAmlJiPfC"
      }
    },
    {
      "cell_type": "code",
      "execution_count": null,
      "metadata": {
        "id": "nqUOpNDP58R_"
      },
      "outputs": [],
      "source": [
        "testIP = test['attacker_ip_enum']\n",
        "test.drop(\"attacker_ip_enum\", axis = 1, inplace = True)"
      ]
    },
    {
      "cell_type": "markdown",
      "source": [
        "binary column"
      ],
      "metadata": {
        "id": "gOgwMe5KiSBR"
      }
    },
    {
      "cell_type": "code",
      "source": [
        "test = encoder.transform(test)"
      ],
      "metadata": {
        "id": "0M02pGySh4tK"
      },
      "execution_count": null,
      "outputs": []
    },
    {
      "cell_type": "markdown",
      "metadata": {
        "id": "DJzKWB6G54pw"
      },
      "source": [
        "## OHE service"
      ]
    },
    {
      "cell_type": "code",
      "execution_count": null,
      "metadata": {
        "id": "zoFWRZkb66UO"
      },
      "outputs": [],
      "source": [
        "encoded_service = ohe_service.transform(test[[\"service\"]]).toarray()\n",
        "\n",
        "test.drop(\"service\", inplace = True, axis = 1)\n",
        "test[ohe_service.categories_[0][1:]] = encoded_service"
      ]
    },
    {
      "cell_type": "code",
      "source": [
        "test"
      ],
      "metadata": {
        "colab": {
          "base_uri": "https://localhost:8080/",
          "height": 423
        },
        "id": "tN8hvVIkhvll",
        "outputId": "530ea85e-240b-4f24-846f-067b63478a2e"
      },
      "execution_count": null,
      "outputs": [
        {
          "output_type": "execute_result",
          "data": {
            "text/plain": [
              "       Countries_0  Countries_1  Countries_2  Countries_3  Countries_4  \\\n",
              "0                0            0            0            0            0   \n",
              "1                0            0            0            0            0   \n",
              "2                0            0            0            0            0   \n",
              "3                0            0            0            0            0   \n",
              "4                0            0            0            0            0   \n",
              "...            ...          ...          ...          ...          ...   \n",
              "49415            0            0            0            0            0   \n",
              "49416            0            0            0            0            0   \n",
              "49417            0            0            0            0            1   \n",
              "49418            0            0            0            0            0   \n",
              "49419            0            0            0            0            0   \n",
              "\n",
              "       Countries_5  Countries_6  Countries_7  Countries_8  Countries_9  ...  \\\n",
              "0                0            0            1            0            0  ...   \n",
              "1                0            0            0            0            0  ...   \n",
              "2                0            0            0            1            0  ...   \n",
              "3                1            0            0            1            1  ...   \n",
              "4                0            0            1            1            1  ...   \n",
              "...            ...          ...          ...          ...          ...  ...   \n",
              "49415            0            1            1            0            1  ...   \n",
              "49416            0            0            0            0            1  ...   \n",
              "49417            0            1            0            1            0  ...   \n",
              "49418            0            0            0            0            0  ...   \n",
              "49419            0            0            0            0            0  ...   \n",
              "\n",
              "       udp  att_as_name_vs_ports  ftp  http  pop3/imap  sip  smb  ssh  telnet  \\\n",
              "0      0.0              0.084354  0.0   1.0        0.0  0.0  0.0  0.0     0.0   \n",
              "1      0.0              0.000000  0.0   1.0        0.0  0.0  0.0  0.0     0.0   \n",
              "2      0.0              0.000000  0.0   1.0        0.0  0.0  0.0  0.0     0.0   \n",
              "3      0.0              0.000000  0.0   0.0        1.0  0.0  0.0  0.0     0.0   \n",
              "4      1.0              0.000000  0.0   1.0        0.0  0.0  0.0  0.0     0.0   \n",
              "...    ...                   ...  ...   ...        ...  ...  ...  ...     ...   \n",
              "49415  0.0              0.000000  0.0   0.0        0.0  0.0  0.0  0.0     0.0   \n",
              "49416  1.0              0.000000  0.0   1.0        0.0  0.0  0.0  0.0     0.0   \n",
              "49417  1.0              0.000000  0.0   1.0        0.0  0.0  0.0  0.0     0.0   \n",
              "49418  1.0              0.000000  0.0   1.0        0.0  0.0  0.0  0.0     0.0   \n",
              "49419  0.0              0.000000  0.0   1.0        0.0  0.0  0.0  0.0     0.0   \n",
              "\n",
              "       windows  \n",
              "0          0.0  \n",
              "1          0.0  \n",
              "2          0.0  \n",
              "3          0.0  \n",
              "4          0.0  \n",
              "...        ...  \n",
              "49415      1.0  \n",
              "49416      0.0  \n",
              "49417      0.0  \n",
              "49418      0.0  \n",
              "49419      0.0  \n",
              "\n",
              "[49420 rows x 27 columns]"
            ],
            "text/html": [
              "\n",
              "  <div id=\"df-66a75cfa-0d45-4116-a209-c6ba76682764\" class=\"colab-df-container\">\n",
              "    <div>\n",
              "<style scoped>\n",
              "    .dataframe tbody tr th:only-of-type {\n",
              "        vertical-align: middle;\n",
              "    }\n",
              "\n",
              "    .dataframe tbody tr th {\n",
              "        vertical-align: top;\n",
              "    }\n",
              "\n",
              "    .dataframe thead th {\n",
              "        text-align: right;\n",
              "    }\n",
              "</style>\n",
              "<table border=\"1\" class=\"dataframe\">\n",
              "  <thead>\n",
              "    <tr style=\"text-align: right;\">\n",
              "      <th></th>\n",
              "      <th>Countries_0</th>\n",
              "      <th>Countries_1</th>\n",
              "      <th>Countries_2</th>\n",
              "      <th>Countries_3</th>\n",
              "      <th>Countries_4</th>\n",
              "      <th>Countries_5</th>\n",
              "      <th>Countries_6</th>\n",
              "      <th>Countries_7</th>\n",
              "      <th>Countries_8</th>\n",
              "      <th>Countries_9</th>\n",
              "      <th>...</th>\n",
              "      <th>udp</th>\n",
              "      <th>att_as_name_vs_ports</th>\n",
              "      <th>ftp</th>\n",
              "      <th>http</th>\n",
              "      <th>pop3/imap</th>\n",
              "      <th>sip</th>\n",
              "      <th>smb</th>\n",
              "      <th>ssh</th>\n",
              "      <th>telnet</th>\n",
              "      <th>windows</th>\n",
              "    </tr>\n",
              "  </thead>\n",
              "  <tbody>\n",
              "    <tr>\n",
              "      <th>0</th>\n",
              "      <td>0</td>\n",
              "      <td>0</td>\n",
              "      <td>0</td>\n",
              "      <td>0</td>\n",
              "      <td>0</td>\n",
              "      <td>0</td>\n",
              "      <td>0</td>\n",
              "      <td>1</td>\n",
              "      <td>0</td>\n",
              "      <td>0</td>\n",
              "      <td>...</td>\n",
              "      <td>0.0</td>\n",
              "      <td>0.084354</td>\n",
              "      <td>0.0</td>\n",
              "      <td>1.0</td>\n",
              "      <td>0.0</td>\n",
              "      <td>0.0</td>\n",
              "      <td>0.0</td>\n",
              "      <td>0.0</td>\n",
              "      <td>0.0</td>\n",
              "      <td>0.0</td>\n",
              "    </tr>\n",
              "    <tr>\n",
              "      <th>1</th>\n",
              "      <td>0</td>\n",
              "      <td>0</td>\n",
              "      <td>0</td>\n",
              "      <td>0</td>\n",
              "      <td>0</td>\n",
              "      <td>0</td>\n",
              "      <td>0</td>\n",
              "      <td>0</td>\n",
              "      <td>0</td>\n",
              "      <td>0</td>\n",
              "      <td>...</td>\n",
              "      <td>0.0</td>\n",
              "      <td>0.000000</td>\n",
              "      <td>0.0</td>\n",
              "      <td>1.0</td>\n",
              "      <td>0.0</td>\n",
              "      <td>0.0</td>\n",
              "      <td>0.0</td>\n",
              "      <td>0.0</td>\n",
              "      <td>0.0</td>\n",
              "      <td>0.0</td>\n",
              "    </tr>\n",
              "    <tr>\n",
              "      <th>2</th>\n",
              "      <td>0</td>\n",
              "      <td>0</td>\n",
              "      <td>0</td>\n",
              "      <td>0</td>\n",
              "      <td>0</td>\n",
              "      <td>0</td>\n",
              "      <td>0</td>\n",
              "      <td>0</td>\n",
              "      <td>1</td>\n",
              "      <td>0</td>\n",
              "      <td>...</td>\n",
              "      <td>0.0</td>\n",
              "      <td>0.000000</td>\n",
              "      <td>0.0</td>\n",
              "      <td>1.0</td>\n",
              "      <td>0.0</td>\n",
              "      <td>0.0</td>\n",
              "      <td>0.0</td>\n",
              "      <td>0.0</td>\n",
              "      <td>0.0</td>\n",
              "      <td>0.0</td>\n",
              "    </tr>\n",
              "    <tr>\n",
              "      <th>3</th>\n",
              "      <td>0</td>\n",
              "      <td>0</td>\n",
              "      <td>0</td>\n",
              "      <td>0</td>\n",
              "      <td>0</td>\n",
              "      <td>1</td>\n",
              "      <td>0</td>\n",
              "      <td>0</td>\n",
              "      <td>1</td>\n",
              "      <td>1</td>\n",
              "      <td>...</td>\n",
              "      <td>0.0</td>\n",
              "      <td>0.000000</td>\n",
              "      <td>0.0</td>\n",
              "      <td>0.0</td>\n",
              "      <td>1.0</td>\n",
              "      <td>0.0</td>\n",
              "      <td>0.0</td>\n",
              "      <td>0.0</td>\n",
              "      <td>0.0</td>\n",
              "      <td>0.0</td>\n",
              "    </tr>\n",
              "    <tr>\n",
              "      <th>4</th>\n",
              "      <td>0</td>\n",
              "      <td>0</td>\n",
              "      <td>0</td>\n",
              "      <td>0</td>\n",
              "      <td>0</td>\n",
              "      <td>0</td>\n",
              "      <td>0</td>\n",
              "      <td>1</td>\n",
              "      <td>1</td>\n",
              "      <td>1</td>\n",
              "      <td>...</td>\n",
              "      <td>1.0</td>\n",
              "      <td>0.000000</td>\n",
              "      <td>0.0</td>\n",
              "      <td>1.0</td>\n",
              "      <td>0.0</td>\n",
              "      <td>0.0</td>\n",
              "      <td>0.0</td>\n",
              "      <td>0.0</td>\n",
              "      <td>0.0</td>\n",
              "      <td>0.0</td>\n",
              "    </tr>\n",
              "    <tr>\n",
              "      <th>...</th>\n",
              "      <td>...</td>\n",
              "      <td>...</td>\n",
              "      <td>...</td>\n",
              "      <td>...</td>\n",
              "      <td>...</td>\n",
              "      <td>...</td>\n",
              "      <td>...</td>\n",
              "      <td>...</td>\n",
              "      <td>...</td>\n",
              "      <td>...</td>\n",
              "      <td>...</td>\n",
              "      <td>...</td>\n",
              "      <td>...</td>\n",
              "      <td>...</td>\n",
              "      <td>...</td>\n",
              "      <td>...</td>\n",
              "      <td>...</td>\n",
              "      <td>...</td>\n",
              "      <td>...</td>\n",
              "      <td>...</td>\n",
              "      <td>...</td>\n",
              "    </tr>\n",
              "    <tr>\n",
              "      <th>49415</th>\n",
              "      <td>0</td>\n",
              "      <td>0</td>\n",
              "      <td>0</td>\n",
              "      <td>0</td>\n",
              "      <td>0</td>\n",
              "      <td>0</td>\n",
              "      <td>1</td>\n",
              "      <td>1</td>\n",
              "      <td>0</td>\n",
              "      <td>1</td>\n",
              "      <td>...</td>\n",
              "      <td>0.0</td>\n",
              "      <td>0.000000</td>\n",
              "      <td>0.0</td>\n",
              "      <td>0.0</td>\n",
              "      <td>0.0</td>\n",
              "      <td>0.0</td>\n",
              "      <td>0.0</td>\n",
              "      <td>0.0</td>\n",
              "      <td>0.0</td>\n",
              "      <td>1.0</td>\n",
              "    </tr>\n",
              "    <tr>\n",
              "      <th>49416</th>\n",
              "      <td>0</td>\n",
              "      <td>0</td>\n",
              "      <td>0</td>\n",
              "      <td>0</td>\n",
              "      <td>0</td>\n",
              "      <td>0</td>\n",
              "      <td>0</td>\n",
              "      <td>0</td>\n",
              "      <td>0</td>\n",
              "      <td>1</td>\n",
              "      <td>...</td>\n",
              "      <td>1.0</td>\n",
              "      <td>0.000000</td>\n",
              "      <td>0.0</td>\n",
              "      <td>1.0</td>\n",
              "      <td>0.0</td>\n",
              "      <td>0.0</td>\n",
              "      <td>0.0</td>\n",
              "      <td>0.0</td>\n",
              "      <td>0.0</td>\n",
              "      <td>0.0</td>\n",
              "    </tr>\n",
              "    <tr>\n",
              "      <th>49417</th>\n",
              "      <td>0</td>\n",
              "      <td>0</td>\n",
              "      <td>0</td>\n",
              "      <td>0</td>\n",
              "      <td>1</td>\n",
              "      <td>0</td>\n",
              "      <td>1</td>\n",
              "      <td>0</td>\n",
              "      <td>1</td>\n",
              "      <td>0</td>\n",
              "      <td>...</td>\n",
              "      <td>1.0</td>\n",
              "      <td>0.000000</td>\n",
              "      <td>0.0</td>\n",
              "      <td>1.0</td>\n",
              "      <td>0.0</td>\n",
              "      <td>0.0</td>\n",
              "      <td>0.0</td>\n",
              "      <td>0.0</td>\n",
              "      <td>0.0</td>\n",
              "      <td>0.0</td>\n",
              "    </tr>\n",
              "    <tr>\n",
              "      <th>49418</th>\n",
              "      <td>0</td>\n",
              "      <td>0</td>\n",
              "      <td>0</td>\n",
              "      <td>0</td>\n",
              "      <td>0</td>\n",
              "      <td>0</td>\n",
              "      <td>0</td>\n",
              "      <td>0</td>\n",
              "      <td>0</td>\n",
              "      <td>0</td>\n",
              "      <td>...</td>\n",
              "      <td>1.0</td>\n",
              "      <td>0.000000</td>\n",
              "      <td>0.0</td>\n",
              "      <td>1.0</td>\n",
              "      <td>0.0</td>\n",
              "      <td>0.0</td>\n",
              "      <td>0.0</td>\n",
              "      <td>0.0</td>\n",
              "      <td>0.0</td>\n",
              "      <td>0.0</td>\n",
              "    </tr>\n",
              "    <tr>\n",
              "      <th>49419</th>\n",
              "      <td>0</td>\n",
              "      <td>0</td>\n",
              "      <td>0</td>\n",
              "      <td>0</td>\n",
              "      <td>0</td>\n",
              "      <td>0</td>\n",
              "      <td>0</td>\n",
              "      <td>0</td>\n",
              "      <td>0</td>\n",
              "      <td>0</td>\n",
              "      <td>...</td>\n",
              "      <td>0.0</td>\n",
              "      <td>0.000000</td>\n",
              "      <td>0.0</td>\n",
              "      <td>1.0</td>\n",
              "      <td>0.0</td>\n",
              "      <td>0.0</td>\n",
              "      <td>0.0</td>\n",
              "      <td>0.0</td>\n",
              "      <td>0.0</td>\n",
              "      <td>0.0</td>\n",
              "    </tr>\n",
              "  </tbody>\n",
              "</table>\n",
              "<p>49420 rows × 27 columns</p>\n",
              "</div>\n",
              "    <div class=\"colab-df-buttons\">\n",
              "\n",
              "  <div class=\"colab-df-container\">\n",
              "    <button class=\"colab-df-convert\" onclick=\"convertToInteractive('df-66a75cfa-0d45-4116-a209-c6ba76682764')\"\n",
              "            title=\"Convert this dataframe to an interactive table.\"\n",
              "            style=\"display:none;\">\n",
              "\n",
              "  <svg xmlns=\"http://www.w3.org/2000/svg\" height=\"24px\" viewBox=\"0 -960 960 960\">\n",
              "    <path d=\"M120-120v-720h720v720H120Zm60-500h600v-160H180v160Zm220 220h160v-160H400v160Zm0 220h160v-160H400v160ZM180-400h160v-160H180v160Zm440 0h160v-160H620v160ZM180-180h160v-160H180v160Zm440 0h160v-160H620v160Z\"/>\n",
              "  </svg>\n",
              "    </button>\n",
              "\n",
              "  <style>\n",
              "    .colab-df-container {\n",
              "      display:flex;\n",
              "      gap: 12px;\n",
              "    }\n",
              "\n",
              "    .colab-df-convert {\n",
              "      background-color: #E8F0FE;\n",
              "      border: none;\n",
              "      border-radius: 50%;\n",
              "      cursor: pointer;\n",
              "      display: none;\n",
              "      fill: #1967D2;\n",
              "      height: 32px;\n",
              "      padding: 0 0 0 0;\n",
              "      width: 32px;\n",
              "    }\n",
              "\n",
              "    .colab-df-convert:hover {\n",
              "      background-color: #E2EBFA;\n",
              "      box-shadow: 0px 1px 2px rgba(60, 64, 67, 0.3), 0px 1px 3px 1px rgba(60, 64, 67, 0.15);\n",
              "      fill: #174EA6;\n",
              "    }\n",
              "\n",
              "    .colab-df-buttons div {\n",
              "      margin-bottom: 4px;\n",
              "    }\n",
              "\n",
              "    [theme=dark] .colab-df-convert {\n",
              "      background-color: #3B4455;\n",
              "      fill: #D2E3FC;\n",
              "    }\n",
              "\n",
              "    [theme=dark] .colab-df-convert:hover {\n",
              "      background-color: #434B5C;\n",
              "      box-shadow: 0px 1px 3px 1px rgba(0, 0, 0, 0.15);\n",
              "      filter: drop-shadow(0px 1px 2px rgba(0, 0, 0, 0.3));\n",
              "      fill: #FFFFFF;\n",
              "    }\n",
              "  </style>\n",
              "\n",
              "    <script>\n",
              "      const buttonEl =\n",
              "        document.querySelector('#df-66a75cfa-0d45-4116-a209-c6ba76682764 button.colab-df-convert');\n",
              "      buttonEl.style.display =\n",
              "        google.colab.kernel.accessAllowed ? 'block' : 'none';\n",
              "\n",
              "      async function convertToInteractive(key) {\n",
              "        const element = document.querySelector('#df-66a75cfa-0d45-4116-a209-c6ba76682764');\n",
              "        const dataTable =\n",
              "          await google.colab.kernel.invokeFunction('convertToInteractive',\n",
              "                                                    [key], {});\n",
              "        if (!dataTable) return;\n",
              "\n",
              "        const docLinkHtml = 'Like what you see? Visit the ' +\n",
              "          '<a target=\"_blank\" href=https://colab.research.google.com/notebooks/data_table.ipynb>data table notebook</a>'\n",
              "          + ' to learn more about interactive tables.';\n",
              "        element.innerHTML = '';\n",
              "        dataTable['output_type'] = 'display_data';\n",
              "        await google.colab.output.renderOutput(dataTable, element);\n",
              "        const docLink = document.createElement('div');\n",
              "        docLink.innerHTML = docLinkHtml;\n",
              "        element.appendChild(docLink);\n",
              "      }\n",
              "    </script>\n",
              "  </div>\n",
              "\n",
              "\n",
              "<div id=\"df-9d8b308d-a44d-4682-b770-50f1a780af5d\">\n",
              "  <button class=\"colab-df-quickchart\" onclick=\"quickchart('df-9d8b308d-a44d-4682-b770-50f1a780af5d')\"\n",
              "            title=\"Suggest charts\"\n",
              "            style=\"display:none;\">\n",
              "\n",
              "<svg xmlns=\"http://www.w3.org/2000/svg\" height=\"24px\"viewBox=\"0 0 24 24\"\n",
              "     width=\"24px\">\n",
              "    <g>\n",
              "        <path d=\"M19 3H5c-1.1 0-2 .9-2 2v14c0 1.1.9 2 2 2h14c1.1 0 2-.9 2-2V5c0-1.1-.9-2-2-2zM9 17H7v-7h2v7zm4 0h-2V7h2v10zm4 0h-2v-4h2v4z\"/>\n",
              "    </g>\n",
              "</svg>\n",
              "  </button>\n",
              "\n",
              "<style>\n",
              "  .colab-df-quickchart {\n",
              "      --bg-color: #E8F0FE;\n",
              "      --fill-color: #1967D2;\n",
              "      --hover-bg-color: #E2EBFA;\n",
              "      --hover-fill-color: #174EA6;\n",
              "      --disabled-fill-color: #AAA;\n",
              "      --disabled-bg-color: #DDD;\n",
              "  }\n",
              "\n",
              "  [theme=dark] .colab-df-quickchart {\n",
              "      --bg-color: #3B4455;\n",
              "      --fill-color: #D2E3FC;\n",
              "      --hover-bg-color: #434B5C;\n",
              "      --hover-fill-color: #FFFFFF;\n",
              "      --disabled-bg-color: #3B4455;\n",
              "      --disabled-fill-color: #666;\n",
              "  }\n",
              "\n",
              "  .colab-df-quickchart {\n",
              "    background-color: var(--bg-color);\n",
              "    border: none;\n",
              "    border-radius: 50%;\n",
              "    cursor: pointer;\n",
              "    display: none;\n",
              "    fill: var(--fill-color);\n",
              "    height: 32px;\n",
              "    padding: 0;\n",
              "    width: 32px;\n",
              "  }\n",
              "\n",
              "  .colab-df-quickchart:hover {\n",
              "    background-color: var(--hover-bg-color);\n",
              "    box-shadow: 0 1px 2px rgba(60, 64, 67, 0.3), 0 1px 3px 1px rgba(60, 64, 67, 0.15);\n",
              "    fill: var(--button-hover-fill-color);\n",
              "  }\n",
              "\n",
              "  .colab-df-quickchart-complete:disabled,\n",
              "  .colab-df-quickchart-complete:disabled:hover {\n",
              "    background-color: var(--disabled-bg-color);\n",
              "    fill: var(--disabled-fill-color);\n",
              "    box-shadow: none;\n",
              "  }\n",
              "\n",
              "  .colab-df-spinner {\n",
              "    border: 2px solid var(--fill-color);\n",
              "    border-color: transparent;\n",
              "    border-bottom-color: var(--fill-color);\n",
              "    animation:\n",
              "      spin 1s steps(1) infinite;\n",
              "  }\n",
              "\n",
              "  @keyframes spin {\n",
              "    0% {\n",
              "      border-color: transparent;\n",
              "      border-bottom-color: var(--fill-color);\n",
              "      border-left-color: var(--fill-color);\n",
              "    }\n",
              "    20% {\n",
              "      border-color: transparent;\n",
              "      border-left-color: var(--fill-color);\n",
              "      border-top-color: var(--fill-color);\n",
              "    }\n",
              "    30% {\n",
              "      border-color: transparent;\n",
              "      border-left-color: var(--fill-color);\n",
              "      border-top-color: var(--fill-color);\n",
              "      border-right-color: var(--fill-color);\n",
              "    }\n",
              "    40% {\n",
              "      border-color: transparent;\n",
              "      border-right-color: var(--fill-color);\n",
              "      border-top-color: var(--fill-color);\n",
              "    }\n",
              "    60% {\n",
              "      border-color: transparent;\n",
              "      border-right-color: var(--fill-color);\n",
              "    }\n",
              "    80% {\n",
              "      border-color: transparent;\n",
              "      border-right-color: var(--fill-color);\n",
              "      border-bottom-color: var(--fill-color);\n",
              "    }\n",
              "    90% {\n",
              "      border-color: transparent;\n",
              "      border-bottom-color: var(--fill-color);\n",
              "    }\n",
              "  }\n",
              "</style>\n",
              "\n",
              "  <script>\n",
              "    async function quickchart(key) {\n",
              "      const quickchartButtonEl =\n",
              "        document.querySelector('#' + key + ' button');\n",
              "      quickchartButtonEl.disabled = true;  // To prevent multiple clicks.\n",
              "      quickchartButtonEl.classList.add('colab-df-spinner');\n",
              "      try {\n",
              "        const charts = await google.colab.kernel.invokeFunction(\n",
              "            'suggestCharts', [key], {});\n",
              "      } catch (error) {\n",
              "        console.error('Error during call to suggestCharts:', error);\n",
              "      }\n",
              "      quickchartButtonEl.classList.remove('colab-df-spinner');\n",
              "      quickchartButtonEl.classList.add('colab-df-quickchart-complete');\n",
              "    }\n",
              "    (() => {\n",
              "      let quickchartButtonEl =\n",
              "        document.querySelector('#df-9d8b308d-a44d-4682-b770-50f1a780af5d button');\n",
              "      quickchartButtonEl.style.display =\n",
              "        google.colab.kernel.accessAllowed ? 'block' : 'none';\n",
              "    })();\n",
              "  </script>\n",
              "</div>\n",
              "    </div>\n",
              "  </div>\n"
            ]
          },
          "metadata": {},
          "execution_count": 113
        }
      ]
    },
    {
      "cell_type": "markdown",
      "metadata": {
        "id": "HGE0ezZXTF0j"
      },
      "source": [
        "# Prediction"
      ]
    },
    {
      "cell_type": "code",
      "execution_count": null,
      "metadata": {
        "id": "IfDiT-5-745v"
      },
      "outputs": [],
      "source": [
        "pred = pd.Series(random_forest_rs.predict(test), index = testIP.to_frame().set_index(\"attacker_ip_enum\").index).rename(\"prediction\")"
      ]
    },
    {
      "cell_type": "code",
      "execution_count": null,
      "metadata": {
        "id": "P0xSmWSPARZg"
      },
      "outputs": [],
      "source": [
        "pred.to_csv(\"RandomF_Final.csv\")"
      ]
    },
    {
      "cell_type": "markdown",
      "source": [
        "![image.png](data:image/png;base64,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)"
      ],
      "metadata": {
        "id": "EXEg0OSegpYa"
      }
    }
  ],
  "metadata": {
    "colab": {
      "collapsed_sections": [
        "uQkcqVD_a4P8",
        "jtRMGO1V5YfH",
        "F5vIorFvSXYQ",
        "fiZ8LY0J4PxX",
        "m23dJUempZKO",
        "kimweTvwf5iG",
        "5UNC8ZD27kee"
      ],
      "provenance": [],
      "mount_file_id": "1ywFvCQNbvp0gCgzgjww-ZDWQZTCivajO",
      "authorship_tag": "ABX9TyO5uqyEXfxOn8Dl45R5x0AC",
      "include_colab_link": true
    },
    "kernelspec": {
      "display_name": "Python 3",
      "name": "python3"
    },
    "language_info": {
      "name": "python"
    }
  },
  "nbformat": 4,
  "nbformat_minor": 0
}